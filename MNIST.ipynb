{
 "cells": [
  {
   "cell_type": "code",
   "execution_count": 18,
   "id": "12a28f92-797e-4c72-a7b0-a7cc897e7dd8",
   "metadata": {},
   "outputs": [],
   "source": [
    "import torch\n",
    "import torch.nn as nn\n",
    "import torchvision\n",
    "from torchvision import transforms,datasets\n",
    "from torch.utils.data import DataLoader,random_split\n",
    "import matplotlib.pyplot as plt \n",
    "from torch.optim import Adam, SGD,RMSprop\n",
    "import numpy as np\n",
    "from sklearn.metrics import confusion_matrix\n",
    "import seaborn as sns\n"
   ]
  },
  {
   "cell_type": "code",
   "execution_count": 19,
   "id": "00b3217d-7d06-4569-9711-30630e5ac1a1",
   "metadata": {
    "scrolled": true
   },
   "outputs": [
    {
     "name": "stdout",
     "output_type": "stream",
     "text": [
      "torch.Size([100, 1, 28, 28]) torch.Size([100])\n"
     ]
    }
   ],
   "source": [
    "device = torch.device('cpu')\n",
    "\n",
    "input_size=28*28\n",
    "hidden_size=500\n",
    "num_classes=10\n",
    "num_epochs=2\n",
    "batch_size=100\n",
    "rate=.001\n",
    "\n",
    "train_cv_dataset= datasets.MNIST(root='./data',train= True, transform= transforms.ToTensor(),download=True)  #Splitting the data for training and testing\n",
    "test_dataset= datasets.MNIST(root='./data',train= False, transform= transforms.ToTensor())\n",
    "length=len(train_cv_dataset)\n",
    "train_length=length*.8\n",
    "cv_length=length*.2\n",
    "train_dataset, cv_dataset = random_split(train_cv_dataset, [int(train_length), int(cv_length)],generator=torch.Generator().manual_seed(1))\n",
    "\n",
    "train_loader= DataLoader(dataset=train_dataset, batch_size=batch_size,shuffle=True)  #Loading the data with Dataloader\n",
    "cv_loader= DataLoader(dataset=cv_dataset, batch_size=batch_size,shuffle=True)\n",
    "test_loader= DataLoader(dataset=test_dataset, batch_size=batch_size,shuffle=False)\n",
    "\n",
    "examples= iter(train_loader)\n",
    "samples,labels=next(examples)\n",
    "\n",
    "print(samples.shape,labels.shape)"
   ]
  },
  {
   "cell_type": "code",
   "execution_count": 3,
   "id": "62a02904-64de-4f47-b6f5-aa484313b86a",
   "metadata": {},
   "outputs": [
    {
     "data": {
      "image/png": "[encoded data removed]",
      "text/plain": [
       "<Figure size 640x480 with 6 Axes>"
      ]
     },
     "metadata": {},
     "output_type": "display_data"
    }
   ],
   "source": [
    "for i in range(6): \n",
    "    plt.subplot(2,3,i+1)\n",
    "    plt.imshow(samples[i][0],cmap='gray')"
   ]
  },
  {
   "cell_type": "code",
   "execution_count": 6,
   "id": "3c7bbaa4-8c50-49f1-8439-4e9ad87f3e5d",
   "metadata": {
    "collapsed": true,
    "jupyter": {
     "outputs_hidden": true
    },
    "scrolled": true
   },
   "outputs": [
    {
     "name": "stdout",
     "output_type": "stream",
     "text": [
      "Epoch [1/3], Step [80/480], Loss: 0.1513\n",
      "Epoch [1/3], Step [160/480], Loss: 0.2948\n",
      "Epoch [1/3], Step [240/480], Loss: 0.1672\n",
      "Epoch [1/3], Step [320/480], Loss: 0.1172\n",
      "Epoch [1/3], Step [400/480], Loss: 0.2174\n",
      "Epoch [1/3], Step [480/480], Loss: 0.1412\n",
      "Epoch [2/3], Step [80/480], Loss: 0.1758\n",
      "Epoch [2/3], Step [160/480], Loss: 0.0928\n",
      "Epoch [2/3], Step [240/480], Loss: 0.2956\n",
      "Epoch [2/3], Step [320/480], Loss: 0.2680\n",
      "Epoch [2/3], Step [400/480], Loss: 0.0692\n",
      "Epoch [2/3], Step [480/480], Loss: 0.0308\n",
      "Epoch [3/3], Step [80/480], Loss: 0.2648\n",
      "Epoch [3/3], Step [160/480], Loss: 0.0284\n",
      "Epoch [3/3], Step [240/480], Loss: 0.1221\n",
      "Epoch [3/3], Step [320/480], Loss: 0.0800\n",
      "Epoch [3/3], Step [400/480], Loss: 0.0383\n",
      "Epoch [3/3], Step [480/480], Loss: 0.1372\n",
      "Validation Accuracy with Model : NeuralNet1, optimizer : Adam, learning rate : 0.01,Validation Accuracy: 96.47%\n",
      "Epoch [1/3], Step [80/480], Loss: 0.1851\n",
      "Epoch [1/3], Step [160/480], Loss: 0.0018\n",
      "Epoch [1/3], Step [240/480], Loss: 0.0737\n",
      "Epoch [1/3], Step [320/480], Loss: 0.1257\n",
      "Epoch [1/3], Step [400/480], Loss: 0.1610\n",
      "Epoch [1/3], Step [480/480], Loss: 0.1670\n",
      "Epoch [2/3], Step [80/480], Loss: 0.0688\n",
      "Epoch [2/3], Step [160/480], Loss: 0.0170\n",
      "Epoch [2/3], Step [240/480], Loss: 0.1601\n",
      "Epoch [2/3], Step [320/480], Loss: 0.0156\n",
      "Epoch [2/3], Step [400/480], Loss: 0.1158\n",
      "Epoch [2/3], Step [480/480], Loss: 0.0630\n",
      "Epoch [3/3], Step [80/480], Loss: 0.0185\n",
      "Epoch [3/3], Step [160/480], Loss: 0.0354\n",
      "Epoch [3/3], Step [240/480], Loss: 0.2948\n",
      "Epoch [3/3], Step [320/480], Loss: 0.0149\n",
      "Epoch [3/3], Step [400/480], Loss: 0.0487\n",
      "Epoch [3/3], Step [480/480], Loss: 0.0483\n",
      "Validation Accuracy with Model : NeuralNet1, optimizer : RMSprop, learning rate : 0.01,Validation Accuracy: 97.10%\n",
      "Epoch [1/3], Step [80/480], Loss: 0.0295\n",
      "Epoch [1/3], Step [160/480], Loss: 0.0575\n",
      "Epoch [1/3], Step [240/480], Loss: 0.0977\n",
      "Epoch [1/3], Step [320/480], Loss: 0.0340\n",
      "Epoch [1/3], Step [400/480], Loss: 0.0659\n",
      "Epoch [1/3], Step [480/480], Loss: 0.0392\n",
      "Epoch [2/3], Step [80/480], Loss: 0.0716\n",
      "Epoch [2/3], Step [160/480], Loss: 0.0498\n",
      "Epoch [2/3], Step [240/480], Loss: 0.0218\n",
      "Epoch [2/3], Step [320/480], Loss: 0.0047\n",
      "Epoch [2/3], Step [400/480], Loss: 0.0008\n",
      "Epoch [2/3], Step [480/480], Loss: 0.0146\n",
      "Epoch [3/3], Step [80/480], Loss: 0.0055\n",
      "Epoch [3/3], Step [160/480], Loss: 0.0062\n",
      "Epoch [3/3], Step [240/480], Loss: 0.0639\n",
      "Epoch [3/3], Step [320/480], Loss: 0.0242\n",
      "Epoch [3/3], Step [400/480], Loss: 0.0457\n",
      "Epoch [3/3], Step [480/480], Loss: 0.0779\n",
      "Validation Accuracy with Model : NeuralNet1, optimizer : SGD, learning rate : 0.01,Validation Accuracy: 97.36%\n"
     ]
    },
    {
     "data": {
      "text/plain": [
       "97.36"
      ]
     },
     "execution_count": 6,
     "metadata": {},
     "output_type": "execute_result"
    }
   ],
   "source": [
    "class NeuralNet1(nn.Module):\n",
    "    def __init__(self,input_size, hidden_size, num_classes): \n",
    "       super(NeuralNet1,self).__init__()\n",
    "       self.net = nn.Sequential(\n",
    "            nn.Linear(input_size, hidden_size),\n",
    "            nn.ReLU(),\n",
    "            nn.Linear(hidden_size, num_classes)\n",
    "        )\n",
    "\n",
    "    def forward(self, x):\n",
    "        return self.net(x)\n",
    "\n",
    "model= NeuralNet1(input_size,hidden_size,num_classes).to(device)\n",
    "\n",
    "\n",
    "criterion=nn.CrossEntropyLoss()                                       # Loss Function\n",
    "\n",
    "\n",
    "def train(model,num_epochs, rate,optimizer): \n",
    "    optimizer=optimizer(model.parameters(),lr=rate )                  #Optimizer\n",
    "\n",
    "    n_total_steps=len(train_loader)\n",
    "\n",
    "    for epoch in range(num_epochs): \n",
    "        for i, (images,labels) in enumerate(train_loader):\n",
    "            images, labels = images.to(device), labels.to(device)\n",
    "            images=images.reshape(-1,28*28)\n",
    "    \n",
    "            outputs=model(images)\n",
    "            loss=criterion(outputs,labels)\n",
    "    \n",
    "            optimizer.zero_grad()\n",
    "            loss.backward()\n",
    "            optimizer.step() \n",
    "    \n",
    "            if (i+1)%80==0: \n",
    "                print (f'Epoch [{epoch+1}/{num_epochs}], Step [{i+1}/{n_total_steps}], Loss: {loss.item():.4f}')\n",
    "    \n",
    "    with torch.no_grad():                                                      #Cross validation to fine-tune the model\n",
    "        n_correct=0\n",
    "        n_samples=0\n",
    "        for images,labels in cv_loader: \n",
    "            images, labels = images.to(device), labels.to(device)\n",
    "            images=images.reshape(-1,28*28)\n",
    "            outputs=model(images)\n",
    "            _,pred=torch.max(outputs,1)\n",
    "            n_samples+=labels.shape[0]\n",
    "            n_correct+=(pred==labels).sum().item()\n",
    "    \n",
    "        acc=100.0*n_correct/n_samples                 # Accuracy = % of samples correctly predicted \n",
    "        \n",
    "        print(f'Validation Accuracy with Model : {model.__class__.__name__}, optimizer : {optimizer.__class__.__name__}, learning rate : {rate},Validation Accuracy: {acc:.2f}%')\n",
    "        return round(acc,2)\n",
    "train(model,3,.01,Adam)\n",
    "train(model,3,.01,RMSprop)                 \n",
    "train(model,3,.01,SGD)\n"
   ]
  },
  {
   "cell_type": "markdown",
   "id": "f8b08a64-3f37-4988-a14d-6a9644193143",
   "metadata": {},
   "source": [
    "We identify SGD to be the best optimizer for this model."
   ]
  },
  {
   "cell_type": "code",
   "execution_count": 7,
   "id": "ad1957c2-933b-402e-8f26-76338b318252",
   "metadata": {
    "collapsed": true,
    "jupyter": {
     "outputs_hidden": true
    },
    "scrolled": true
   },
   "outputs": [
    {
     "name": "stdout",
     "output_type": "stream",
     "text": [
      "Epoch [1/3], Step [80/480], Loss: 0.0076\n",
      "Epoch [1/3], Step [160/480], Loss: 0.0026\n",
      "Epoch [1/3], Step [240/480], Loss: 0.0847\n",
      "Epoch [1/3], Step [320/480], Loss: 0.0383\n",
      "Epoch [1/3], Step [400/480], Loss: 0.0520\n",
      "Epoch [1/3], Step [480/480], Loss: 0.0022\n",
      "Epoch [2/3], Step [80/480], Loss: 0.0119\n",
      "Epoch [2/3], Step [160/480], Loss: 0.0024\n",
      "Epoch [2/3], Step [240/480], Loss: 0.0065\n",
      "Epoch [2/3], Step [320/480], Loss: 0.0021\n",
      "Epoch [2/3], Step [400/480], Loss: 0.0006\n",
      "Epoch [2/3], Step [480/480], Loss: 0.0248\n",
      "Epoch [3/3], Step [80/480], Loss: 0.0049\n",
      "Epoch [3/3], Step [160/480], Loss: 0.0292\n",
      "Epoch [3/3], Step [240/480], Loss: 0.0020\n",
      "Epoch [3/3], Step [320/480], Loss: 0.0127\n",
      "Epoch [3/3], Step [400/480], Loss: 0.0044\n",
      "Epoch [3/3], Step [480/480], Loss: 0.0255\n",
      "Validation Accuracy with Model : NeuralNet1, optimizer : SGD, learning rate : 0.1,Validation Accuracy: 97.66%\n",
      "Epoch [1/3], Step [80/480], Loss: 0.0009\n",
      "Epoch [1/3], Step [160/480], Loss: 0.0051\n",
      "Epoch [1/3], Step [240/480], Loss: 0.0009\n",
      "Epoch [1/3], Step [320/480], Loss: 0.0085\n",
      "Epoch [1/3], Step [400/480], Loss: 0.0001\n",
      "Epoch [1/3], Step [480/480], Loss: 0.0020\n",
      "Epoch [2/3], Step [80/480], Loss: 0.0022\n",
      "Epoch [2/3], Step [160/480], Loss: 0.0190\n",
      "Epoch [2/3], Step [240/480], Loss: 0.0065\n",
      "Epoch [2/3], Step [320/480], Loss: 0.0095\n",
      "Epoch [2/3], Step [400/480], Loss: 0.0004\n",
      "Epoch [2/3], Step [480/480], Loss: 0.0003\n",
      "Epoch [3/3], Step [80/480], Loss: 0.0220\n",
      "Epoch [3/3], Step [160/480], Loss: 0.0684\n",
      "Epoch [3/3], Step [240/480], Loss: 0.0015\n",
      "Epoch [3/3], Step [320/480], Loss: 0.0021\n",
      "Epoch [3/3], Step [400/480], Loss: 0.0080\n",
      "Epoch [3/3], Step [480/480], Loss: 0.0023\n",
      "Validation Accuracy with Model : NeuralNet1, optimizer : SGD, learning rate : 0.01,Validation Accuracy: 97.67%\n",
      "Epoch [1/3], Step [80/480], Loss: 0.0010\n",
      "Epoch [1/3], Step [160/480], Loss: 0.0005\n",
      "Epoch [1/3], Step [240/480], Loss: 0.0156\n",
      "Epoch [1/3], Step [320/480], Loss: 0.0120\n",
      "Epoch [1/3], Step [400/480], Loss: 0.0043\n",
      "Epoch [1/3], Step [480/480], Loss: 0.0050\n",
      "Epoch [2/3], Step [80/480], Loss: 0.0020\n",
      "Epoch [2/3], Step [160/480], Loss: 0.0001\n",
      "Epoch [2/3], Step [240/480], Loss: 0.0009\n",
      "Epoch [2/3], Step [320/480], Loss: 0.0029\n",
      "Epoch [2/3], Step [400/480], Loss: 0.0099\n",
      "Epoch [2/3], Step [480/480], Loss: 0.0003\n",
      "Epoch [3/3], Step [80/480], Loss: 0.0036\n",
      "Epoch [3/3], Step [160/480], Loss: 0.0159\n",
      "Epoch [3/3], Step [240/480], Loss: 0.0144\n",
      "Epoch [3/3], Step [320/480], Loss: 0.0058\n",
      "Epoch [3/3], Step [400/480], Loss: 0.0138\n",
      "Epoch [3/3], Step [480/480], Loss: 0.0010\n",
      "Validation Accuracy with Model : NeuralNet1, optimizer : SGD, learning rate : 0.001,Validation Accuracy: 97.68%\n"
     ]
    },
    {
     "data": {
      "text/plain": [
       "97.68"
      ]
     },
     "execution_count": 7,
     "metadata": {},
     "output_type": "execute_result"
    }
   ],
   "source": [
    "train(model,3,.1,SGD)\n",
    "train(model,3,.01,SGD)\n",
    "train(model,3,.001,SGD)\n"
   ]
  },
  {
   "cell_type": "markdown",
   "id": "e4bb6903-7ac1-4593-a590-302d1c5ae177",
   "metadata": {},
   "source": [
    "All the learning rates give approximately same accuracy."
   ]
  },
  {
   "cell_type": "markdown",
   "id": "84a6d1f0-6e4d-4aa3-887c-b89632a1f44f",
   "metadata": {},
   "source": [
    "Now, we try adding one more linear layer to the neural network."
   ]
  },
  {
   "cell_type": "code",
   "execution_count": 9,
   "id": "184d73da-afd7-4631-86bf-d1dbbbd08172",
   "metadata": {
    "collapsed": true,
    "jupyter": {
     "outputs_hidden": true
    }
   },
   "outputs": [
    {
     "name": "stdout",
     "output_type": "stream",
     "text": [
      "Epoch [1/3], Step [80/480], Loss: 0.3699\n",
      "Epoch [1/3], Step [160/480], Loss: 0.2396\n",
      "Epoch [1/3], Step [240/480], Loss: 0.1155\n",
      "Epoch [1/3], Step [320/480], Loss: 0.2229\n",
      "Epoch [1/3], Step [400/480], Loss: 0.1731\n",
      "Epoch [1/3], Step [480/480], Loss: 0.1647\n",
      "Epoch [2/3], Step [80/480], Loss: 0.0902\n",
      "Epoch [2/3], Step [160/480], Loss: 0.2032\n",
      "Epoch [2/3], Step [240/480], Loss: 0.1415\n",
      "Epoch [2/3], Step [320/480], Loss: 0.1247\n",
      "Epoch [2/3], Step [400/480], Loss: 0.2112\n",
      "Epoch [2/3], Step [480/480], Loss: 0.0278\n",
      "Epoch [3/3], Step [80/480], Loss: 0.0931\n",
      "Epoch [3/3], Step [160/480], Loss: 0.0546\n",
      "Epoch [3/3], Step [240/480], Loss: 0.1694\n",
      "Epoch [3/3], Step [320/480], Loss: 0.1007\n",
      "Epoch [3/3], Step [400/480], Loss: 0.1301\n",
      "Epoch [3/3], Step [480/480], Loss: 0.1300\n",
      "Validation Accuracy with Model : NeuralNet2, optimizer : Adam, learning rate : 0.01,Validation Accuracy: 96.30%\n",
      "Epoch [1/3], Step [80/480], Loss: 0.0716\n",
      "Epoch [1/3], Step [160/480], Loss: 0.0405\n",
      "Epoch [1/3], Step [240/480], Loss: 0.0612\n",
      "Epoch [1/3], Step [320/480], Loss: 0.0570\n",
      "Epoch [1/3], Step [400/480], Loss: 0.0621\n",
      "Epoch [1/3], Step [480/480], Loss: 0.0979\n",
      "Epoch [2/3], Step [80/480], Loss: 0.0535\n",
      "Epoch [2/3], Step [160/480], Loss: 0.0737\n",
      "Epoch [2/3], Step [240/480], Loss: 0.0893\n",
      "Epoch [2/3], Step [320/480], Loss: 0.0384\n",
      "Epoch [2/3], Step [400/480], Loss: 0.1026\n",
      "Epoch [2/3], Step [480/480], Loss: 0.0738\n",
      "Epoch [3/3], Step [80/480], Loss: 0.0410\n",
      "Epoch [3/3], Step [160/480], Loss: 0.1953\n",
      "Epoch [3/3], Step [240/480], Loss: 0.0466\n",
      "Epoch [3/3], Step [320/480], Loss: 0.0945\n",
      "Epoch [3/3], Step [400/480], Loss: 0.2207\n",
      "Epoch [3/3], Step [480/480], Loss: 0.1303\n",
      "Validation Accuracy with Model : NeuralNet2, optimizer : SGD, learning rate : 0.01,Validation Accuracy: 97.25%\n",
      "Epoch [1/3], Step [80/480], Loss: 0.2635\n",
      "Epoch [1/3], Step [160/480], Loss: 0.1593\n",
      "Epoch [1/3], Step [240/480], Loss: 0.0973\n",
      "Epoch [1/3], Step [320/480], Loss: 0.0762\n",
      "Epoch [1/3], Step [400/480], Loss: 0.1221\n",
      "Epoch [1/3], Step [480/480], Loss: 0.1227\n",
      "Epoch [2/3], Step [80/480], Loss: 0.0123\n",
      "Epoch [2/3], Step [160/480], Loss: 0.1503\n",
      "Epoch [2/3], Step [240/480], Loss: 0.1402\n",
      "Epoch [2/3], Step [320/480], Loss: 0.0518\n",
      "Epoch [2/3], Step [400/480], Loss: 0.0667\n",
      "Epoch [2/3], Step [480/480], Loss: 0.3007\n",
      "Epoch [3/3], Step [80/480], Loss: 0.0662\n",
      "Epoch [3/3], Step [160/480], Loss: 0.0475\n",
      "Epoch [3/3], Step [240/480], Loss: 0.1201\n",
      "Epoch [3/3], Step [320/480], Loss: 0.1021\n",
      "Epoch [3/3], Step [400/480], Loss: 0.1095\n",
      "Epoch [3/3], Step [480/480], Loss: 0.1629\n",
      "Validation Accuracy with Model : NeuralNet2, optimizer : RMSprop, learning rate : 0.01,Validation Accuracy: 96.69%\n"
     ]
    },
    {
     "data": {
      "text/plain": [
       "96.69"
      ]
     },
     "execution_count": 9,
     "metadata": {},
     "output_type": "execute_result"
    }
   ],
   "source": [
    "class NeuralNet2(nn.Module):\n",
    "    def __init__(self,input_size, num_classes): \n",
    "        super(NeuralNet2,self).__init__()\n",
    "        self.net = nn.Sequential(\n",
    "            nn.Linear(input_size, 256),\n",
    "            nn.ReLU(),\n",
    "            nn.Linear(256, 128),\n",
    "            nn.ReLU(),\n",
    "            nn.Linear(128, num_classes)\n",
    "        )\n",
    "\n",
    "    def forward(self, x):\n",
    "        return self.net(x)\n",
    "\n",
    "model_2= NeuralNet2(input_size,num_classes).to(device)\n",
    "\n",
    "# loss and optimizer\n",
    "criterion=nn.CrossEntropyLoss()\n",
    "\n",
    "train(model_2,3,.01,Adam)\n",
    "train(model_2,3,.01,SGD)\n",
    "train(model_2,3,.01,RMSprop)\n",
    "\n"
   ]
  },
  {
   "cell_type": "markdown",
   "id": "fcf11fa4-3b32-4c8a-ba4c-28f713697709",
   "metadata": {},
   "source": [
    "Again, SGD comes out to be the best optimizer. Now, to decide the better model among the 2, we take average accuracy of 5 training loops on each model."
   ]
  },
  {
   "cell_type": "code",
   "execution_count": 12,
   "id": "5301da8a-57f4-466c-ad04-f5535bd7026c",
   "metadata": {
    "collapsed": true,
    "jupyter": {
     "outputs_hidden": true
    }
   },
   "outputs": [
    {
     "name": "stdout",
     "output_type": "stream",
     "text": [
      "Epoch [1/2], Step [80/480], Loss: 0.0114\n",
      "Epoch [1/2], Step [160/480], Loss: 0.0297\n",
      "Epoch [1/2], Step [240/480], Loss: 0.0452\n",
      "Epoch [1/2], Step [320/480], Loss: 0.0127\n",
      "Epoch [1/2], Step [400/480], Loss: 0.0146\n",
      "Epoch [1/2], Step [480/480], Loss: 0.0001\n",
      "Epoch [2/2], Step [80/480], Loss: 0.0139\n",
      "Epoch [2/2], Step [160/480], Loss: 0.0001\n",
      "Epoch [2/2], Step [240/480], Loss: 0.0102\n",
      "Epoch [2/2], Step [320/480], Loss: 0.0639\n",
      "Epoch [2/2], Step [400/480], Loss: 0.0249\n",
      "Epoch [2/2], Step [480/480], Loss: 0.0091\n",
      "Validation Accuracy with Model : NeuralNet1, optimizer : SGD, learning rate : 0.01,Validation Accuracy: 97.72%\n",
      "Epoch [1/2], Step [80/480], Loss: 0.0180\n",
      "Epoch [1/2], Step [160/480], Loss: 0.1013\n",
      "Epoch [1/2], Step [240/480], Loss: 0.0134\n",
      "Epoch [1/2], Step [320/480], Loss: 0.0307\n",
      "Epoch [1/2], Step [400/480], Loss: 0.0072\n",
      "Epoch [1/2], Step [480/480], Loss: 0.0409\n",
      "Epoch [2/2], Step [80/480], Loss: 0.0220\n",
      "Epoch [2/2], Step [160/480], Loss: 0.0032\n",
      "Epoch [2/2], Step [240/480], Loss: 0.1267\n",
      "Epoch [2/2], Step [320/480], Loss: 0.0026\n",
      "Epoch [2/2], Step [400/480], Loss: 0.0287\n",
      "Epoch [2/2], Step [480/480], Loss: 0.0186\n",
      "Validation Accuracy with Model : NeuralNet2, optimizer : SGD, learning rate : 0.01,Validation Accuracy: 97.78%\n",
      "Epoch [1/2], Step [80/480], Loss: 0.0042\n",
      "Epoch [1/2], Step [160/480], Loss: 0.0016\n",
      "Epoch [1/2], Step [240/480], Loss: 0.0034\n",
      "Epoch [1/2], Step [320/480], Loss: 0.0047\n",
      "Epoch [1/2], Step [400/480], Loss: 0.0095\n",
      "Epoch [1/2], Step [480/480], Loss: 0.0016\n",
      "Epoch [2/2], Step [80/480], Loss: 0.0073\n",
      "Epoch [2/2], Step [160/480], Loss: 0.0023\n",
      "Epoch [2/2], Step [240/480], Loss: 0.0009\n",
      "Epoch [2/2], Step [320/480], Loss: 0.0070\n",
      "Epoch [2/2], Step [400/480], Loss: 0.0085\n",
      "Epoch [2/2], Step [480/480], Loss: 0.0114\n",
      "Validation Accuracy with Model : NeuralNet1, optimizer : SGD, learning rate : 0.01,Validation Accuracy: 97.72%\n",
      "Epoch [1/2], Step [80/480], Loss: 0.0125\n",
      "Epoch [1/2], Step [160/480], Loss: 0.0043\n",
      "Epoch [1/2], Step [240/480], Loss: 0.0038\n",
      "Epoch [1/2], Step [320/480], Loss: 0.0037\n",
      "Epoch [1/2], Step [400/480], Loss: 0.0431\n",
      "Epoch [1/2], Step [480/480], Loss: 0.0404\n",
      "Epoch [2/2], Step [80/480], Loss: 0.0483\n",
      "Epoch [2/2], Step [160/480], Loss: 0.0032\n",
      "Epoch [2/2], Step [240/480], Loss: 0.0473\n",
      "Epoch [2/2], Step [320/480], Loss: 0.0401\n",
      "Epoch [2/2], Step [400/480], Loss: 0.0198\n",
      "Epoch [2/2], Step [480/480], Loss: 0.0507\n",
      "Validation Accuracy with Model : NeuralNet2, optimizer : SGD, learning rate : 0.01,Validation Accuracy: 97.77%\n",
      "Epoch [1/2], Step [80/480], Loss: 0.0019\n",
      "Epoch [1/2], Step [160/480], Loss: 0.0087\n",
      "Epoch [1/2], Step [240/480], Loss: 0.0018\n",
      "Epoch [1/2], Step [320/480], Loss: 0.0013\n",
      "Epoch [1/2], Step [400/480], Loss: 0.0051\n",
      "Epoch [1/2], Step [480/480], Loss: 0.0020\n",
      "Epoch [2/2], Step [80/480], Loss: 0.0125\n",
      "Epoch [2/2], Step [160/480], Loss: 0.0004\n",
      "Epoch [2/2], Step [240/480], Loss: 0.0001\n",
      "Epoch [2/2], Step [320/480], Loss: 0.0025\n",
      "Epoch [2/2], Step [400/480], Loss: 0.0017\n",
      "Epoch [2/2], Step [480/480], Loss: 0.0053\n",
      "Validation Accuracy with Model : NeuralNet1, optimizer : SGD, learning rate : 0.01,Validation Accuracy: 97.73%\n",
      "Epoch [1/2], Step [80/480], Loss: 0.0047\n",
      "Epoch [1/2], Step [160/480], Loss: 0.0028\n",
      "Epoch [1/2], Step [240/480], Loss: 0.0094\n",
      "Epoch [1/2], Step [320/480], Loss: 0.0138\n",
      "Epoch [1/2], Step [400/480], Loss: 0.0312\n",
      "Epoch [1/2], Step [480/480], Loss: 0.0082\n",
      "Epoch [2/2], Step [80/480], Loss: 0.0512\n",
      "Epoch [2/2], Step [160/480], Loss: 0.0085\n",
      "Epoch [2/2], Step [240/480], Loss: 0.0169\n",
      "Epoch [2/2], Step [320/480], Loss: 0.0132\n",
      "Epoch [2/2], Step [400/480], Loss: 0.0362\n",
      "Epoch [2/2], Step [480/480], Loss: 0.0035\n",
      "Validation Accuracy with Model : NeuralNet2, optimizer : SGD, learning rate : 0.01,Validation Accuracy: 97.79%\n",
      "Epoch [1/2], Step [80/480], Loss: 0.0029\n",
      "Epoch [1/2], Step [160/480], Loss: 0.0025\n",
      "Epoch [1/2], Step [240/480], Loss: 0.0038\n",
      "Epoch [1/2], Step [320/480], Loss: 0.0025\n",
      "Epoch [1/2], Step [400/480], Loss: 0.0153\n",
      "Epoch [1/2], Step [480/480], Loss: 0.0037\n",
      "Epoch [2/2], Step [80/480], Loss: 0.0101\n",
      "Epoch [2/2], Step [160/480], Loss: 0.0248\n",
      "Epoch [2/2], Step [240/480], Loss: 0.0131\n",
      "Epoch [2/2], Step [320/480], Loss: 0.0112\n",
      "Epoch [2/2], Step [400/480], Loss: 0.0030\n",
      "Epoch [2/2], Step [480/480], Loss: 0.0072\n",
      "Validation Accuracy with Model : NeuralNet1, optimizer : SGD, learning rate : 0.01,Validation Accuracy: 97.75%\n",
      "Epoch [1/2], Step [80/480], Loss: 0.0330\n",
      "Epoch [1/2], Step [160/480], Loss: 0.0300\n",
      "Epoch [1/2], Step [240/480], Loss: 0.0136\n",
      "Epoch [1/2], Step [320/480], Loss: 0.0307\n",
      "Epoch [1/2], Step [400/480], Loss: 0.0012\n",
      "Epoch [1/2], Step [480/480], Loss: 0.0203\n",
      "Epoch [2/2], Step [80/480], Loss: 0.0091\n",
      "Epoch [2/2], Step [160/480], Loss: 0.0093\n",
      "Epoch [2/2], Step [240/480], Loss: 0.0459\n",
      "Epoch [2/2], Step [320/480], Loss: 0.0003\n",
      "Epoch [2/2], Step [400/480], Loss: 0.0163\n",
      "Epoch [2/2], Step [480/480], Loss: 0.0756\n",
      "Validation Accuracy with Model : NeuralNet2, optimizer : SGD, learning rate : 0.01,Validation Accuracy: 97.76%\n",
      "Epoch [1/2], Step [80/480], Loss: 0.0149\n",
      "Epoch [1/2], Step [160/480], Loss: 0.0387\n",
      "Epoch [1/2], Step [240/480], Loss: 0.0051\n",
      "Epoch [1/2], Step [320/480], Loss: 0.0191\n",
      "Epoch [1/2], Step [400/480], Loss: 0.0076\n",
      "Epoch [1/2], Step [480/480], Loss: 0.0276\n",
      "Epoch [2/2], Step [80/480], Loss: 0.0049\n",
      "Epoch [2/2], Step [160/480], Loss: 0.0011\n",
      "Epoch [2/2], Step [240/480], Loss: 0.0043\n",
      "Epoch [2/2], Step [320/480], Loss: 0.0046\n",
      "Epoch [2/2], Step [400/480], Loss: 0.0052\n",
      "Epoch [2/2], Step [480/480], Loss: 0.0012\n",
      "Validation Accuracy with Model : NeuralNet1, optimizer : SGD, learning rate : 0.01,Validation Accuracy: 97.75%\n",
      "Epoch [1/2], Step [80/480], Loss: 0.0116\n",
      "Epoch [1/2], Step [160/480], Loss: 0.0189\n",
      "Epoch [1/2], Step [240/480], Loss: 0.0053\n",
      "Epoch [1/2], Step [320/480], Loss: 0.1023\n",
      "Epoch [1/2], Step [400/480], Loss: 0.0239\n",
      "Epoch [1/2], Step [480/480], Loss: 0.0049\n",
      "Epoch [2/2], Step [80/480], Loss: 0.0652\n",
      "Epoch [2/2], Step [160/480], Loss: 0.0019\n",
      "Epoch [2/2], Step [240/480], Loss: 0.0082\n",
      "Epoch [2/2], Step [320/480], Loss: 0.0214\n",
      "Epoch [2/2], Step [400/480], Loss: 0.0355\n",
      "Epoch [2/2], Step [480/480], Loss: 0.0008\n",
      "Validation Accuracy with Model : NeuralNet2, optimizer : SGD, learning rate : 0.01,Validation Accuracy: 97.80%\n",
      "Average accuracy for model 1 = 97.75\n",
      "Average accuracy for model 2 = 97.8\n"
     ]
    }
   ],
   "source": [
    "model_acc=[]\n",
    "model_2_acc=[]\n",
    "\n",
    "for i in range(5): \n",
    "    acc_1=train(model,2,.01,SGD)\n",
    "    acc_2=train(model_2,2,.01,SGD)\n",
    "    model_acc.append(acc_1)\n",
    "    model_2_acc.append(acc_2)\n",
    "\n",
    "print('Average accuracy for model 1 =',np.mean(acc_1).item())\n",
    "print('Average accuracy for model 2 =',np.mean(acc_2).item())"
   ]
  },
  {
   "cell_type": "markdown",
   "id": "4ed0424b-d4ae-4f7d-ad78-6cd72b47c718",
   "metadata": {},
   "source": [
    "So, model 2 is slightly better, in fact, the difference in the accuracy falls within the natural variation due to different training loops. Nevertheless, we finalize model 2 with SGD optimizer and learning rate .001 as our final model."
   ]
  },
  {
   "cell_type": "code",
   "execution_count": 16,
   "id": "a9d0fff7-ca01-47ee-b7ea-6ee1c4d08520",
   "metadata": {},
   "outputs": [
    {
     "name": "stdout",
     "output_type": "stream",
     "text": [
      "Test Accuracy with Model : NeuralNet1, optimizer : SGD, learning rate : 0.001, 97.67%\n"
     ]
    }
   ],
   "source": [
    "with torch.no_grad(): \n",
    "        n_correct=0\n",
    "        n_samples=0\n",
    "        optimizer=SGD(model_2.parameters(),lr=.001)\n",
    "        for images,labels in test_loader: \n",
    "            images, labels = images.to(device), labels.to(device)\n",
    "            images=images.reshape(-1,28*28)\n",
    "            outputs=model_2(images)\n",
    "            _,pred=torch.max(outputs,1)\n",
    "            n_samples+=labels.shape[0]\n",
    "            n_correct+=(pred==labels).sum().item()\n",
    "    \n",
    "        acc=100.0*n_correct/n_samples\n",
    "        print(f'Test Accuracy with Model : {model.__class__.__name__}, optimizer : {optimizer.__class__.__name__}, learning rate : {rate}, {acc:.2f}%')"
   ]
  },
  {
   "cell_type": "markdown",
   "id": "d8b9ccc8-7aba-4a9a-9701-68bfe1ad3a3f",
   "metadata": {},
   "source": [
    "We obtain 97.67% accuracy on the test dataset."
   ]
  },
  {
   "cell_type": "code",
   "execution_count": 17,
   "id": "ba9b5285-a404-472e-98d4-2ec921a59dfe",
   "metadata": {},
   "outputs": [
    {
     "data": {
      "image/png": "[encoded data removed]",
      "text/plain": [
       "<Figure size 1200x400 with 10 Axes>"
      ]
     },
     "metadata": {},
     "output_type": "display_data"
    }
   ],
   "source": [
    "def visualize_predictions(model, data_loader, num_images=6):\n",
    "    model.eval()\n",
    "    images_shown = 0\n",
    "\n",
    "    plt.figure(figsize=(12, 4))\n",
    "    with torch.no_grad():\n",
    "        for images, labels in data_loader:\n",
    "            images, labels = images.to(device), labels.to(device)\n",
    "            outputs = model_2(images.view(images.size(0), -1))  # flatten if using MLP\n",
    "            _, preds = torch.max(outputs, 1)\n",
    "\n",
    "            for i in range(images.size(0)):\n",
    "                if images_shown >= num_images:\n",
    "                    plt.show()\n",
    "                    return\n",
    "\n",
    "                plt.subplot(1, num_images, images_shown + 1)\n",
    "                plt.imshow(images[i].cpu().squeeze(), cmap='gray')\n",
    "                plt.title(f\"Pred: {preds[i].item()}\\nActual: {labels[i].item()}\")\n",
    "                plt.axis('off')\n",
    "\n",
    "                images_shown += 1\n",
    "visualize_predictions(model,test_loader,10)"
   ]
  },
  {
   "cell_type": "markdown",
   "id": "58a2ecc2-b2e8-447d-b231-114c133d1ed2",
   "metadata": {},
   "source": [
    "Confusion Matrix"
   ]
  },
  {
   "cell_type": "code",
   "execution_count": 22,
   "id": "d56b84ad-66d1-484d-a4c4-9549f3a3e301",
   "metadata": {},
   "outputs": [
    {
     "data": {
      "image/png": "[encoded data removed]",
      "text/plain": [
       "<Figure size 800x600 with 2 Axes>"
      ]
     },
     "metadata": {},
     "output_type": "display_data"
    }
   ],
   "source": [
    "def get_all_preds(model, data_loader):\n",
    "    model.eval()\n",
    "    all_preds = []\n",
    "    all_labels = []\n",
    "\n",
    "    with torch.no_grad():\n",
    "        for images, labels in data_loader:\n",
    "            images = images.to(device)\n",
    "            labels = labels.to(device)\n",
    "            outputs = model(images.view(images.size(0), -1))  # flatten if MLP\n",
    "            _, preds = torch.max(outputs, 1)\n",
    "            all_preds.extend(preds.cpu().numpy())\n",
    "            all_labels.extend(labels.cpu().numpy())\n",
    "\n",
    "    return np.array(all_labels), np.array(all_preds)\n",
    "\n",
    "y_true, y_pred = get_all_preds(model_2, test_loader)\n",
    "cm = confusion_matrix(y_true, y_pred)\n",
    "\n",
    "plt.figure(figsize=(8,6))\n",
    "sns.heatmap(cm, annot=True, fmt='d', cmap='BuPu', xticklabels=range(10), yticklabels=range(10))\n",
    "plt.xlabel('Predicted')\n",
    "plt.ylabel('Actual')\n",
    "plt.title('Confusion Matrix')\n",
    "plt.show()\n",
    "\n"
   ]
  },
  {
   "cell_type": "markdown",
   "id": "c236cb29-93ac-4b34-b05a-95404b6c75ef",
   "metadata": {},
   "source": [
    "<h1>REPORT:</h1> "
   ]
  },
  {
   "cell_type": "markdown",
   "id": "a2dcb648-edd5-4a6f-93c8-dcb9b36084fd",
   "metadata": {},
   "source": [
    "**Model Architechture:**\n",
    "\n",
    "Linear(input_size, 256)  \n",
    "nn.ReLU()  \n",
    "nn.Linear(256, 128)  \n",
    "nn.ReLU()  \n",
    "nn.Linear(128, num_classes)  \n",
    "\n",
    "Linear function with input size of the training data and output of 256, followed by a rectified linear unit (ReLU) activation function.\n",
    "Then another linear function with input and output size of 256 and 228, followed by another ReLU, then finally a linear function with 128 input \n",
    "and 10 outputs each mapping to 10 different digits.\n",
    "\n",
    "Optimizer : SGD  \n",
    "Loss function : Cross entropy loss  \n",
    "Learning rate : 0.001"
   ]
  },
  {
   "cell_type": "markdown",
   "id": "46a9f5f6-0c02-4cc5-8b1f-93ec18e6a015",
   "metadata": {},
   "source": [
    "**Training**\n",
    "\n",
    "The data was divided into 3 parts, in 1:6 ratio for testing and training-cross-validation, \n",
    "the larger chunk was then divided into training and cross-validation dataset in 4:1 ratio.\n",
    "The model was trained in 3 epochs each with 480 steps. "
   ]
  },
  {
   "cell_type": "markdown",
   "id": "e32a94ba-2949-42ee-8aff-8968dadf3312",
   "metadata": {},
   "source": [
    "**Performance**  \n",
    "The model accuracy on the test data was 97.67 percent."
   ]
  }
 ],
 "metadata": {
  "kernelspec": {
   "display_name": "Python 3 (ipykernel)",
   "language": "python",
   "name": "python3"
  },
  "language_info": {
   "codemirror_mode": {
    "name": "ipython",
    "version": 3
   },
   "file_extension": ".py",
   "mimetype": "text/x-python",
   "name": "python",
   "nbconvert_exporter": "python",
   "pygments_lexer": "ipython3",
   "version": "3.12.8"
  }
 },
 "nbformat": 4,
 "nbformat_minor": 5
}
