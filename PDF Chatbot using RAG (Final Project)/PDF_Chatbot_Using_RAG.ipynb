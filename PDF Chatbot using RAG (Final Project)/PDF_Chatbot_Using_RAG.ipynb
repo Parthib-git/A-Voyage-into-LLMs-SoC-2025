{
 "cells": [
  {
   "cell_type": "code",
   "execution_count": 1,
   "metadata": {
    "colab": {
     "base_uri": "https://localhost:8080/"
    },
    "collapsed": true,
    "id": "520myve5p4cU",
    "jupyter": {
     "outputs_hidden": true
    },
    "outputId": "1db63d1a-f37a-49f2-8011-6b9d0946c431"
   },
   "outputs": [
    {
     "name": "stdout",
     "output_type": "stream",
     "text": [
      "\u001b[2K     \u001b[90m━━━━━━━━━━━━━━━━━━━━━━━━━━━━━━━━━━━━━━━━\u001b[0m \u001b[32m42.8/42.8 kB\u001b[0m \u001b[31m3.0 MB/s\u001b[0m eta \u001b[36m0:00:00\u001b[0m\n",
      "\u001b[2K     \u001b[90m━━━━━━━━━━━━━━━━━━━━━━━━━━━━━━━━━━━━━━━━\u001b[0m \u001b[32m48.2/48.2 kB\u001b[0m \u001b[31m3.9 MB/s\u001b[0m eta \u001b[36m0:00:00\u001b[0m\n",
      "\u001b[2K     \u001b[90m━━━━━━━━━━━━━━━━━━━━━━━━━━━━━━━━━━━━━━━━\u001b[0m \u001b[32m67.3/67.3 kB\u001b[0m \u001b[31m5.3 MB/s\u001b[0m eta \u001b[36m0:00:00\u001b[0m\n",
      "\u001b[?25h  Installing build dependencies ... \u001b[?25l\u001b[?25hdone\n",
      "  Getting requirements to build wheel ... \u001b[?25l\u001b[?25hdone\n",
      "  Preparing metadata (pyproject.toml) ... \u001b[?25l\u001b[?25hdone\n",
      "\u001b[2K   \u001b[90m━━━━━━━━━━━━━━━━━━━━━━━━━━━━━━━━━━━━━━━━\u001b[0m \u001b[32m60.0/60.0 kB\u001b[0m \u001b[31m5.1 MB/s\u001b[0m eta \u001b[36m0:00:00\u001b[0m\n",
      "\u001b[2K   \u001b[90m━━━━━━━━━━━━━━━━━━━━━━━━━━━━━━━━━━━━━━━━\u001b[0m \u001b[32m5.6/5.6 MB\u001b[0m \u001b[31m77.3 MB/s\u001b[0m eta \u001b[36m0:00:00\u001b[0m\n",
      "\u001b[2K   \u001b[90m━━━━━━━━━━━━━━━━━━━━━━━━━━━━━━━━━━━━━━━━\u001b[0m \u001b[32m2.5/2.5 MB\u001b[0m \u001b[31m56.6 MB/s\u001b[0m eta \u001b[36m0:00:00\u001b[0m\n",
      "\u001b[2K   \u001b[90m━━━━━━━━━━━━━━━━━━━━━━━━━━━━━━━━━━━━━━━━\u001b[0m \u001b[32m19.5/19.5 MB\u001b[0m \u001b[31m73.8 MB/s\u001b[0m eta \u001b[36m0:00:00\u001b[0m\n",
      "\u001b[2K   \u001b[90m━━━━━━━━━━━━━━━━━━━━━━━━━━━━━━━━━━━━━━━━\u001b[0m \u001b[32m363.4/363.4 MB\u001b[0m \u001b[31m4.4 MB/s\u001b[0m eta \u001b[36m0:00:00\u001b[0m\n",
      "\u001b[2K   \u001b[90m━━━━━━━━━━━━━━━━━━━━━━━━━━━━━━━━━━━━━━━━\u001b[0m \u001b[32m13.8/13.8 MB\u001b[0m \u001b[31m86.0 MB/s\u001b[0m eta \u001b[36m0:00:00\u001b[0m\n",
      "\u001b[2K   \u001b[90m━━━━━━━━━━━━━━━━━━━━━━━━━━━━━━━━━━━━━━━━\u001b[0m \u001b[32m24.6/24.6 MB\u001b[0m \u001b[31m65.5 MB/s\u001b[0m eta \u001b[36m0:00:00\u001b[0m\n",
      "\u001b[2K   \u001b[90m━━━━━━━━━━━━━━━━━━━━━━━━━━━━━━━━━━━━━━━━\u001b[0m \u001b[32m883.7/883.7 kB\u001b[0m \u001b[31m39.9 MB/s\u001b[0m eta \u001b[36m0:00:00\u001b[0m\n",
      "\u001b[2K   \u001b[90m━━━━━━━━━━━━━━━━━━━━━━━━━━━━━━━━━━━━━━━━\u001b[0m \u001b[32m664.8/664.8 MB\u001b[0m \u001b[31m1.3 MB/s\u001b[0m eta \u001b[36m0:00:00\u001b[0m\n",
      "\u001b[2K   \u001b[90m━━━━━━━━━━━━━━━━━━━━━━━━━━━━━━━━━━━━━━━━\u001b[0m \u001b[32m211.5/211.5 MB\u001b[0m \u001b[31m6.5 MB/s\u001b[0m eta \u001b[36m0:00:00\u001b[0m\n",
      "\u001b[2K   \u001b[90m━━━━━━━━━━━━━━━━━━━━━━━━━━━━━━━━━━━━━━━━\u001b[0m \u001b[32m56.3/56.3 MB\u001b[0m \u001b[31m15.1 MB/s\u001b[0m eta \u001b[36m0:00:00\u001b[0m\n",
      "\u001b[2K   \u001b[90m━━━━━━━━━━━━━━━━━━━━━━━━━━━━━━━━━━━━━━━━\u001b[0m \u001b[32m127.9/127.9 MB\u001b[0m \u001b[31m8.4 MB/s\u001b[0m eta \u001b[36m0:00:00\u001b[0m\n",
      "\u001b[2K   \u001b[90m━━━━━━━━━━━━━━━━━━━━━━━━━━━━━━━━━━━━━━━━\u001b[0m \u001b[32m207.5/207.5 MB\u001b[0m \u001b[31m5.6 MB/s\u001b[0m eta \u001b[36m0:00:00\u001b[0m\n",
      "\u001b[2K   \u001b[90m━━━━━━━━━━━━━━━━━━━━━━━━━━━━━━━━━━━━━━━━\u001b[0m \u001b[32m21.1/21.1 MB\u001b[0m \u001b[31m98.3 MB/s\u001b[0m eta \u001b[36m0:00:00\u001b[0m\n",
      "\u001b[2K   \u001b[90m━━━━━━━━━━━━━━━━━━━━━━━━━━━━━━━━━━━━━━━━\u001b[0m \u001b[32m1.4/1.4 MB\u001b[0m \u001b[31m56.9 MB/s\u001b[0m eta \u001b[36m0:00:00\u001b[0m\n",
      "\u001b[2K   \u001b[90m━━━━━━━━━━━━━━━━━━━━━━━━━━━━━━━━━━━━━━━━\u001b[0m \u001b[32m284.2/284.2 kB\u001b[0m \u001b[31m27.6 MB/s\u001b[0m eta \u001b[36m0:00:00\u001b[0m\n",
      "\u001b[2K   \u001b[90m━━━━━━━━━━━━━━━━━━━━━━━━━━━━━━━━━━━━━━━━\u001b[0m \u001b[32m1.9/1.9 MB\u001b[0m \u001b[31m92.0 MB/s\u001b[0m eta \u001b[36m0:00:00\u001b[0m\n",
      "\u001b[2K   \u001b[90m━━━━━━━━━━━━━━━━━━━━━━━━━━━━━━━━━━━━━━━━\u001b[0m \u001b[32m101.6/101.6 kB\u001b[0m \u001b[31m11.3 MB/s\u001b[0m eta \u001b[36m0:00:00\u001b[0m\n",
      "\u001b[2K   \u001b[90m━━━━━━━━━━━━━━━━━━━━━━━━━━━━━━━━━━━━━━━━\u001b[0m \u001b[32m16.5/16.5 MB\u001b[0m \u001b[31m113.1 MB/s\u001b[0m eta \u001b[36m0:00:00\u001b[0m\n",
      "\u001b[2K   \u001b[90m━━━━━━━━━━━━━━━━━━━━━━━━━━━━━━━━━━━━━━━━\u001b[0m \u001b[32m65.6/65.6 kB\u001b[0m \u001b[31m6.7 MB/s\u001b[0m eta \u001b[36m0:00:00\u001b[0m\n",
      "\u001b[2K   \u001b[90m━━━━━━━━━━━━━━━━━━━━━━━━━━━━━━━━━━━━━━━━\u001b[0m \u001b[32m72.5/72.5 kB\u001b[0m \u001b[31m7.8 MB/s\u001b[0m eta \u001b[36m0:00:00\u001b[0m\n",
      "\u001b[2K   \u001b[90m━━━━━━━━━━━━━━━━━━━━━━━━━━━━━━━━━━━━━━━━\u001b[0m \u001b[32m119.4/119.4 kB\u001b[0m \u001b[31m12.9 MB/s\u001b[0m eta \u001b[36m0:00:00\u001b[0m\n",
      "\u001b[2K   \u001b[90m━━━━━━━━━━━━━━━━━━━━━━━━━━━━━━━━━━━━━━━━\u001b[0m \u001b[32m201.6/201.6 kB\u001b[0m \u001b[31m20.9 MB/s\u001b[0m eta \u001b[36m0:00:00\u001b[0m\n",
      "\u001b[2K   \u001b[90m━━━━━━━━━━━━━━━━━━━━━━━━━━━━━━━━━━━━━━━━\u001b[0m \u001b[32m105.4/105.4 kB\u001b[0m \u001b[31m12.0 MB/s\u001b[0m eta \u001b[36m0:00:00\u001b[0m\n",
      "\u001b[2K   \u001b[90m━━━━━━━━━━━━━━━━━━━━━━━━━━━━━━━━━━━━━━━━\u001b[0m \u001b[32m71.2/71.2 kB\u001b[0m \u001b[31m7.8 MB/s\u001b[0m eta \u001b[36m0:00:00\u001b[0m\n",
      "\u001b[2K   \u001b[90m━━━━━━━━━━━━━━━━━━━━━━━━━━━━━━━━━━━━━━━━\u001b[0m \u001b[32m45.2/45.2 kB\u001b[0m \u001b[31m4.7 MB/s\u001b[0m eta \u001b[36m0:00:00\u001b[0m\n",
      "\u001b[2K   \u001b[90m━━━━━━━━━━━━━━━━━━━━━━━━━━━━━━━━━━━━━━━━\u001b[0m \u001b[32m2.9/2.9 MB\u001b[0m \u001b[31m102.3 MB/s\u001b[0m eta \u001b[36m0:00:00\u001b[0m\n",
      "\u001b[2K   \u001b[90m━━━━━━━━━━━━━━━━━━━━━━━━━━━━━━━━━━━━━━━━\u001b[0m \u001b[32m459.8/459.8 kB\u001b[0m \u001b[31m39.2 MB/s\u001b[0m eta \u001b[36m0:00:00\u001b[0m\n",
      "\u001b[2K   \u001b[90m━━━━━━━━━━━━━━━━━━━━━━━━━━━━━━━━━━━━━━━━\u001b[0m \u001b[32m50.9/50.9 kB\u001b[0m \u001b[31m5.6 MB/s\u001b[0m eta \u001b[36m0:00:00\u001b[0m\n",
      "\u001b[2K   \u001b[90m━━━━━━━━━━━━━━━━━━━━━━━━━━━━━━━━━━━━━━━━\u001b[0m \u001b[32m4.0/4.0 MB\u001b[0m \u001b[31m113.5 MB/s\u001b[0m eta \u001b[36m0:00:00\u001b[0m\n",
      "\u001b[2K   \u001b[90m━━━━━━━━━━━━━━━━━━━━━━━━━━━━━━━━━━━━━━━━\u001b[0m \u001b[32m453.1/453.1 kB\u001b[0m \u001b[31m41.3 MB/s\u001b[0m eta \u001b[36m0:00:00\u001b[0m\n",
      "\u001b[2K   \u001b[90m━━━━━━━━━━━━━━━━━━━━━━━━━━━━━━━━━━━━━━━━\u001b[0m \u001b[32m46.0/46.0 kB\u001b[0m \u001b[31m4.8 MB/s\u001b[0m eta \u001b[36m0:00:00\u001b[0m\n",
      "\u001b[2K   \u001b[90m━━━━━━━━━━━━━━━━━━━━━━━━━━━━━━━━━━━━━━━━\u001b[0m \u001b[32m86.8/86.8 kB\u001b[0m \u001b[31m9.4 MB/s\u001b[0m eta \u001b[36m0:00:00\u001b[0m\n",
      "\u001b[?25h  Building wheel for pypika (pyproject.toml) ... \u001b[?25l\u001b[?25hdone\n"
     ]
    }
   ],
   "source": [
    "!pip install -q pdfplumber langchain langchain-community langchain_huggingface chromadb huggingface_hub sentence-transformers nltk torch gradio transformers accelerate gradio_pdf"
   ]
  },
  {
   "cell_type": "code",
   "execution_count": 32,
   "metadata": {
    "colab": {
     "base_uri": "https://localhost:8080/"
    },
    "id": "1ivD66efqNoO",
    "outputId": "0ac779eb-dfa8-4fd4-bec9-ec8fc98c610a"
   },
   "outputs": [
    {
     "name": "stderr",
     "output_type": "stream",
     "text": [
      "[nltk_data] Downloading package punkt_tab to /root/nltk_data...\n",
      "[nltk_data]   Package punkt_tab is already up-to-date!\n"
     ]
    }
   ],
   "source": [
    "import pdfplumber\n",
    "import re\n",
    "from langchain.vectorstores import Chroma, FAISS\n",
    "from langchain_huggingface import HuggingFaceEndpointEmbeddings\n",
    "import nltk\n",
    "nltk.download('punkt_tab')\n",
    "from langchain.text_splitter import NLTKTextSplitter\n",
    "import torch\n",
    "import gradio as gr\n",
    "from gradio_pdf import PDF\n",
    "from transformers import AutoTokenizer, AutoModelForSeq2SeqLM, AutoModelForCausalLM"
   ]
  },
  {
   "cell_type": "markdown",
   "metadata": {
    "id": "tRtGYhbAtL5U"
   },
   "source": [
    "<h2>Preprocessing the PDF</h2>\n",
    "<h4>Extracting the text using pdfplumber and cleaning it using regex.</h4>"
   ]
  },
  {
   "cell_type": "code",
   "execution_count": 3,
   "metadata": {
    "id": "SmUQWnqVqoG0"
   },
   "outputs": [],
   "source": [
    "def read_and_clean_pdf(PDF):\n",
    "    text = \"\"\n",
    "    with pdfplumber.open(PDF) as pdf:\n",
    "        for page in pdf.pages:\n",
    "            page_text = page.extract_text()\n",
    "            if page_text:\n",
    "                page_text = re.sub(r'\\n+', '\\n', page_text)\n",
    "                page_text = re.sub(r'[ \\t]+', ' ', page_text)\n",
    "                page_text = re.sub(r'[^\\x00-\\x7F]+', ' ', page_text)\n",
    "                page_text = re.sub(r'-\\n', '', page_text)\n",
    "                text += page_text + \"\\n\"\n",
    "    return text.strip()\n"
   ]
  },
  {
   "cell_type": "code",
   "execution_count": 98,
   "metadata": {
    "colab": {
     "base_uri": "https://localhost:8080/",
     "height": 73
    },
    "id": "KUhDeS5hq-Au",
    "outputId": "f9a0a5c5-15d3-4967-d728-4cb01cc8dfe8"
   },
   "outputs": [
    {
     "data": {
      "text/html": [
       "\n",
       "     <input type=\"file\" id=\"files-6f3b4f8a-05e0-463a-9478-5399e4a0aefa\" name=\"files[]\" multiple disabled\n",
       "        style=\"border:none\" />\n",
       "     <output id=\"result-6f3b4f8a-05e0-463a-9478-5399e4a0aefa\">\n",
       "      Upload widget is only available when the cell has been executed in the\n",
       "      current browser session. Please rerun this cell to enable.\n",
       "      </output>\n",
       "      <script>// Copyright 2017 Google LLC\n",
       "//\n",
       "// Licensed under the Apache License, Version 2.0 (the \"License\");\n",
       "// you may not use this file except in compliance with the License.\n",
       "// You may obtain a copy of the License at\n",
       "//\n",
       "//      http://www.apache.org/licenses/LICENSE-2.0\n",
       "//\n",
       "// Unless required by applicable law or agreed to in writing, software\n",
       "// distributed under the License is distributed on an \"AS IS\" BASIS,\n",
       "// WITHOUT WARRANTIES OR CONDITIONS OF ANY KIND, either express or implied.\n",
       "// See the License for the specific language governing permissions and\n",
       "// limitations under the License.\n",
       "\n",
       "/**\n",
       " * @fileoverview Helpers for google.colab Python module.\n",
       " */\n",
       "(function(scope) {\n",
       "function span(text, styleAttributes = {}) {\n",
       "  const element = document.createElement('span');\n",
       "  element.textContent = text;\n",
       "  for (const key of Object.keys(styleAttributes)) {\n",
       "    element.style[key] = styleAttributes[key];\n",
       "  }\n",
       "  return element;\n",
       "}\n",
       "\n",
       "// Max number of bytes which will be uploaded at a time.\n",
       "const MAX_PAYLOAD_SIZE = 100 * 1024;\n",
       "\n",
       "function _uploadFiles(inputId, outputId) {\n",
       "  const steps = uploadFilesStep(inputId, outputId);\n",
       "  const outputElement = document.getElementById(outputId);\n",
       "  // Cache steps on the outputElement to make it available for the next call\n",
       "  // to uploadFilesContinue from Python.\n",
       "  outputElement.steps = steps;\n",
       "\n",
       "  return _uploadFilesContinue(outputId);\n",
       "}\n",
       "\n",
       "// This is roughly an async generator (not supported in the browser yet),\n",
       "// where there are multiple asynchronous steps and the Python side is going\n",
       "// to poll for completion of each step.\n",
       "// This uses a Promise to block the python side on completion of each step,\n",
       "// then passes the result of the previous step as the input to the next step.\n",
       "function _uploadFilesContinue(outputId) {\n",
       "  const outputElement = document.getElementById(outputId);\n",
       "  const steps = outputElement.steps;\n",
       "\n",
       "  const next = steps.next(outputElement.lastPromiseValue);\n",
       "  return Promise.resolve(next.value.promise).then((value) => {\n",
       "    // Cache the last promise value to make it available to the next\n",
       "    // step of the generator.\n",
       "    outputElement.lastPromiseValue = value;\n",
       "    return next.value.response;\n",
       "  });\n",
       "}\n",
       "\n",
       "/**\n",
       " * Generator function which is called between each async step of the upload\n",
       " * process.\n",
       " * @param {string} inputId Element ID of the input file picker element.\n",
       " * @param {string} outputId Element ID of the output display.\n",
       " * @return {!Iterable<!Object>} Iterable of next steps.\n",
       " */\n",
       "function* uploadFilesStep(inputId, outputId) {\n",
       "  const inputElement = document.getElementById(inputId);\n",
       "  inputElement.disabled = false;\n",
       "\n",
       "  const outputElement = document.getElementById(outputId);\n",
       "  outputElement.innerHTML = '';\n",
       "\n",
       "  const pickedPromise = new Promise((resolve) => {\n",
       "    inputElement.addEventListener('change', (e) => {\n",
       "      resolve(e.target.files);\n",
       "    });\n",
       "  });\n",
       "\n",
       "  const cancel = document.createElement('button');\n",
       "  inputElement.parentElement.appendChild(cancel);\n",
       "  cancel.textContent = 'Cancel upload';\n",
       "  const cancelPromise = new Promise((resolve) => {\n",
       "    cancel.onclick = () => {\n",
       "      resolve(null);\n",
       "    };\n",
       "  });\n",
       "\n",
       "  // Wait for the user to pick the files.\n",
       "  const files = yield {\n",
       "    promise: Promise.race([pickedPromise, cancelPromise]),\n",
       "    response: {\n",
       "      action: 'starting',\n",
       "    }\n",
       "  };\n",
       "\n",
       "  cancel.remove();\n",
       "\n",
       "  // Disable the input element since further picks are not allowed.\n",
       "  inputElement.disabled = true;\n",
       "\n",
       "  if (!files) {\n",
       "    return {\n",
       "      response: {\n",
       "        action: 'complete',\n",
       "      }\n",
       "    };\n",
       "  }\n",
       "\n",
       "  for (const file of files) {\n",
       "    const li = document.createElement('li');\n",
       "    li.append(span(file.name, {fontWeight: 'bold'}));\n",
       "    li.append(span(\n",
       "        `(${file.type || 'n/a'}) - ${file.size} bytes, ` +\n",
       "        `last modified: ${\n",
       "            file.lastModifiedDate ? file.lastModifiedDate.toLocaleDateString() :\n",
       "                                    'n/a'} - `));\n",
       "    const percent = span('0% done');\n",
       "    li.appendChild(percent);\n",
       "\n",
       "    outputElement.appendChild(li);\n",
       "\n",
       "    const fileDataPromise = new Promise((resolve) => {\n",
       "      const reader = new FileReader();\n",
       "      reader.onload = (e) => {\n",
       "        resolve(e.target.result);\n",
       "      };\n",
       "      reader.readAsArrayBuffer(file);\n",
       "    });\n",
       "    // Wait for the data to be ready.\n",
       "    let fileData = yield {\n",
       "      promise: fileDataPromise,\n",
       "      response: {\n",
       "        action: 'continue',\n",
       "      }\n",
       "    };\n",
       "\n",
       "    // Use a chunked sending to avoid message size limits. See b/62115660.\n",
       "    let position = 0;\n",
       "    do {\n",
       "      const length = Math.min(fileData.byteLength - position, MAX_PAYLOAD_SIZE);\n",
       "      const chunk = new Uint8Array(fileData, position, length);\n",
       "      position += length;\n",
       "\n",
       "      const base64 = btoa(String.fromCharCode.apply(null, chunk));\n",
       "      yield {\n",
       "        response: {\n",
       "          action: 'append',\n",
       "          file: file.name,\n",
       "          data: base64,\n",
       "        },\n",
       "      };\n",
       "\n",
       "      let percentDone = fileData.byteLength === 0 ?\n",
       "          100 :\n",
       "          Math.round((position / fileData.byteLength) * 100);\n",
       "      percent.textContent = `${percentDone}% done`;\n",
       "\n",
       "    } while (position < fileData.byteLength);\n",
       "  }\n",
       "\n",
       "  // All done.\n",
       "  yield {\n",
       "    response: {\n",
       "      action: 'complete',\n",
       "    }\n",
       "  };\n",
       "}\n",
       "\n",
       "scope.google = scope.google || {};\n",
       "scope.google.colab = scope.google.colab || {};\n",
       "scope.google.colab._files = {\n",
       "  _uploadFiles,\n",
       "  _uploadFilesContinue,\n",
       "};\n",
       "})(self);\n",
       "</script> "
      ],
      "text/plain": [
       "<IPython.core.display.HTML object>"
      ]
     },
     "metadata": {},
     "output_type": "display_data"
    },
    {
     "name": "stdout",
     "output_type": "stream",
     "text": [
      "Saving ugrulebook.pdf to ugrulebook (1).pdf\n"
     ]
    }
   ],
   "source": [
    "from google.colab import files\n",
    "uploaded = files.upload()"
   ]
  },
  {
   "cell_type": "code",
   "execution_count": 99,
   "metadata": {
    "id": "606nB2Hwq_jW"
   },
   "outputs": [],
   "source": [
    "sample=read_and_clean_pdf('ugrulebook.pdf')    # \"sample\" is the testing pdf for testing on the go. Will later build the UI for any pdf."
   ]
  },
  {
   "cell_type": "markdown",
   "metadata": {
    "id": "C5hGBH9ItL5X"
   },
   "source": [
    "<h2>Chunking the extracted text.</h2>\n",
    "<h4>The text need to be broken into chunks for the chatbot to find context of the user query. Using NLTKTectSplitter for better context retention in each chunk without breaking mid-sentence.</h4>"
   ]
  },
  {
   "cell_type": "code",
   "execution_count": 100,
   "metadata": {
    "id": "O8vDmxGWrD6n"
   },
   "outputs": [],
   "source": [
    "def chunk_text(text, chunk_size=1500, overlap=100):\n",
    "    splitter = NLTKTextSplitter(chunk_size=chunk_size, chunk_overlap=overlap)\n",
    "    return splitter.split_text(text)"
   ]
  },
  {
   "cell_type": "code",
   "execution_count": 101,
   "metadata": {
    "id": "cmjOcgvxrFWK"
   },
   "outputs": [],
   "source": [
    "sample_chunks=chunk_text(sample)"
   ]
  },
  {
   "cell_type": "code",
   "execution_count": 102,
   "metadata": {
    "colab": {
     "base_uri": "https://localhost:8080/"
    },
    "id": "mzi8R2JotL5Y",
    "outputId": "63d01bfe-f6be-4ea7-aaaa-49970929070b"
   },
   "outputs": [
    {
     "name": "stdout",
     "output_type": "stream",
     "text": [
      "The pdf was broken into 92 chunks.\n"
     ]
    }
   ],
   "source": [
    "print(f\"The pdf was broken into {len(sample_chunks)} chunks.\")"
   ]
  },
  {
   "cell_type": "markdown",
   "metadata": {
    "id": "cJ_62YJ_tL5Y"
   },
   "source": [
    "<h2>Embedding the chunks into vectors and storing them in a database.</h2>\n",
    "<h4>1. Used 'multi-qa-MiniLM-L6-cos-v1' for embedding wrapped in HuggingFaceEmbedding for easier compatibility with Langchain. </h4>\n",
    "<h4>2. Used ChromaDB from Langchain's vectorstore for building the vector database.</h4>"
   ]
  },
  {
   "cell_type": "code",
   "execution_count": 10,
   "metadata": {
    "id": "0zEekX9srHZu"
   },
   "outputs": [],
   "source": [
    "from huggingface_hub import login\n",
    "\n",
    "login(\"put your hf token here\")         # The hf token has been removed from the original code for privacy."
   ]
  },
  {
   "cell_type": "code",
   "execution_count": 103,
   "metadata": {
    "id": "fwo7tDdJrIeW"
   },
   "outputs": [],
   "source": [
    "def embed_and_store_chunks(chunks):\n",
    "\n",
    "    embedding_model = HuggingFaceEndpointEmbeddings(\n",
    "        model=\"sentence-transformers/multi-qa-MiniLM-L6-cos-v1\",\n",
    "    )\n",
    "\n",
    "    vector_database = Chroma.from_texts(\n",
    "        chunks,\n",
    "        embedding=embedding_model,\n",
    "    )\n",
    "\n",
    "    return vector_database"
   ]
  },
  {
   "cell_type": "code",
   "execution_count": 104,
   "metadata": {
    "id": "oTBlKVVTrJg8"
   },
   "outputs": [],
   "source": [
    "sample_database = embed_and_store_chunks(sample_chunks)"
   ]
  },
  {
   "cell_type": "code",
   "execution_count": 105,
   "metadata": {
    "colab": {
     "base_uri": "https://localhost:8080/"
    },
    "id": "IYxls1n5tL5Z",
    "outputId": "dfad39ca-3df6-4cd5-b6f0-7eb862b1770f"
   },
   "outputs": [
    {
     "name": "stdout",
     "output_type": "stream",
     "text": [
      "['INDIAN INSTITUTE OF TECHNOLOGY BOMBAY\\nRules & Regulations\\nfor Undergraduate Programmes\\nApplicable to the B.Tech., B.S., B.Des.,\\nDual Degree students admitted from the\\nAcademic Year 2007 - 2008\\nUpdated: January, 2025\\nRules are classified into three separate categories as follows: (I) those which may be implemented\\nwithin a department by DUGC/DPGC, (ii) those that require a decision at the level of Associate/ Dean\\nAcademic Progamme or UGAPEC/PGAPEC, based on recommendations from the department bodies\\n(iii) those that need to be discussed in the Senate for a decision.\\n\\nTherefore, rules are colored with one of three colors.\\n\\n1.\\n\\nThe color green indicates that the final authority for rule is the Convener DUGC\\n2.\\n\\nThe color yellow, and underlined means that the final authority is Associate Dean (Academic\\nProgramme)/ Dean (Academic Programme)\\n3.\\n\\nThe color yellow, without an underline means that the Convener, UGAPEC is the authority.\\n\\n4.\\n\\nThe color blue means that the final authority is the Senate\\n5.', '4.\\n\\nThe color blue means that the final authority is the Senate\\n5.\\n\\nThe rule which is uncolored, is to be implemented strictly\\n2\\nMove to Index\\nINDEX\\nSection Particulars Page\\nPREFACE 6\\n1 INTRODUCTION 7\\n1.1 Organizational Structure for Academic Administration 8\\n1.2 Academic Calendar 9\\n1.3 Conduct of classes for first year UG students 9\\n2 CURRICULUM / PROGRAMME OF STUDY 9\\n2.1 Curriculum 9\\n2.2 Semester   Autumn, Spring, Summer 9\\n2.3 Course Credit Structure 10\\n2.3.1 Theory and Laboratory Courses 10\\n2.3.2 Course Equivalence 10\\n2.3.3 Seminars 10\\n2.3.4 Projects 10\\n2.3.4.1 B.Tech.\\n\\nProjects (BTP  I and BTP-II) 10\\n2.3.4.2 B.S.\\n\\nProject 11\\n2.3.4.3 Dual Degree Project (DDP) 11\\n2.3.4 Non-Credit Requirements 11\\n2.3.4.1 NCC/NSO/NSS 11\\nMinimum Credit Requirements and Planning of Individual Academic\\n2.4 11\\nProgramme\\n2.5 Opportunities for Additional Learning: MINOR, HONOURS, etc.\\n\\n12\\n2.5.1 Minor 13\\n2.5.2 Honours 13\\n2.5.3 More than one minor for students 14\\nAmalgamation of Half Semester courses into one for 1st year of UG\\n2.6 14\\nprogramme\\n3 ROLE OF FACULTY ADVISER 14\\n4 REGISTRATION 15\\n4.1 Semester-wise Registration 15\\n4.2 Procedure for Registration 15\\n4.2.1 Online Registration 15\\n4.2.2 Late Registration 16\\n4.2.3 Registration for the first two Semesters (except B.Des.)', '16\\n4.2.4 Registration for third and subsequent Semesters 16\\n4.3 Registration for Institute Elective Courses 16\\n4.4 Registration for Non-credit Courses (NCC/NSO/NSS) 16\\n4.5 Registration for Projects 16\\n3\\nMove to Index\\n4.5.1 Registration for B.Tech.\\n\\nProjects (BTPs) 16\\n4.5.2 Registration for Dual Degree Projects (DDPs) 17\\n4.5.3 Registration for B.S.\\n\\nProjects 17\\n4.6 Course Adjustment/ Dropping of courses 17\\n4.7 Dropping of a Semester 18\\n4.8 Registration for Additional Courses: (Minor, Honours, etc.)\\n\\n18\\n4.9 Summer term Course Registration 19\\n4.10 Minimum number of students required to run a particular course 20\\n5 SPECIAL FEATURES IN REGISTRATION 20\\n5.1 Academic Standing 20\\n5.2 Permissible Registration Load 21\\n5.3 Carrying Backlogs forward 21\\n5.4 Audit Course 22\\n5.5 Registration for Post-Graduate level courses 22\\n5.6 Guided Study 22\\n5.7 Self-Study 23\\n5.8 Course Substitution 23\\n5.9 Course Attendance Rule 23\\n6 EXAMINATION / ASSESSMENT 23\\n6.1 Modes of evaluation for theory courses 24\\n6.2 Modes of evaluation for Laboratory courses 24\\n6.3 Modes of evaluation for Seminars 25\\n6.4 Modes of evaluation for Projects 25\\n6.4.1 B.Tech.\\n\\nProjects 25\\n6.4.2 Dual Degree Projects 25\\n6.4.3 B.S.\\n\\nProject 27\\n6.4.4 Extension Rules for Projects (R&D, BTP, DDP, B.S.', 'Project 27\\n6.4.4 Extension Rules for Projects (R&D, BTP, DDP, B.S.\\n\\nprojects) 27\\n6.5 Grading 27\\n6.6 Valid reasons for semester end make up examination 30\\n6.7 Academic Malpractice 30\\n6.8 Semester Performance Index/ Cumulative Performance Index 30\\n6.8.1 Semester Performance Index (SPI) 30\\n6.8.2 Cumulative Performance Index (CPI) 31\\n6.8.3 Semester Grade Report 31\\n6.8.4 Transcript; Consolidated statement of Academic Performance 32\\n4\\nMove to Index\\n6.9 Display of In-semester performance 32\\n6.10 Disclosing evaluated material in a course 32\\n6.11 Answer script retention period 32\\n6.12 Compensatory time to PwD students 32\\n7 REGISTRATION OF NPTEL/ SWAYAM COURSES 33\\nCredit Equivalence of NPTEL/SWAYAM courses with IIT Bombay\\n7.1 33\\ncourses\\nPolicy for registering/ award of grades for NPTEL/ SWAYAM/ Semes7.2 33\\nter Exchange courses\\n8 CHANGE OF BRANCH 34\\n8.1 Conversion to LASE programme 34\\n9 PERFORMANCE REQUIREMENTS 36\\n9.1 Award of degree 36\\n9.2 Award of Medals 37\\n9.3 Transfer to Academic Rehabilitation Programme (ARP) 37\\n9.4 Exit Degree option for Undergraduates 37\\n9.5 Early Exit for Dual Degree/ IDDDP Students 38\\n10 UNDERGRADUATE RESEARCH AWARDS (URA) 40\\n11 ACADEMIC REHABILITATION PROGRAMME (ARP) 41\\nALLOWING B.\\n\\nTECH.\\n\\nAND B.S.\\n\\nSTUDENTS TO LEAVE AFTER COMPLET12 ING THEIR CREDIT REQUIREMENTS FOR B.TECH./B.S.\\n\\nEARLIER THAN 41\\n4 YEARS\\nCONVERSION FROM B.TECH.\\n\\nTO DUAL DEGREE (B.TECH.+ M.\\n\\nTECH.)', 'EARLIER THAN 41\\n4 YEARS\\nCONVERSION FROM B.TECH.\\n\\nTO DUAL DEGREE (B.TECH.+ M.\\n\\nTECH.)\\n\\n13 42\\nPROGRAMME\\nGUIDELINES FOR INTERDISCIPLINARY DUAL DEGREE PROGRAMME\\n14 42\\n(IDDDP)\\n15 SPECIAL LEAVE 49\\n16 PLANNED BREAK FROM STUDIES 49\\nVACATION /LEAVE RULES FOR DD/ IDDDP STUDENTS (263RD MEET17 50\\nING OF THE SENATE)\\n18 UTILITY 50\\n19 GLOSSARY 50\\n5\\nMove to Index\\nPREFACE\\nThe Indian Institute of Technology Bombay (IITB) is one of the Indian Institutes of Technology in\\nthe country, set up with the objective of conducting research, imparting education, and training\\nin various fields of Science and Technology.\\n\\nThe Institute is now recognized as a leader in science\\nand engineering education worldwide.\\n\\nIt has established a firm foundation for education and\\nresearch with a vision to be the fountainhead of new ideas and innovations in technology and\\nscience.\\n\\nThe mission of IIT Bombay is to create an ambiance in which new ideas, research and\\nscholarship flourish and from which the leaders and innovators of tomorrow emerge.\\n\\nIIT Bombay on an average annually admits more than 1000 candidates for the undergraduate\\nprogrammes (B.Tech./ Dual Degree and B.S.)\\n\\nthrough the Joint Entrance Examination (JEE), more\\nthan 30 candidates for B.Des.\\n\\nProgramme through the Undergraduate Common Entrance Exam\\nfor Design (UCEED), around 300 candidates for the M.Sc.\\n\\nand the M.Sc.\\n\\nPh.D. Dual Degree programmes, more than 1000 candidates for postgraduate programmes and around 300 candidates\\nfor Ph.D. programmes.', 'IIT Bombay follows a credit-based semester system.\\n\\nThere are two semesters in an academic year (Autumn: July- Nov; and Spring: January-April) during which all\\ncourses specified for various degree programmes are offered.\\n\\nThere is one additional term during summer, called the Summer Term, for summer courses.\\n\\nStudents are required to meet specified academic requirements each semester.\\n\\nThis booklet provides comprehensive information on the Rules and Regulations for B.Tech., Dual\\nDegree, B.S.\\n\\nand B.Des.\\n\\nProgrammes.\\n\\nIIT Bombay gives freedom to its various academic units to tailor their academic programmes as\\nper their specific needs, within the frame work of the Rules and Regulations approved by the\\nSenate from time to time.\\n\\nKeeping in view the new technical developments and to allow students some freedom to explore topics of their interest, IIT Bombay revised its Undergraduate\\nProgrammes curriculum (w.e.f.\\n\\nthe Academic Year 2013).\\n\\nThe revised curriculum, provides additional opportunities and flexibility for students to optimize their learning experience.\\n\\nThis\\nneeds continuous and meticulous planning of the academic profile on the part of each student\\nto fully utilize the opportunities.\\n\\nThe students, and parents/ guardians, are therefore, advised in\\ntheir own interest to get fully familiar with the Academic system of the Institute.', 'Student s attention is brought particularly to the assessment procedures and the specific rules governing\\nthe grading system, academic performance requirements etc.\\n\\nIIT Bombay offers its students best opportunities that are needed to create outstanding scientists and engineers.\\n\\nWe hope that you will strive hard to utilize the resources available to fully\\ndevelop your potential as an engineer/ scientist/ designer /economist/ social scientist.\\n\\nWe wish all our students a very bright future and a successful career.\\n\\nDean of Academic Programmes\\n6\\nMove to Index\\n1.\\n\\nINTRODUCTION\\nThe B.Tech./ Dual Degree/ B.S.\\n\\nprogrammes consist of courses in basic sciences, humanities and\\nsocial sciences, engineering and technology and other related topics.\\n\\nThe sequence of studies\\nbroadly consists of three phases.\\n\\nThe first phase is an intense study of sciences, mathematics and humanities for deeper understanding of concepts than what was done in school.\\n\\nThe second phase is the study of engineering sciences and technical arts (such as workshop, engineering graphics, etc.).\\n\\nThis study imparts broad based knowledge in general engineering, and engineering methodologies, and enables the students to appreciate the links between science and\\nengineering.\\n\\nThis phase is also, by and large, common across UG programmes, and overlaps with\\nthe first phase.', 'This phase is also, by and large, common across UG programmes, and overlaps with\\nthe first phase.\\n\\nIn the third phase, the students are exposed to subjects in their chosen areas of study, designed to\\ntrain them in the methodologies of analysis of problems and synthesis of solutions.\\n\\nThe courses\\ncover the principles governing systems and processes, and develop the ability for physical and analytical modeling, design and development.\\n\\nThey are also introduced to engineering practices\\nthrough laboratory courses, projects, etc., and these vary from discipline to discipline.\\n\\nIn parallel with the third phase, students can strive to broaden their perspectives through atleast\\ntwo open Institute electives where they can take courses drawn from across the Institute.\\n\\nB.S.\\n\\nprogramme students, in addition, work independently on a project in their last two semesters.\\n\\nDual Degree students do additional courses to get in-depth knowledge in their chosen disciplines,\\noften with specializations.\\n\\nIn addition, they work on a research and development project during\\ntheir final year.\\n\\nAt various stages of the programme, students are initiated into research methodologies, reading\\nand interpreting research papers, use of engineering and scientific equipments/ instruments, modern computational techniques, writing technical and scientific reports and effective communication.', 'Apart from the minimum credit requirements for the award of the degree, opportunities exist for\\nsupplementing the learning experience by crediting additional courses, in diverse areas.\\n\\nThese additional credits, when they are in focused areas, can earn the students  credentials like Minor/ Honours.\\n\\nThe requirements for degree programmes run by the Institute are broadly classified as:\\na) Institute Requirements (further divided into Compulsory courses, Elective courses and\\nother requirements).\\n\\nb) Departmental Requirements (further divided into Compulsory courses, Elective courses\\nand other requirements).\\n\\nThe curriculum for various programmes are available on the Institute website: www.iitb.ac.in\\n7\\nMove to Index\\n1.1 Organizational Structure for Academic Administration\\nThe academic programmes of the Institute are governed by Rules and Regulations approved by the\\nSenate from time to time.\\n\\nThe Senate is a statutory and supreme body that governs all academic\\nmatters of the Institute, and the rulings of Senate Chairperson (Director of The Institute) are final\\nin regard to all academic issues.\\n\\nA definite time schedule is set by the Senate for various academic\\nactivities, through an Academic Calendar issued at the beginning of each academic year.', 'The Senate continuously assesses the academic programmes and makes appropriate revisions/\\nmodifications/ improvements as and when required through two Institute level Senate sub-committees: The Undergraduate Programmes Committee (UGPC) for undergraduate programmes and\\na Post- Graduate Programmes Committee (PGPC) for post-graduate programmes.\\n\\nThe Dean of Academic Programmes (Dean, AP) and the Associate Dean of Academic Programmes (Associate Dean,\\nAP) are the Conveners & Co-conveners respectively of these committees.\\n\\nSimilarly, the performance and evaluation related issues are monitored by the Senate through two\\nInstitute level committees: Undergraduate Academic Performance Evaluation Committee (UGAPEC)\\nand Postgraduate Academic Performance Evaluation Committee (PGAPEC).\\n\\nConveners for these\\ncommittees are designated from among Senate members.\\n\\nThese four committees make recommendations to the Senate and in turn seek/ receive opinions/ recommendations, when required, from\\nthe two Department level committees in each department, the Department Undergraduate Committee (DUGC) and the Department Postgraduate Committee (DPGC).\\n\\nThe DUGCs and DPGCs handle\\nall academic matters, related to both academic programmes as well as performance of individual\\nstudent.\\n\\nThe Head of the Department is the convener of both these departmental committees.\\n\\nThe\\nSenate as well as its sub-committees also have student representatives.', 'The\\nSenate as well as its sub-committees also have student representatives.\\n\\nAdministrative backup for\\nall academic matters is provided by the Academic Office, with a Joint/ Deputy Registrar (Academic)\\nas in-charge.\\n\\nOn joining the Institute, each student is assigned a Faculty Adviser from his/her Department.\\n\\nStudents must consult the Faculty Adviser on any matter relating to their academic performance and\\nthe courses they may take in various semesters/ summer terms.\\n\\nThe Faculty Adviser guides the\\nstudents to complete their courses of study for the required degree in a timely manner, while maintaining good academic performance.\\n\\nAll academic issues connected with the B.Tech., Dual degree, B.S.\\n\\nand B.Des.\\n\\nprogrammes are handled by DUGC, UGAPEC and UGPC.\\n\\nIf on any academic matter a student would like to approach this\\nadministrative structure, it is always through the DUGC with advice and recommendations from her\\n/his Faculty Adviser.\\n\\n8\\nMove to Index\\nOrganizational structure for Academic Matters\\n1.2 Academic Calendar\\nThe academic activities of the Institute are regulated by the Academic Calendar approved by the\\nSenate, and released at the beginning of each academic year.\\n\\nIt is mandatory for students / faculty\\nto strictly adhere to the academic calendar for completion of academic activities.', 'The Academic\\nCalendar can be seen on the Academic Office website of the Institute:\\n(http://www.iitb.ac.in/newacadhome/toacadcalender.jsp)\\n1.3 Conduct of classes for first year UG students (Ref.\\n\\n256th Senate Meeting)\\na) Lectures to be held ONLY between 8.30 am and 5.30 pm and only on working days.\\n\\nb) No extra/compensatory lectures to be conducted on weekends in general.\\n\\nThe lectures\\nwhich are missed due to an Institute holiday, may be covered up on a weekend, preferably\\non Saturday.\\n\\n2 CURRICULUM / PROGRAMME OF STUDY\\n2.1 Curriculum\\nEvery Department has a prescribed course structure which, is known as the Curriculum.\\n\\nIt prescribes\\nthe courses, labs and other requirements for award of the degree and sets out the nominal sequence semester-wise.\\n\\nIt also gives the syllabus and a list of texts and reference books for each\\ncourse.\\n\\nThe Curriculum details are updated every semester and are made available at the Institute\\nwebsite.\\n\\n2.2 Semester   Autumn, Spring, Summer\\nThe Institute follows a credit-based semester system.\\n\\nThere are two regular semesters in a year.\\n\\nThe semester that begins in July (July to Nov.) is known as the Autumn Semester or Semester 1 and\\nthe semester that begins in January (Jan. to April/May) is known as the Spring Semester or Semester\\n2.\\n\\nDuring the summer vacation, i.e., (May-June), a few courses are offered as part of Summer Term\\n(refer Sec.\\n\\n4.8).\\n\\nThese courses can be taken by students as per summer term guidelines.', '4.8).\\n\\nThese courses can be taken by students as per summer term guidelines.\\n\\n9\\nMove to Index\\n2.3 Course Credit Structure\\nIn general, a certain quantum of academic work measured in terms of credits is laid down as the\\nrequirement for a particular degree.\\n\\nA student earns credits by satisfactorily clearing courses/ other\\nacademic activities every semester.\\n\\nThe credits associated with a course/ other academic activity\\nare dependent on the number of hours of work expected to be put in by the student per week.\\n\\n2.3.1 Theory and Laboratory Courses\\nCourses are broadly classified as Theory Courses and Laboratory Courses.\\n\\nTheory courses consist of\\nlecture (L) and tutorial (T) hours, but may have attached practical (P) hours in special cases.\\n\\nLaboratory courses consist of practical hours, but may have attached tutorial hours in special cases.\\n\\nCredit\\n(C) for a course is obtained by multiplying the number of hours of instruction per week in that course,\\nby two (2) for lecture and tutorial hours, and by one (1) for laboratory hours i.e.\\n\\nC = 2xL + 2xT + P. A\\nstudent is expected to spend, on average, one hour every week outside class for every lecture/\\ntutorial held that week.', 'Two examples of credit calculation are shown below:\\nTheory Courses Laboratory Courses\\nL T P C L T P C\\n2 1 0 6 0 1 3 5\\nIn the Courses of Study, if a theory course is shown as, say, CE304 Soil Mechanics II: 2 1 0 6, it means\\nthat CE304 is the course code, Soil Mechanics II is the course title and 2 1 0 6 corresponds to L T P C\\nrespectively.\\n\\nOther academic activities consist of a Seminar, Projects, which carry credits and NSO/ NSS/ NCC, in\\nwhich only a pass (PP) or no-pass (NP) grades are awarded.\\n\\n2.3.2 Course Equivalence (Ref: 251st Senate Meeting):\\nAddition of course equivalence for core courses will be permitted on approval of DUGC of respective\\nAcademic Units.\\n\\n2.3.3 Seminars\\nSome departments prescribe a Seminar as a requirement for B.Tech./ B.S./ B.Des.\\n\\nor the Dual Degree.\\n\\nA Seminar is a course wherein under the guidance of a faculty member a student is expected\\nto do an in-depth study in a specialized area by doing a survey of published technical literature and\\nunderstand different aspects of the problem.\\n\\nFinally, the results from literature must be summarized in a written report and presented before a designated committee of faculty members.\\n\\nSeminars typically carry 3 credits.\\n\\n2.3.4 Projects\\n2.3.4.1 B.Tech.\\n\\nProjects (BTP - I and BTP   II)\\nSome departments prescribe Project as a requirement for the B.Tech.', 'Projects (BTP - I and BTP   II)\\nSome departments prescribe Project as a requirement for the B.Tech.\\n\\ndegree, or as a requirement\\nfor Honours (refer Sec.2.5.2), wherein under the guidance of a faculty member a student, in the\\n10\\nMove to Index\\nsixth semester or later, is required to do innovative work with the application of knowledge gained\\nfrom courses in the earlier years.\\n\\nThe student is expected to do a survey of literature in the subject,\\nwork out a project plan and carry it out through design, analysis, experimentation etc.\\n\\nThese projects (BTPs) may be offered as a single unit of 12 credits (BTP) or as 6 credits of BTP-I followed by\\nBTP-II of 6 credits or 12 credits.\\n\\n(Ref: 241st Senate Meeting)\\nEven when it is not prescribed as a minimum requirement for the degree or when not being interested in Honours, a student can opt to do a BTP as additional learning, if s/he can find suitable\\nsupervisor (s) to guide her/him.\\n\\n2.3.4.2 B.S.\\n\\nProject (Ref: 240th Senate Meeting)\\nSome departments prescribe a B.S.\\n\\nProject as a requirement for the B.S.\\n\\ndegree.\\n\\nSuch a\\nproject is carried out under the guidelines of a faculty member and may carry 6 or more credits as\\nprescribed by the department.\\n\\n2.3.4.3 Dual Degree Project (DDP)\\nThe Dual Degree Project is a mandatory requirement of the Dual Degree Programmes.', 'The project\\nconsists of two stages, spread over fourteen months, normally starting from the summer after the\\neighth semester and ending with the summer after the tenth semester.\\n\\nThese are essentially research and development projects, where a student trains under the guidance of supervisor/ s, indepth analysis of an engineering problem and attempts synthesis of a solution.\\n\\nLiterature survey,\\nproblem analysis and problem definition, extensive experimental/ modeling/ computational work\\nand analysis of results typically form various components of the project work.\\n\\nA DDP (B.Tech.M.Tech.)\\n\\ncarries a total of 72 credits.\\n\\n2.3.4 Non-Credit Requirements\\n2.3.4.1 NCC / NSO / NSS\\nOne of the three activities, National Cadet Corps (NCC) or National Sports Organization (NSO) or\\nNational Service Scheme (NSS) is a mandatory requirement for all students for the award of a degree.\\n\\nThese are normally conducted during evenings of week days and are designed to build character\\nand to sensitize the students to social/ national issues.\\n\\nThese activities carry no credits and are\\nevaluated as Pass (PP)/ Not Pass (NP).\\n\\n2.4 Minimum Credit Requirements and Planning of Individual Academic Programme (Ref:\\n233rd Senate Meeting)\\nDepending on the discipline, the minimum credits required for the award of a B.Tech.\\n\\n/ B.S.\\n\\n/ B.Des.\\n\\ndegree are between 266 and 282 (till 2021 batch), though the department component can be differently designed by the departments.', 'This is nominally divided into Basic Sciences (60 to 62), Engineering Sciences & skills (30), HSS Electives (12), Institute Electives (12), Departmental courses (152 to 168).\\n\\nThe \"B.Tech.\\n\\n+ M.Tech.\\n\\nDual Degree programme\" should have all of the following components over\\nand above the corresponding basic B.Tech.\\n\\ncurriculum:\\n11\\nMove to Index\\na) B.Tech Honours credit a minimum of 24 credits that can comprise of either only courses or\\na combination of courses and a Project.\\n\\nThe Project duration can be of two semesters with\\na maximum of 18 credits.\\n\\nb) 24 credits consisting of four masters level courses.\\n\\nc) 72 credits of a masters\\' thesis spread over 14 months (e.g.\\n\\nsummer between eighth and\\nninth semester, plus ninth and tenth semesters).\\n\\nThe credits are distributed semester-wise\\nas shown in the Courses of Study bulletin for each department.\\n\\nCourses generally progress\\nin sequences, building competencies and their positioning indicates certain academic maturity on the part of the students.\\n\\nSome courses do, in addition, specify passing in courses\\noffered earlier in the programmes as pre-requisites.\\n\\nStudents are expected to follow the\\nsemester-wise schedule of courses given in the Courses of Study bulletin; they do, however,\\nhave freedom to follow alternative schedules to optimize their academic profile with additional courses, keeping the requirements for each course in mind.', 'For students who may\\nhave dropped mandatory courses, such rescheduling may even become necessary.\\n\\nSuch\\ndepartures from suggested schedules need to be done very carefully, and always with approval of the Faculty Adviser.\\n\\nd) In addition to the DD requirements, if a student completes 24.0 credits towards the honors\\nof the parent department, then he/ she will be considered for award of B. Tech./ B.S.\\n\\nwith\\nhonors of the parent department subject to the recommendation of DUGC of the parent\\ndepartment (2021 batch onwards).\\n\\n2.5 Opportunities for Additional Learning: MINOR, HONOURS, ETC.\\n\\n:\\nThe B.Tech./ Dual Degree/ B.S.\\n\\nprogrammes recognize the fact that students  aspirations and the\\ndemands of the work place, have become highly diverse.\\n\\nEvery student has specific abilities, interests and career goals.\\n\\nEach programme prescribes the minimum credits and courses that qualify a candidate for the award\\nof the Degree in a particular discipline.\\n\\nThe total credits for the B.Tech.\\n\\nProgramme, for example,\\nvary between 266-282 (till 2021 batch) depending on the discipline, as mentioned earlier.\\n\\nThis approximately converts itself into about four theory courses and one or two laboratory courses or\\nother activities like seminar, project, etc., every semester.\\n\\nThe curriculum is designed to permit B.Tech., B.S.\\n\\nand B.Des.\\n\\nstudents, who are not identified as\\nacademically weak, to optionally take additional courses.', 'students, who are not identified as\\nacademically weak, to optionally take additional courses.\\n\\nThe freedom to take about six credits\\nevery semester after the first year, permits a student to satisfy her/his interests / abilities and aspirations.\\n\\nIt is expected that all students with reasonably good academic standing, utilize this surplus time for\\nenhancing their academic learning experience, though the initiative is left entirely to them.\\n\\nThey\\ncan use it to credit an assortment of courses/projects anywhere in the Institute, (subject to requirements of each of these courses being met), to gain a wide exposure.\\n\\nThese additional academic\\naccomplishments will find a separate mention in the transcript (refer Sec.6.8.4).\\n\\nThey can also credit\\ncourses in specific areas which can qualify as a minor/ honours.\\n\\nThey may alternatively devote part\\n12\\nMove to Index\\nor all of the additional time for extra- curricular activities (including social work) if they so desire,\\nand gain hands-on administrative/ managerial/ aesthetic skills or sensitivity towards social issues.\\n\\nSince seats available in such additional courses are often limited and the competition severe, students aspiring to do these additional courses have to maintain high academic standing to register in\\nthese courses.\\n\\n2.5.1 Minor\\nMinor is an additional credential a student may earn if s/he does 30 credits worth of additional\\ncourses in a discipline other than her/his major discipline of B.Tech.\\n\\ndegree.', 'degree.\\n\\nAll academic units in\\nthe Institute offer minors in their disciplines, and will prescribe a specific set of courses and/or projects necessary for earning a minor in that discipline.\\n\\nA student must pre-register for a minor course which is finally allotted on the basis of highest CPI.\\n\\nS/he accumulates credits by registering for the required courses, and if the requirements for a particular minor are met within the prescribed minimum time limit for the programme, the minor will\\nbe awarded.\\n\\nThis will be mentioned in the Degree Certificate as  Bachelor of Technology in xxx with\\nMinor in yyy.\\n\\nThis will also be reflected in the transcript, along with the list of courses taken.\\n\\nSince the number of seats available for each of the courses are often limited, one has to compete\\nfor a place in every course.\\n\\nIf 30 credits are not completed for Minor then Minor will not be\\nawarded.\\n\\nThe individual course credits earned, however, will be reflected in the transcript.\\n\\nFor the award of the minor, all requirements towards the basic degree and the minor have to be\\ncompleted within the stipulated period of the programme one is registered for.\\n\\nThe Senate in its 224th meeting approved the proposal of allowing Dual Degree students to undertake minor courses.\\n\\nThese rules were further modified in the 236th meeting of the Senate.\\n\\nDD students of category I and II can register for minor courses from 2nd year onwards.', 'DD students of category I and II can register for minor courses from 2nd year onwards.\\n\\nThese students are allowed to take additional courses (within permissible credit limit) in their 9th and 10th\\nSemesters, if needed to complete the minor requirement.\\n\\n(Ref: 239th Senate Meeting)\\n2.5.2 Honours\\nHonours is an additional credential a student may earn if s/he opts for the extra 24 credits needed\\nfor this in her/his own discipline.\\n\\nThe concerned department specifies the set of courses for earning\\nHonours.\\n\\nHonours is not indicative of class.\\n\\nStudents can accumulate credits by registering for Honours courses prescribed by the department.\\n\\nOn successful accumulation of 24 credits at the end of the programme, this will be mentioned in the\\nDegree Certificate as  Bachelor of Technology in xxx, with Honours.\\n\\nThis will also be reflected in\\nthe transcript, along with the list of courses taken.\\n\\nFor the award of the honours to B.Tech.\\n\\nstudents, all requirements towards the basic degree and\\nthe honours have to be completed within the stipulated period of the programme one is registered\\nfor.\\n\\n13\\nMove to Index\\nDual degrees of B.Tech.\\n\\nand M.Tech.\\n\\nintrinsically demand a deeper expertise in the major discipline\\nof the student, and therefore Dual Degree students are required to complete the requirements for\\nHonours, as prescribed by the department.\\n\\nThe requirements for Honours for a Dual Degree student\\nmay be different from those prescribed for a B.Tech.\\n\\nstudent.', 'student.\\n\\nThis requirement is over and above\\nthe basic requirements for the B.Tech.\\n\\ndegrees as prescribed by each department.\\n\\nThe total credit\\nrequirement (till 2021 batch) is therefore 266-282 (B.Tech.)\\n\\n+ 24 (Honours) + 72 (Project) + 24 (Masters courses).\\n\\n2.5.3 More than one minor for students (Ref: 259th Senate Meeting)\\nStudents can opt for earning additional minor/s (i.e.\\n\\nan Honour and a minor, OR if time table permits,\\ntwo or more minors).\\n\\nStudents should discuss this with their faculty advisers since completing more\\nthan one minor would involve significant overload.\\n\\n2.6 Amalgamation of Half Semester courses into one for 1st year of UG programme (Ref.\\n\\n256th\\nSenate Meeting)\\nTwo half semester courses to be taught as one full semester course for 1st year of UG programme,\\nawarding only one grade at the end of the semester.\\n\\nCourses should be taught in a seamless way\\nwith summative evaluation at the end.\\n\\n3.\\n\\nROLE OF THE FACULTY ADVISER\\nOn joining the Institute, a student or a group of students is/are assigned to a Faculty Adviser.\\n\\nThe\\nstudents are expected to consult the Faculty Adviser on any matter relating to their academic performance and the courses they may take in various semesters.\\n\\nThe Faculty Adviser guides the students to complete their courses of study for the required degree.', 'The Faculty Adviser guides the students to complete their courses of study for the required degree.\\n\\nFor effective utilization of the\\nopportunities for additional academic accomplishments, the planning of an individual s academic\\njourney needs careful consideration, and hence constant consultation with the Faculty Advisers are\\nimperative.\\n\\nThe Faculty Adviser is the person whom the parents/ guardians should contact for performance related issues of their wards.\\n\\nThe role of the Faculty Adviser is outlined below:\\na) Guide the students about the rules and regulations governing the courses of study.\\n\\nb) Advise the students to register for courses as per the curriculum and their academic standing.\\n\\nc) Approve the registration of the students.\\n\\nd) Pay special attention to weak students and carefully monitor the performance of students\\nrecommended for the slow track option.\\n\\ne) Advice students on Course Adjustment / Drop during the Semester within the stipulated\\ntime frame given in the Academic calendar.\\n\\nf) Advice students seeking a semester drop about rules and regulations laid down for this purpose and recommend these cases to the UGAPEC through the DUGC, for consideration.\\n\\n14\\nMove to Index\\ng) Consider and recommend to the DUGC, applications for course/ credit requirements for the\\nstudents for exchange programmes.\\n\\nIn addition, the faculty adviser converts the grades\\nfrom the foreign institute to IIT Bombay as per senate approved rules.', 'h) To ensure that students are not permitted to re-register for courses, which they have already passed.\\n\\ni) Inform students that grades will not be awarded for any academic activity (course/ Lab./\\nseminar/ project/ non-credit requirement etc.)\\n\\nwithout approved registration.\\n\\nj) Strictly warn students that if s/he fails to register during any semester without prior approval, his/her studentship is liable to be cancelled.\\n\\n4.\\n\\nREGISTRATION\\nRegistration at the beginning of each semester, as per the prescribed dates announced in the Academic Calendar, is mandatory for every student till s/he completes her/ his programme.\\n\\nIf a student\\ndoes not register in a particular semester without prior permission of the UGAPEC, her/his studentship is liable to be cancelled.\\n\\nStudents are not permitted to re-register for course/(s), which they\\nhave already passed.\\n\\nAll students  registration has to be approved by his/ her faculty Adviser.\\n\\nSome\\ncourses may also require instructor consent.\\n\\n4.1 Semester-Wise registration\\nOn joining the Institute, each student is assigned to a Faculty Adviser or an Advisory group (refer\\nSec.3).\\n\\nThe student can register for courses s/he intends to take during a given semester or summer\\nterm on the basis of the programme for each discipline as given in the Curriculum and as per the\\nadvice given by his/her Faculty Adviser.', 'The Faculty Adviser is expected to discuss with the student\\nhis/her academic performance during the previous semester and then decide the number and nature of the courses for which s/he can register during the semester within the framework of the\\nguidelines as approved by the Senate.\\n\\nThe Faculty Adviser may advise the student to drop one or\\nmore courses/ activities based on his/her academic performance (refer Sec.\\n\\n5.1).\\n\\nIn fact, the Faculty\\nAdviser may even advise a reduced load programme over several semesters for students with poor\\nperformance at the end of the first semester/ year.\\n\\n4.2 Procedure for Registrations\\nThe Institute has an online registration system and the registration is normally done on the first two\\ndays of each semester.\\n\\nThe registration schedule is announced in the Academic Calendar.\\n\\nIn all circumstances, registration must be completed on or before the prescribed last date for registration.\\n\\nStudents having outstanding dues to the Institute or a hostel shall not be permitted to register.\\n\\n4.2.1 Online Registration\\nThe online registration process involves filling up of an online Course Registration Form (CRF) stating\\nthe courses and project / seminar etc., that the student proposes to complete during that semester\\nas per the prescribed curriculum.\\n\\nThis should be done in consultation with the Faculty Adviser, who\\nfinally approves the registration as per permissible load (refer Sec.\\n\\n5.2).', '5.2).\\n\\nGrades will not be awarded\\nfor any academic activity (course/ Lab./ seminar/ project/ non-credit requirement etc.)\\n\\nwithout approved registration.\\n\\n15\\nMove to Index\\n4.2.2 Late Registration\\nOnly for valid reasons, late registration may be permitted till the date specified in the Academic\\nCalendar, on payment of a late registration fee.\\n\\n4.2.3 Registration for the first two semesters (except B.Des.)\\n\\nIn each of the first two semesters, courses common to all branches are generally offered.\\n\\nA student\\nis normally required to register for all the courses listed in the curriculum for these two semesters.\\n\\nStudents, who are identified as academically weak at the end of first semester, may be prescribed\\na reduced load (refer Sec.\\n\\n10).\\n\\n4.2.4 Registration for third and subsequent semesters\\nThe prescribed credits per semester is given in the course bulletin of the respective academic units.\\n\\nFrom the third semester onwards, registration is dependent on the academic standing of the student.\\n\\nA student with an academic standing of Category I, II, III and IV may register for additional\\ncourses over and above the prescribed credits in the course bulletin with the approval of Faculty\\nAdviser subject to Section 5.2.\\n\\n4.3 Registration for Institute Elective Courses:\\nAn Institute Elective course can be any credit course across the Institute provided that:\\na) It should not be from the Academic Unit in which the student is registered.', 'b) It should not be  Core  or  Department Elective  course in the curriculum on the programme\\nin which the student is registered.\\n\\nAn Institute Elective course should be registered in consultation of Faculty Advisor.\\n\\n4.\\n\\n4 Registration for Non-credit courses (NCC/ NSO / NSS)\\nNon-credit requirements are assessed as Pass (PP)/ Not Pass (NP) subject to the fulfillment of the\\nminimum requirements of these activities and a minimum of 80% attendance.\\n\\nOne of NCC, NSO or\\nNSS, is a mandatory requirement for the award of degree.\\n\\nStudents are expected to complete these\\nrequirements during the first year (first two semesters).\\n\\nFormal registration for any one of these\\nactivities must be done along with other courses, at the beginning in the first two semesters.\\n\\nThe\\nchoice of the activity will be done on the basis of the aptitude of the student for any one of these\\nactivities and will be decided by a committee constituted for the purpose.\\n\\nOnce registered for one\\nof these activities, no change will be permitted at a later stage.\\n\\nIn addition to the above mandatory requirements, the students are permitted to take NSS/NSO/NCC\\nin subsequent years too, if they have special interest.\\n\\nThis will be mentioned in the transcript (refer\\nSec.6.8.4)\\n4.5 Registration for Projects\\n4.5.1 Registration for B.Tech.\\n\\nProjects (BTPs):\\nRegistration for B.Tech.\\n\\nProjects (BTPs) as specified in the curriculum, is similar to that for any other\\ncourse.', 'Projects (BTPs) as specified in the curriculum, is similar to that for any other\\ncourse.\\n\\nThe details of allotment of topics, faculty supervisors etc.\\n\\nare specified by the concerned\\ndepartment before the commencement of the semester.\\n\\n16\\nMove to Index\\n4.5.2 Registration for Dual Degree Projects (DDPs)\\na) The total duration for the DDP is fourteen months.\\n\\nDDP consists of two stages.\\n\\nCredits for\\nStage I are 30-36 and for stage II are 36 to 42.\\n\\nThe information about project registration,\\npresentation/ submission/ assessment and submission of grades is given below:\\nSubmission/Presentation/As- Submission of Grades\\nProject Stage Registration sessment to be completed to the Academic Office\\nduring the following period on or before\\nRegistration for stage I will October/ November of\\nbe done in January (8th By October Month (9th Semes-the same year (9th SeStage I\\nSemester)  As per aca-ter)  As per academic calendar mester)  As per academic calendar demic calendar\\nRegistration for stage II\\nJuly of the same year\\nwill be carried out along By June Month (Just after 10th\\n(Final) Stage (Just after 10th Semeswith the grade report for Semester)   As per academic\\nII ter)  As per academic\\nthe stage I   As per aca-calendar\\ncalendar\\ndemic calendar\\nb) Each Dual Degree student should have a member of the faculty as a supervisor.\\n\\nIn addition,\\nCo-supervisor/(s) from the same Department/ other Department / IDP Group/Centre /\\nSchool may be co-opted by the supervisor with the approval of the DUGC.', 'If the supervisor\\nis not from the same department as the student, a co-supervisor from the Department is\\nnecessary.\\n\\nc) Whenever a supervisor leaves the Institute permanently/ temporarily, the DUGC shall make\\nalternative arrangements for guidance during the supervisor s absence.\\n\\nRequirements for the DDP and the evaluation procedures are given in (refer Sec.\\n\\n6.4.2)\\n4.5.3 Registration for B.S.\\n\\nProject (Ref: 240th Senate Meeting)\\nRegistration for B.S.\\n\\nProjects as specified in the curriculum, is similar to that for any other course.\\n\\nThe details of allotment of topics, faculty supervisors etc.\\n\\nare specified by the concerned department before the commencement of the semester.\\n\\n4.6 Course Adjustment/ Dropping of courses\\na) The Academic Calendar sets a date, typically one week after the commencement of the\\nsemester, for Course Adjustment.\\n\\nOn or before this date, a student is permitted to make\\nadjustments in her/his academic load by addition or deletion of one or more courses, projects etc., provided the total credits do not exceed the bounds (refer Sec.\\n\\n5.2).\\n\\nCourse adjustment has to be done in consultation with the Faculty Adviser.\\n\\nb) If in the second or any of the subsequent semesters, a student finds her/his academic load\\ntoo heavy, s/he may drop some courses in consultation with the Faculty Adviser, provided\\n17\\nMove to Index\\nthe minimum credit requirements (18 credits) are fulfilled.', 'The last date for such drops is\\ntypically 20-30 days after the end of the mid-semester examination, and is set in the Academic Calendar.\\n\\nIt is expected that the results of the mid-semester examination will be\\nknown within seven days of the end of the examination.\\n\\n4.7 Dropping of a Semester:\\na) A student may opt/be advised to drop an entire semester, with prior approval of\\nDUGC/UGAPEC due to the following reasons:\\ni.\\n\\nDuring a registered semester, if a student finds that s/he is unable to cope up with the\\nstudies and/or does not have sufficient exposure to most of the courses registered in\\nthat semester due to severe health problem or some other valid reasons beyond her/his\\ncontrol, s/he can opt to drop the entire semester, in consultation with the Faculty Adviser and with permission from the DUGC/UGAPEC.\\n\\nii.\\n\\nA student may seek a semester drop, due to severe personal health problem, unavoidable family commitments or other valid reasons beyond her/his control, in consultation\\nwith the Faculty Adviser and with permission from the DUGC/UGAPEC, prior to the commencement of the semester itself.\\n\\nb) In all cases of severe health problems, medical certificate issued by IIT Hospital is essential.\\n\\nIf however, the medical certificate is issued by other hospitals/private practitioners, the certificates should be duly authenticated by the CMO, IIT Hospital.\\n\\nIn all other cases, requests\\nfor dropping the semester should be accompanied by supporting documents as required.', 'c) A student will be not permitted to drop a semester after the award of DX/ II grade/(s) and/\\nor semester end examination.\\n\\nd) Such breaks from studies is typically not permitted for a continuous period in excess of one\\nyear.\\n\\ne) Not registering for any semester before the last date for registration without prior approval\\nof the UGAPEC may result in the UGAPEC recommending dropping that semester.\\n\\n(Ref:\\n240th Senate meeting)\\nf) Hostel accommodation and other institutional facilities will not be extended in any semester for which the student has not registered.\\n\\n4.8 Registration for Additional Courses (Minor, Honours etc.\\n\\n): (Ref.- 236th Senate Meeting)\\nAny student may register for minor or Honours courses subject to satisfying the pre-requisites for\\nthe respective courses.\\n\\nThe number of students permitted for Minor courses is to be specified before the registration date by the department, and the allocation is done on the basis of CPI.\\n\\nStudents\\nare permitted to register for Minor courses only during the pre- registration period .\\n\\nNote that there is no specific registration for Honours Courses.\\n\\nOne accumulates the required credits during the course of the programme and the additional credential is awarded if the criteria set\\nfor them are met when the student graduates.\\n\\n18\\nMove to Index\\nIn any semester, a student must register for at least one course component that is specified as the\\nminimum requirement of the degree.', 'Moreover, a student cannot overstay in the programme once\\nthe minimum requirements prescribed for the basic degree are completed.\\n\\n4.9 Summer term Course Registration:\\nRunning of courses in summer term and registration of students to these courses must follow the\\nguidelines mentioned below:\\na) The course instructor/(s) should be willing to offer the course.\\n\\nThe DUGC should recommend offering of such a summer course for consideration and approval of the\\nDean of Academic Programmes.\\n\\nThe course is offered on approval of the Dean of Academic\\nProgrammes.\\n\\nb) The course should be offered with adequate rigor and in the same manner as a regular semester course is offered.\\n\\nThe registration, examination and assessment, course duration\\nand grading should adhere to the timelines in academic calendar.\\n\\nThe total number of contact hours for the courses remains the same as that during the regular semesters, and therefore, the courses run at accelerated pace (for example 6 hours of instructions per week is\\nexpected for a 3-0-0 course) the Academic Calendar in this connection is strictly followed.\\n\\nc) The dropping of a Summer Course is permitted within 7 days from the first lecture of the\\ncourse.\\n\\nFee is not refundable.\\n\\nd) Re-exam is permitted on the same terms and conditions like that of regular semester\\ncourses.\\n\\ne) Time slots will be assigned by or communicated to the Academic Office like that of regular\\nsemester courses.', 'f) A student can take up to a maximum of 24 credits of Mandatory Courses (Core + HSS +\\nDepartment & Institute Electives) in which s/he has received FR/DX/DR/W grade.\\n\\nHowever,\\nif a student accumulates two (or more)  FR  in Mandatory Courses and does not find\\nenough courses (totaling up to 24 credits) in a summer term, s/he can take a\\nmaximum of two Mandatory Courses in which s/he has NEVER registered.\\n\\n(Ref: 239th\\nSenate Meeting - effective from Summer term 2019-20).\\n\\ng) Courses requiring pre-requisites need instructor s approval in case the student has\\nnot completed the pre-requisites.\\n\\n(Ref: 239th Senate Meeting - effective from Summer term\\n2019-20).\\n\\nh) NO restrictions (i.e.\\n\\n#f) will apply after the expiry of the regular programme duration\\n(4 years for B.Tech, B.Des.\\n\\nand B.S., 5 years for DD).\\n\\n(Ref:239th Senate Meeting - effective\\nfrom Summer term 2019-20).\\n\\ni) At least 05 students should register for the summer course.\\n\\nThe attendance\\nrecord should be maintained and the minimum of 80% attendance is compulsory.\\n\\nThe\\nInstructors may award a  FR  grade to students who fail to adhere to 80% attendance for\\nthe summer course.\\n\\n19\\nMove to Index\\nj) Courses offered in a summer term will be treated as equivalent to regular semester courses\\nfor all accounting purposes.\\n\\n4.10.\\n\\nMinimum Number of Students Required to Run a Particular Course (Ref: 229th Senate\\nMeeting)\\nA minimum of 5 students should be registered in a course to be run as a Department/ Institute\\nElective course.', \"If less than 5 students are registered at any given point of time, the concerned\\nDUGC/ Head of Academic Units may decide to run a course.\\n\\nEven a single (1) student is registered\\nfor a 'Minor' course, the course is required to be offered.\\n\\n5.\\n\\nSPECIAL FEATURES IN REGISTRATION\\nThe curriculum has special features that a student must be aware of while registering for courses.\\n\\nThese include institute core courses, department core and elective courses, non-departmental\\ncourses, minor and honours options.\\n\\nRegistration for courses depend on the academic standing of\\nthe student, as explained in this section.\\n\\nThe registration for backlog courses and audit courses are\\nalso explained in this section.\\n\\n5.1 Academic Standing (Ref: 236th Senate Meeting)\\nDepending on the overall academic performance of a student till date, especially in the two preceding regular semesters (Autumn and Spring) in which the student had registered, the academic standing of the student is decided.\\n\\nA NP (not passed) grade is not counted towards failed courses in the\\ncontext of determining the academic standing.\\n\\nCategorization of the academic standing of a student is as follows:\\nCategory I: A student who has CPI at least 8, and no outstanding FR/DX/DR/W grade in a core course.\\n\\nCategory II: CPI less than 8, and no outstanding FR/DX/DR/W grade in a core course.\", 'Category II: CPI less than 8, and no outstanding FR/DX/DR/W grade in a core course.\\n\\nCategory III (Ref: 241st Senate Meeting): A student who has at least one outstanding FR/DX/DR/W\\nin core courses and at most one FR or DX grade in any other course in two preceding regular registered semesters, subject to having earned at least 18 credits in each of the semesters.\\n\\nThese 18\\ncredits may be earned in courses with any TAG.\\n\\nCategory IV (Ref: 241st Senate Meeting): A student who has at least one outstanding FR/DX/DR/W\\nin core courses and more than one FR or DX grade in any other course in two preceding regular\\nregistered semesters, subject to having earned at least 18 credits in each of the semesters.\\n\\nThese\\n18 credits may be earned in courses with any TAG.\\n\\nCategory V: A student who has not earned at least 18 credits (in courses with any TAG) in at least\\none of the previous two regular registered semesters.\\n\\nCategory VI (ARP): Students who have accumulated FRs/DXs worth 36 credits in core courses.\\n\\nNote:\\na) Category VI supersedes all other categories.\\n\\nb) Students in the 8th Semester for B.Tech./B.S.', 'b) Students in the 8th Semester for B.Tech./B.S.\\n\\nand 10th Semester for DD programmes may\\n20\\nMove to Index\\nregister for upto 54 credits on recommendation of the Faculty Adviser/ PIC (ARP) (Ref: 261st\\nSenate Meeting)\\nIn such cases where students have returned from semester exchange and the grades are not updated till the time of registration, the performance in the last two completed semesters at IIT Bombay may be considered for the purpose of CPI and Academic Category calculation.\\n\\nThe same rule is\\nalso applicable in cases of semester drop.\\n\\n(Ref: 237th Senate Meeting)\\nInterim Categories of the students are calculated using the information available 24 hours before\\nregistration for the new semester begins.\\n\\nThese categories are used for the purpose of registration\\nfor the new semester.\\n\\n(Ref:248th Senate Meeting)\\n5.2 Permissible Registration Load (Ref: 235th Senate meeting)\\nStudents are allowed to register as per their academic standing subject to a maximum credit limit\\nas given below:\\nAcademic Standing Maximum Credits Allowed\\nCategory I 54 credits\\nCategory II, III, IV 48 credits\\nCategory V 36 credits (Ref: 261st Senate meeting)\\nCategory VI (ARP) 24 credits\\nThe Faculty Adviser is the competent authority to approve course registration in all cases.\\n\\nEvery student must register for a minimum of 18 credits each semester.', 'Every student must register for a minimum of 18 credits each semester.\\n\\nIn case a student has completed most of the minimum credit requirements, she/he may register for the remaining courses\\nwhich are available in that semester, which may be less than 18 credits.\\n\\nThe maximum credits allowed as given above cannot be exceeded under any circumstances.\\n\\nWhile\\nthese are the maximum allowed credits the Faculty Adviser may prescribe lower credits especially\\nfor Category III, IV, V and VI.\\n\\nThe Dual Degree project credits will not be counted in case of permissible load.\\n\\n(Ref: 241st Senate\\nMeeting)\\nThe current limits on credits (as per the academic category) for registration purposes are applicable\\nonly for students who have not yet completed the regular duration of programme for their degree,\\nbeyond which the above restriction is waived.\\n\\n(w.e.f.\\n\\nSpring Semester 2020-21)\\n5.3 Carrying backlogs forward\\nAttempts are made in the programme to give an early opportunity to register again for courses in\\nwhich students may have received FR/ W/ DR/ DX grade.\\n\\na) The Institute core courses are expected to be offered in both the semesters, so that a student can register for a backlog course in the immediate next semester.', \"21\\nMove to Index\\nb) For department core courses that are not possible to be offered in both semesters, the Faculty Adviser may advise the students appropriately for dropping the backlog course in favor\\nof some other course in order to avoid a cascading effect in subsequent semesters.\\n\\nThe\\nFaculty Advisers and DUGCs would exercise special care and assist the students in this regard.\\n\\nc) Students should give priority to clear core courses that are pre-requisites for other courses\\nin subsequent semesters.\\n\\n5.4 Audit Course\\nA student wanting just an exposure to a course, without the rigors of obtaining a letter grade, can\\nregister a course in 'Audit' mode.\\n\\nA course can be audited provided the course is offered in the\\nsemester as a credit course for others, and there is no slot clash.\\n\\nPrior permission of the Instructor\\nis required.\\n\\nTo complete a course in 'Audit' mode, the student has to fulfil the requirement as set by the course\\ninstructor, such as submission of assignments and minimum performances in in-semester evaluations.\\n\\nA course, successfully completed in 'Audit' mode, cannot be considered towards the requirement of Minor or Honours.\\n\\nA student, on successful completion of the requirements of a course in 'Audit' mode, will be eligible\\nfor a 'AU' grade.\\n\\nThe 'AU' grade carries zero grade point and is not included in SPI/CPI calculations.\\n\\nThe 'AU' grade will be shown in the Transcript.\", \"The 'AU' grade will be shown in the Transcript.\\n\\nIn case a student fails to complete the requirements of a course, registered in 'Audit' mode, instructor will not assign any grade and the student will be de-registered from the course.\\n\\nThe same will\\nbe deleted from the student's registration, as it will be assumed that the course has been dropped\\nby that student.\\n\\nFor the entire duration of the programme, a UG student can audit maximum TWO courses.\\n\\nUG students, who are only in Category I and II, will be permitted to 'Audit' a course during a regular\\nsemester.\\n\\n5.5 Registration for Postgraduate level courses (Ref: 235th Senate Meeting)\\nUndergraduate students may be permitted to register for some postgraduate level courses from\\nfifth semester onwards with permission of the instructor and approval of the Faculty Adviser without any restrictions.\\n\\n5.6 Guided Study: (Ref: 240th Senate Meeting)\\nGuided Study is doing courses outside the curriculum in the self-study like mode, during a regular\\nsemester.\\n\\nA student belonging to category I may be provided the option of Guided study to acquire\\nproficiency in an area of his/her choice, on recommendation of the Faculty Adviser/ project guide,\\nDUGC and approval of UGAPEC.\\n\\nGuided Study will be available to the extent of a maximum of one\\ncourse per semester with effect from the third semester, subject to a maximum of four courses in\\nthe entire programme.\", 'This option is strictly subject to the availability and willingness of the instructor offering the course.\\n\\nGuided Study and URA (refer Sec.\\n\\n9) will not run concurrently, and the rules\\n22\\nMove to Index\\nthat govern permissible registration load apply strictly even for these courses.\\n\\nThese courses can be\\nconsidered towards Minor/ Honours, if so specified by the concerned academic unit.\\n\\nRegistration,\\nExamination/ Evaluation and submission of grade etc.\\n\\nin case of guided study will also be governed\\nin the similar way as other courses of the curriculum.\\n\\nThe option of guided study may also be made available, by the UGAPEC, in the following situation,\\non a case-by-case basis:\\nStudents who miss the  Departmental Introductory Course  due to a change of branch obtained at\\nthe end of First year.\\n\\n5.7 Self-Study (Ref: 236th Senate Meeting)\\nStudents can take upto two courses as self-study, after the expiry of the regular programme duration (4 years for B.Tech, B.Des, B.S.\\n\\nPrograms, 5 years for Dual Degree) after taking necessary approval.\\n\\nThis option is only available for completing the mandatory credits.\\n\\nHowever, for the self-study option, the following directives will be followed: a) The registration, examination etc.\\n\\nwill be as per academic calendar.\\n\\nThe evaluation for selfstudy will be done in the similar way as is done for normal semester course.\\n\\nb) Academic standards be rigorously maintained in the self-study mode.', 'b) Academic standards be rigorously maintained in the self-study mode.\\n\\n5.8 Course Substitution\\nIn case a student obtains FR/DX grades or drops courses due to valid reason, s/he may like to\\nsubstitute courses in order to complete the requirements within the stipulated duration.\\n\\nFollowing\\nis the guideline for course substitution.\\n\\na) Course substitution is not permitted for Core Courses, may it be an institute core course or\\ndepartmental core course.\\n\\nThe student has to re-register the same course and complete them.\\n\\nb) An Institute elective course may be substituted by another Institute elective course from the\\nsame group.\\n\\nc) A departmental elective course may be substituted by another departmental elective course\\nfrom the same group.\\n\\n5.9 Course Attendance Rule\\n  Attendance in classes is mandatory from the very beginning of the semester.\\n\\nStudents who\\nmiss even a single lecture from among the first three lectures of a course, are liable to have\\nthemselves deregistered from the corresponding course.\\n\\nThe student s attendance report, with an alert message to be sent to parents/ guardian of\\nall 1st year students.\\n\\nThe message should be in bilingual (Hindi and English).\\n\\nIt is expected\\nthat all students should have 100% attendance in courses.\\n\\n(Ref: 256th Senate Meeting)\\n6 EXAMINATION / ASSESSMENT\\nSemester wise performance assessment of every registered student is done through various modes\\nof examinations.', 'These include quizzes, class tests, home assignments, group assignments, viva23\\nMove to Index\\nvoce, mid-semester examination and semester-end examination.\\n\\nThe Instructor will announce the\\nmodes of evaluation and distribution of weightage for each of the assessments at the beginning of\\nthe course.\\n\\nVarious modes of assessment for theory and laboratory courses along with the recommended relative weightage of various components are given in this section.\\n\\nA large departure from the recommended modes of assessments and weightage will require prior approval from the Dean of Academic Programmes.\\n\\n6.1 Modes of Evaluation for Theory Courses\\na) Various modes of assessment used for rating students  performance in a theory course include\\nquizzes, class tests, home assignments, group assignments, viva-voce, mid-semester and semester-end examinations.\\n\\nRelative weightage for in-semester evaluations is typically between\\n50 and 60 per cent.\\n\\nThis will consist of one mid-semester exam of two hours duration, of about\\n25-30 per cent weightage, to be held as per the schedule fixed in the Academic Calendar.\\n\\nTwo\\nquizzes or one quiz and one test along with assignments and viva-voce shall make up the rest\\nof the in-semester assessment or as declared by the course instructor at the beginning of the\\nsemester The Instructor may also set aside up to a maximum of 20 per cent of the in-semester\\nmarks for attendance and/or class participation.', '(Ref: 235th Senate Meeting) Make-up for any\\nabsence from in-semester evaluations like midsem/tests/quizzes will be at the discretion of the\\nInstructor.\\n\\nb) The semester end examination will be held as per the Academic Calendar and the weightage\\nfor this would be typically 40 to 50 per cent.\\n\\nIt is typically of 3 hours duration and covers the\\nfull syllabus of the course.\\n\\nThe semester- end examination is mandatory.\\n\\nThe instructor awards\\nan  II  grade for those students not appearing for the Semester end examination, if they have\\nnot been awarded a DX grade for insufficient attendance.\\n\\nSuch students are eligible for a semester-end re-examination only on medical grounds/ valid reasons (refer Sec.\\n\\n6.6) and on production of medical certificate or other supporting documents as the case requires.\\n\\nThe application must be submitted to Instructor concerned before the start date of re-exam and online\\ngrading window announced in the Academic Calendar.\\n\\nInstructors are expected to conduct the\\nre-exam and upload the grade as per academic calendar.\\n\\nc) If a student fails to appear for the re-examination too, the instructor will award  FR  grade\\nagain.\\n\\nIf the absence in the re exam is due to medical / valid reasons, the student must submit\\nsupporting documents as mentioned above, within seven days of the scheduled date of the reexam, to the Academic Office.\\n\\nUGAPEC will examine such cases and convert the  II  grade into\\na dropped course status ( DR ).', 'UGAPEC will examine such cases and convert the  II  grade into\\na dropped course status ( DR ).\\n\\nIn all other cases the  II  grade will be converted to  FR  grade.\\n\\nIn any case the  II  grade will not be continued beyond the commencement of the subsequent\\nsemester.\\n\\n6.2 Modes of Evaluation for Laboratory Courses\\nThe assessment in a laboratory course will be based on turn-to-turn supervision of the student s\\nwork, her/his performance in viva-voce examinations and group discussions, the quality of their\\n24\\nMove to Index\\nwork as prescribed through laboratory journals and a semester-end test that contains an experiment or a written examination.\\n\\nIn-semester work will typically carry 75% and the semester-end test\\n25% weightage respectively.\\n\\nIt is obligatory to maintain a laboratory journal as prescribed by the\\ncourse instructor.\\n\\nThe final examination for laboratory courses will typically be held a week before\\nthe final theory examinations.\\n\\nIn case of absence from semester-end examination, the same rules\\nas those for theory courses is applicable.\\n\\n6.3 Modes of Evaluation for Seminars\\nSeminars are evaluated based on a written report and an oral presentation before a panel of examiners appointed by the DUGC/ coordinator.\\n\\nThe supervisor /co-supervisor, when involved, are part\\nof the panel.\\n\\nGrades carrying grade points are awarded as in the case of theory and laboratory\\ncourses based on the quality of the report and performance in the presentation.', 'The evaluation of\\nthe seminars is completed and the grades submitted to the academic office (one week) before the\\ncommencement of the end- semester examination.\\n\\n6.4 Modes of Evaluation for Projects\\nAs described in section 2, B.Tech project is not an Institute requirement.\\n\\nHowever, some departments may make it as the department requirement for the degree, and some might make it only as\\na component of the Honours requirement, whereas for Dual Degree, the project is a required component for the award of degree.\\n\\nAs the case may be, the separate modes of assessment are mentioned hereunder.\\n\\n6.4.1 B.Tech.\\n\\nProject\\nB.Tech.\\n\\nProject may be offered as one unit as BTP, or two independent units as BTP - I and BTP - II.\\n\\nWherever it is split into two units, BTP - II builds on BTP - I, and BTP - I becomes a pre- requisite for\\nBTP   II.\\n\\nDepartments may prescribe a minimum performance in BTP - I (which may be higher than\\nthe pass grade  DD ) for being eligible for BTP - II.\\n\\nBTP - I and BTP - II are separately graded, at the\\nend of the respective semesters.\\n\\nThese projects are supervised, and need regular interaction (at least once a week) with the supervisor.\\n\\nStudent has to submit a project report and defend it in front of a panel of examiners.\\n\\nThe\\ndates for submission of reports, the dates for presentations, and details of mode of assessment are\\ndecided by the individual departments.\\n\\n6.4.2 Dual Degree Projects\\na) The following is the schedule for the DDP assessments:\\nI.', '6.4.2 Dual Degree Projects\\na) The following is the schedule for the DDP assessments:\\nI.\\n\\nFor evaluation of DDP stage-I, the student has to submit a report to the respective department.\\n\\nEvaluation will be done, by a panel appointed by the DUGC/ coordinator,\\nbased on the report and (a) either an across the table discussion and viva-voce or (b)\\nseminar presentation.\\n\\nThe panel shall consist of the supervisor(s) and atleast one more\\nfaculty member, to act as examiners.\\n\\nII.\\n\\nFor evaluation of DDP stage-II, the student has to submit the reports to the respective\\ndepartments on or before one week from the date specified in the Academic Calendar.\\n\\n25\\nMove to Index\\nThe evaluation will be done by a Board of Examiners based on the report, and a vivavoce / presentation.\\n\\nFinal Grade reports are to be sent by the Department to the Academic Section on completion of the viva-voce, as per the date specified in the Academic\\nCalendar.\\n\\nb) The Board of Examiners for DDP assessment is approved by the Convener, DUGC, and will\\nconsist of the following: (Ref.\\n\\n: 159th & 191st Senate Meeting)\\nFor DDP Stage I\\nI.\\n\\nSupervisor(s)\\nII.\\n\\nOne Internal Examiner\\nFor DDP Stage (Final) II\\nThe Final (II) stage assessment will be done by a Board of Examiners appointed by the\\nDPGC/IDPC consisting of the following:\\nI.\\n\\nSupervisor (s)\\nII.\\n\\nInternal Examiner\\nIII.\\n\\nExternal Examiner/Additional Internal Examiner in absence of External Examiner,\\nif approved by the Academic Unit/Department\\nIV.', 'Chairperson: A Professor/ Associate Professor from another academic unit or a different\\nspecialization/ research area.\\n\\nThe Academic Unit may decide if a Chairperson is needed\\nfor the viva or if one of the Internal Examiners can also act as a Chairperson.\\n\\nIn case the\\nInternal Examiner happens to be a Professor/ Associate Professor, he may be designated\\nto also serve as the Chairperson with prior approval of the Convener, DPGC.\\n\\nc) Submission of Electronic form of Dissertation/ Report (Ref: 204th Senate Meeting) Dissertations/ Report needs to be submitted in electronic form to the Central Library.\\n\\nDue academic approvals of the final version of the Dissertations/ Reports should be obtained from\\nthe supervisor(s) prior to finalizing the archival version of the Dissertation/ Report.\\n\\nThe\\nstudent shall submit the prescribed form for submission of dissertation/report to the academic unit/Academic Office, duly signed by the concerned, within ONE month, from the\\nsuccessful completion of the defence.\\n\\nIf the copies of dissertation submitted after the due\\ndate, a fine of Rs.\\n\\n5000/- per month from the due date of submission till the date of submission will be levied.\\n\\n(Amended in the 207th Senate meeting).\\n\\nThe final transcripts/provisional\\ndegree certificate/final degree certificate will be issued only after receipt of dissertations/reports.\\n\\nd) The minimum passing grade in each stage of the project assessment shall be  DD .', 'd) The minimum passing grade in each stage of the project assessment shall be  DD .\\n\\ne) After registering for DDP (either of the stages), a student should not take up any other assignment (paid or unpaid) before submitting her/his dissertation.\\n\\n26\\nMove to Index\\nf) After the Dissertation is assessed, a hard-bound copy of the final Dissertation along with\\nduly completed forms is to be submitted to the Academic office.\\n\\nSoft copies of the Synopsis\\nand the final Dissertation paper are to be submitted to the Central Library.\\n\\ng) The project reports need to be submitted 7-15 days before the date of evaluation, but not\\nearlier.\\n\\n6.4.3 B.S.\\n\\nProject (Ref: 240th Senate Meeting)\\nOn completion of the project, student is required to submit a report and make a presentation to a\\ncommittee appointed by the department which would award a letter grade.\\n\\n6.4.4 Extension Rules for Projects (R&D, BTP, DDP, B.S.\\n\\nprojects) (Ref.\\n\\n236th Senate Meeting)\\nGrades for all registered project based courses have to be uploaded before the last date for grade\\nsubmission.\\n\\nThe evaluation committee may recommend an II grade for unfinished work due to any\\nreason.\\n\\nAlso, if a grade is not uploaded by the academic unit by the last date for grade submission,\\nan II grade will be automatically assigned to the student.\\n\\nIn the case of R&D projects, BTP-1, BTP-2, DDP-1 and the first stage of the four year B.S.', 'In the case of R&D projects, BTP-1, BTP-2, DDP-1 and the first stage of the four year B.S.\\n\\nproject and\\nthe 5 year integrated M.Sc project, a letter grade to replace the II grade must be submitted to the\\nacademic office, at most 20 days after the last date for grade submission of the previous semester.\\n\\nIf a letter grade is not received by the academic office in time, the II grade will be automatically\\nconverted to an FR.\\n\\nNo further extensions will be permitted on any grounds for these projects.\\n\\nThe\\nstudent may re-register for the project (mandatory for DDP-1) in a subsequent semester in case an\\nFR grade is assigned.\\n\\nFor the final stage of the B.S./M.Sc project and DDP-2, a letter grade to replace the  II  grade must\\nbe submitted to the academic office at most 20 days after the last date for the grade submission.\\n\\nHowever, the student may apply for an additional extension of at most 15 days (a final deadline of\\n35 days from the last date for grade submission of the previous semester), with recommendations\\nand an explanation for the delay by the guide, to the DUGC of the concerned academic unit.\\n\\nPost\\nassessment, the grade may then be sent to the academic office through the Convener, DUGC before\\nthis date.\\n\\nAfter this date (35 days from the last date for grade submission for project) the II grade\\nwill be automatically converted to an FR grade.\\n\\nThe student will then have to re-register for the\\ncourse in the subsequent semester after payment of fees.', 'No further extensions will be permitted\\non any grounds for these projects.\\n\\nThe decision on allotment of hostel rooms during such extensions is done independently by the\\nDean (Student Affairs)/ Hostel Co-ordination Unit.\\n\\n6.5 Grading\\na) Indian Institute of Technology Bombay follows grading system.\\n\\nBased on the combined performance in all assessments, the student is awarded a letter grade in every course taken by\\nhim/her in a particular semester as per the curriculum.\\n\\nThese letter grades not only indicate\\na qualitative assessment of the student s performance but also carry a quantitative (numeric) equivalent called the Grade Point.\\n\\nThe letter grades and their equivalent grade point\\nare given below:\\n27\\nMove to Index\\nLetter Grade Point\\nGrade\\nAP 10 (Grade is awarded to students with exceptional performance)\\nAA 10\\nAB 9\\nBB 8\\nBC 7\\nCC 6\\nCD 5\\nDD 4\\n0 {Fail and repeat the course/ equivalent course for mandatory\\nFR\\ncourses (except core)}\\nFF 0 (Fail & Re-examination)\\n{Credits are not included in CPI.\\n\\nAttendance below 80% - Repeat the\\nDX course for core course(s)/equivalent course for mandatory courses\\n(except core)}\\nW Course Withdrawn\\nAU Satisfactory in an Audit course\\nPP Passed\\nNP Not Passed\\nIncomplete (place holder, gets converted to an appropriate grade\\nII\\nafter Semester end re-examination, as per applicability)\\nDropped (DR is not a grade but only a position holder indicating\\nDR that the course has been dropped and it has to be cleared in subsequent semesters).', 'A student passes the course if he/she gets any grade in the range of  AP  to  DD  ( AU  in the case\\nof an audit course, but fails if he/she gets the grade  FR  and/or  DX .\\n\\nFF ,  II  and  DR  are place\\nholders.\\n\\nb) The grade  AP  indicates exceptional performance and is awarded only in the Course/(s) in\\nwhich the number of registered students is more than 50.\\n\\nIt should not exceed 2 % of the\\ntotal strength of the particular theory or lab course.\\n\\nThe grade  AP  is not awarded for projects / seminars.\\n\\n28\\nMove to Index\\nc) An  FR  grade is awarded in case/(s) where, in the opinion of the instructor (panel of examiners in the case of projects), the performance of the student is below an acceptable threshold in the in-semester and /or end-semester examinations.\\n\\nIt may also be awarded for Academic malpractices.\\n\\nDetails pertaining to Academic malpractices are available at:\\nhttp://www.iitb.ac.in/newacadhome/punishments201521July.pdf\\nd) (Ref: 235th Senate Meeting)  DX  grade is awarded to students who have inadequate attendance as per following:\\nIIT Bombay expects one hundred percent (100 %) from its students in all classes.\\n\\nIf the attendance of the student, as counted with effect from the first contact hour, falls below\\neighty percent of the total attendance expected, the instructor may award the student,\\n Drop due to inadequate attendance ,  DX  grade in that course.', 'This  Drop due to inadequate attendance  Grade would, for the purpose of CPI calculation be treated as equivalent\\nto a  Course Drop  carried out on initiation by the student.\\n\\nIn calculating attendance, no\\nspecific concession is to be given for lack of attendance on Medical ground.\\n\\nFurther, if a\\nstudent has 80% attendance or more, he/ she cannot be awarded  Drop due to inadequate\\nattendance.\\n\\nOnly exception to this rule is courses where the instructor has declared a prior\\nin the first week that no DX grade will be awarded.\\n\\ne) For a student present in the semester-end re-examination, the instructor will award a regular performance grade (AP-FR) depending on the overall performance in the course including the re-examination.\\n\\nf) There are, however, a few other academic requirements for the programmes.\\n\\nThe following\\ntwo grades viz.,  PP  (Pass) and  NP  (Not pass), will be awarded for NCC/NSO/NSS.\\n\\nNo\\ngrade points are associated with these grades and performance in these courses is not taken\\ninto account in the calculation of the performance indices (SPI, CPI).\\n\\nHowever, the award of\\nthe degree is subject to obtaining a  PP  (Pass) grade in all such courses.\\n\\nA student will be\\nawarded  PP  (Pass) /  NP  (Not Pass) grade for NCC/ NSO/NSS in each semester provided\\nthe minimum requirement of these activities are met during that semester together with\\n80% minimum attendance, failing which the  NP  (Not Pass) grade will be awarded.', 'g) (Ref: 239th Senate Meeting- effective from End Semester Examinations of the Spring Semester 2019-20).\\n\\nFF  grade can be awarded to UG students by the concerned course instructor.\\n\\nThe students will be given only one chance for re-examination in case of FF grade,\\notherwise the grade will be converted to FR.\\n\\nRe-exam will be conducted for 50 % weightage\\n(or same as the weightage of end-semester exam for the course).\\n\\nRe-exam for students\\nwith FF grade will be conducted along with medical re-exam.\\n\\nThe grade will be restricted to  DD  for the re-examination, in case of FF Grade.\\n\\nh) Course(s) completed by student(s) outside IIT Bombay by means of NPTEL and / or SWAYAM\\nand / or Semester Exchange, following due approval of DUGC/ DPGC, will contribute only\\ntowards completion of credits.\\n\\nGrade(s) earned in such courses will not be considered for\\n29\\nMove to Index\\nthe SPI/ CPI calculation.\\n\\nThe transcript will record such course(s) and the corresponding\\ngrade(s) as it is/ they are.\\n\\n(Applicable for NPTEL/ SWAYAM courses from the academic year\\n2020-2021 onwards and for Semester exchange students for academic year 2021-22 onwards.)\\n\\n(Ref: 246th Senate Meeting)\\ni) For 1st year students of UG programme, no direct  FR  grade be awarded after the end semester in the 1st attempt.\\n\\nThe fail grade will be  FF  at first instance of the examination.\\n\\nThe\\nstudent will have to reappear in the examination of the course, in which he/she has obtained  FF  grade.', 'Subsequently, a letter grade DD or FR will be allotted.\\n\\n(Ref: 256th Senate\\nMeeting)\\n6.6 Valid reasons for semester-end make-up examination (Ref: 240th Senate Meeting)\\nFollowing may be considered as valid reasons for semester   end make-up examination:\\na) Serious illness/ accident in the case of the student herself/ himself.\\n\\nSerious illness/ accident/\\ndeath of parent/ guardian.\\n\\n6.7 Academic Malpractice\\nAcademic malpractices are severely dealt with.\\n\\nThe details pertaining to Academic malpractices are\\navailable at: http://www.iitb.ac.in/newacadhome/punishments201521July.pdf\\n6.8 Semester Performance Index/ Cumulative Performance Index (SPI/CPI)\\n6.8.1 Semester Performance Index (SPI)\\nThe performance of a student in a semester is indicated by a number called Semester Performance\\nIndex, SPI.\\n\\nThe SPI is the weighted average of the grade points obtained in all the courses registered\\nby the student during the semester.\\n\\nFor example, if a student passes five courses (Theory/labs.\\n\\n/Projects/ Seminar etc.)\\n\\nin a semester with credits C1, C2, C3, C4 and C5 and her/his grade points in\\nthese courses are g1, g2, g3, g4 and g5 respectively, then her/his SPI is equal to:\\nC1g1 + C2 g2 + C3 g3 + C4 g4 + C5 g5\\nSPI = ---------------------------------------------------------C1 + C2 + C3 + C4 + C5\\nThe SPI is calculated to two decimal places.\\n\\nThe SPI for any semester will take into consideration the\\nFR grades awarded in that semester.', 'The SPI for any semester will take into consideration the\\nFR grades awarded in that semester.\\n\\nFor example, if a student has failed in course 4, the SPI will\\nthen be computed as:\\nC1g1 + C2 g2 + C3 g3 + C4 * ZERO+C5 g5\\nSPI = ------------------------------------------------------------------C1 + C2 + C3 + C4 + C5\\nThe courses which do not form the minimum requirement of the degrees will not be considered for\\ncalculation of the SPI.\\n\\nSuch additional courses undertaken and the grades earned by the student will\\nbe shown separately.\\n\\n30\\nMove to Index\\nThe updated SPIs will be shown in the transcript only after the last date of grade submission (course\\n+ project) as per the Academic Calendar.\\n\\nTill then, only the SPI till previous completed semesters\\nwill be displayed.\\n\\n6.8.2 Cumulative Performance Index (CPI)\\nAn up to date assessment of the overall performance of a student from the time s/he entered the\\nInstitute is obtained by calculating a number called the Cumulative Performance Index, CPI, in a\\nmanner similar to the calculation of SPI.\\n\\nThe CPI therefore considers all the courses registered by\\nthe student, towards the minimum requirement of the degree s/he has enrolled for, since s/he entered the Institute.\\n\\nThe CPI is calculated at the end of every semester to two decimal places.\\n\\nThe CPI will reflect the failed status in case of FR grade(s), till the course(s) is/are cleared.', 'The CPI will reflect the failed status in case of FR grade(s), till the course(s) is/are cleared.\\n\\nWhen the course(s) is/are cleared by obtaining a pass grade on subsequent registration(s) the CPI\\nwill only reflect the new grade and not the fail grades earned earlier.\\n\\nExample: Up to semester r a student has registered for n courses, among which s/he has a  FR \\ngrade in course i.\\n\\nThe semester grade report at the end of semester r therefore will contain a CPI\\ncalculated as:\\nC1g1 + C2 g2 + C3 g3 + .. +Ci* ZERO+Cn gn\\nCPI = ------------------------------------------------------------------------C1 + C2 + C3 + ... +Ci + ... + Cn\\nEven if a student has failed in a course more than once, the course will figure only once in the numerator as well as the denominator.\\n\\nAt the end of semester r+1 s/he has registered for four more courses including the backlog course i\\nand has cleared all the courses including the backlog course, the CPI at the end of this semester is\\ncalculated as:\\nC1g1 + C2 g2 + C3 g3 + .. +Ci*gi+..+Cn gn\\nCPI = -------------------------------------------------------------------C1 + C2 + C3 + ... +Ci + ... + Cn\\nThe courses which do not form the minimum requirement of the degrees will not be considered for\\ncalculation of the basic CPI.\\n\\nThese courses will be shown separately.\\n\\nThe updated CPI will be shown in the transcript only after the last date of grade submission (course\\n+ project) as per the Academic Calendar.', 'Till then, only the CPI till previous completed semesters\\nwill be displayed.\\n\\nThe Transcript will reflect only two CPI i.e.\\n\\na) CPI Courses and b) CPI   Courses\\n+Project.\\n\\n(Ref: 241st Senate Meeting)\\n6.8.3 Semester Grade Report\\nThe Senate of IIT Bombay in its 221st Meeting considered discontinuation of issue of Semester Grade\\nCards from Spring Semester 2014-15.\\n\\n31\\nMove to Index\\nAll students are able to see their grades as soon as concerned Course instructor /Faculty member\\nuploads grades on the ASC.\\n\\nStudents may use the data from their interface for the purpose of information and conveying to their parents as well.\\n\\n6.8.4 The Transcript: Consolidated Statement of Academic Performance\\nTranscript is a consolidated statement of a Academic Performance of a student for all the semesters\\nsince joining the programme and is given to a student on successful completion of the programme\\nalong with the degree certificate.\\n\\nFor those students who have taken multiple attempts to clear a\\ncourse, the transcript given on successful completion of the programme will record the entire history of the academic performance of a student in all the courses he/she takes as a student in the\\nInstitute.\\n\\nTherefore every course registered by a student and the grades obtained there upon (including FR,DX,W etc.)\\n\\nwill be mentioned in the transcript for the courses registered in the Autumn\\nSemester 2016-17 onwards.\\n\\n(Ref: 225th Senate Meeting).\\n\\nThe transcript will reflect only two CPI i.e.', '(Ref: 225th Senate Meeting).\\n\\nThe transcript will reflect only two CPI i.e.\\n\\na) CPI Courses and b) CPI- Courses + Project.\\n\\n(Ref: 241st Senate Meeting) Additional courses will be\\nshown separately, indicating also the minor / Honours, if any, earned by the student.\\n\\nAdditional\\ncopies of the transcript can be obtained if needed, on request and upon payment of applicable fee.\\n\\nStudents who have not yet completed the programme can obtain an Interim Transcript, if needed,\\non request and upon payment of applicable fee.\\n\\n6.9 Display of In-Semester Performance\\na) The in-semester performance of all students is communicated by the instructor to the students before the end-semester examination.\\n\\nThose awarded  DX  grades as described in\\n6.5 (d) above will be clearly identified in this list.\\n\\nb) Based on the in-semester performance, the instructor may also decide and publish a cut-off\\n(based on the average performance of the class), below which the in-semester performance\\nis considered  Unsatisfactory .\\n\\nThis will be the basis on which an instructor may declare a\\n FR  grade even when a student is absent for the end-semester examination on valid\\ngrounds.\\n\\n6.\\n\\n10 Disclosing evaluated material in a course (Ref: 259th Senate Meeting)\\nA course instructor will make arrangements for students to see all evaluated answer scripts, student\\nsubmissions and other graded material before finalization of grades for theory as well as for lab\\ncourses as per dates published in Academic calendar.', '6.11 Answer Script Retention period\\nEvaluated answer scripts are preserved by the Instructor/ Departmental Office for one semester.\\n\\n6.12 Compensatory time to PwD students (Ref: 239th Senate Meeting- effective from End Semester examination of the Autumn Semester 2019-20)\\nCompensatory time is to be provided to all PwD students across the Institute during written examination.\\n\\n32\\nMove to Index\\nFor PwD Students,  compensatory time  will not be less than 20 minutes per hour of examination\\nfor persons who are allowed use of scribe/ reader/ lab assistant.\\n\\nAll the candidates\\nwith benchmark disability not availing the facility of scribe may be allowed additional\\ntime of minimum of one hour for examination of 3 hours duration.\\n\\nIn case the\\nduration of the examination is less than an hour, then the duration of additional time will be\\nallowed on pro rata basis.\\n\\nAdditional time will not be less than 5 minutes and will be in the multiple\\nof 5 .\\n\\nPwD students must inform the instructors in advance regarding their need for compensatory time\\nduring examination.\\n\\n7.', \"7.\\n\\nRegistration of NPTEL/ SWAYAM Courses:\\na) A student can take maximum of 12 credits of NPTEL/SWAYAM courses in lieu of departmental elective and Institute elective courses for the regular student (not under ARP), and,\\n(b) a maximum of 24 credits of NPTEL/SWAYAM courses in lieu of any courses including core\\ncourses for the students, who are under ARP or in extension years after the approval from\\nDUGC of the parent department towards the partial completion of mandatory academic\\ncurriculum.\\n\\nb) A student can take NPTEL/SWAYAM courses as 'Additional Learning' for UG students subject\\nto not exceeding credit limit based on approval of DUGC.\\n\\n(Ref: 243rd Senate Meeting)\\n7.1 Credit Equivalence of NPTEL/SWAYAM courses with IIT Bombay courses (249th Senate\\nMeeting):\\na) 12 Weeks NPTEL/SWAYAM courses would be typically considered equivalent to 6 credits at\\nIIT Bombay.\\n\\nHowever, in some special cases, DUGC/DPGC/UGC/PGC may consider and approve 12 weeks NPTEL/SWAYAM course(s) equivalent to 8 credits at IIT Bombay.\\n\\nb) 8 Weeks NPTEL/SWAYAM courses would be considered equivalent to 4 or 3 credits at IIT\\nBombay, depending on approval of DUGC/DPGC/UGC/PGC.\\n\\n7.2 Policy for registering/ award of grades for NPTEL/ SWAYAM/ Semester Exchange courses\\n(Ref.\\n\\n251st Senate)\\na) Registration for NPTEL/ SWAYAM courses: Students may register for these courses during\\nregistration window as per Academic calendar for that semester.\\n\\nFaculty Advisor can approve these registrations in consultation with DUGC.\", 'Faculty Advisor can approve these registrations in consultation with DUGC.\\n\\nb) Registration for Semester Exchange Courses: Academic Units may register students for\\nthese courses as and when student returns from the FRN Institute, as per approval of DUGC.\\n\\nc) Grading- As per Academic calendar for that semester along with other courses.\\n\\nd) If no grades are allotted during the approved window, the course will be removed automatically from the registration of the students on the last date of Academic Activity, so that\\nthere will be no issue in calculating SPI/CPI of the student.\\n\\n33\\nMove to Index\\n8 CHANGE OF BRANCH\\nThe Senate in its 256th meeting has approved the elimination of Branch Change into any of\\nthe JOSAA administered branches of admission.\\n\\nThis is applicable for the students admitted through\\nJEE (Advanced) 2023 onwards.\\n\\n8.1 Conversion to LASE programme (Ref: 252nd Senate Meeting)\\nIn 252nd meeting of the Senate, admission to Liberal Arts, Sciences and Engineering Programme (LASE) is approved through Branch Change.\\n\\nFrom Academic year 2022-2023, the LASE programme is available for eligible students for branch change.\\n\\nAll applicants will be assessed based on\\na written test and/ or personal interview and academic performance (CPI) of the student at IIT Bombay.\\n\\nThe students graduated through LASE curriculum would be awarded a B.S.', 'The students graduated through LASE curriculum would be awarded a B.S.\\n\\ndegree in - (a)\\nNatural Science, or (b) Engineering Science, or (c) Social Science, or (d) Arts and Design, depending\\non the nature of the completed courses / credit requirements.\\n\\nThe student who have applied for LASE programme must meet the following branch change criteria.\\n\\nStudents are eligible to apply for the change of branch/ programme after completing the first two\\nsemesters and before the start of the third semester.\\n\\nA) The Eligibility Criteria for applying for a change of branch/ programme are:\\na) Completion of the prescribed course credits in the first two semesters.\\n\\nb) No FR/DX/DR/W grades at the end of the first two regular registered semesters.\\n\\nc) NP grade in NOCS shall not be a bar for applying for a branch change.\\n\\nd) NP grade in GC 101 shall not be a bar for applying for a branch change.\\n\\ne) Students should secure an  eligibility-CPI  of at least 7.0.\\n\\nThe  eligibility- CPI  is\\ncalculated taking into account only the following 1st year courses:\\ni.\\n\\nIntroduction to HASMED (8 Credits)\\nii.\\n\\nDIC-1 (6 Credits), if applicable\\niii.\\n\\nDIC-2 (6 Credits), if applicable\\niv.\\n\\nMaker Space (MS 101 = 8 Credits)\\nv. Physics Lab (PH 117 = 3 Credits)\\nvi.', \"Maker Space (MS 101 = 8 Credits)\\nv. Physics Lab (PH 117 = 3 Credits)\\nvi.\\n\\nChemistry Lab (CH 117 = 3 Credits)\\nB) The calculation of CPI for  Change of Branch , henceforth referred to as the  BranchChange-CPI , will be based only on grades obtained in the following 1st year theory courses:\\na) Physics: PH 110 (8 credits), if applicable\\nb) Chemistry: CH 111 (8 credits), if applicable\\nc) Mathematics courses: MA 105 (8 credits) and MA 110 (8 credits), if applicable\\nd) Biology (BB 101 = 6 credits), if applicable\\ne) Computer Programming and Utilization (CS 101 = 6 credits), if applicable\\nC) a) Before beginning the allocation, additional seats are made available in each branch,\\nlimited to a maximum of 10% of its sanctioned strength.\\n\\n34\\nMove to Index\\nb) While students are allotted seats of general and reserved type during admission, this\\ndata is not used during branch change.\\n\\nEach available seat may be occupied by students of\\nany category.\\n\\nD) An eligible student's request for a shift from branch A to branch B will be considered valid if\\nany one of the following two sets of criteria are satisfied.\\n\\nSet 1\\ni. the  Branch-Change-CPI  of the student is at least 9\\nii.\\n\\nthere is a seat available in Branch B\\nSet 2\\ni.\\n\\nThere is a seat available in Branch B.\\nii.\\n\\nThe strength in branch A, from which a change is being sought, does not fall below its\\nsanctioned strength by more than 25%.\\n\\niii.\", 'iii.\\n\\nThere is no student with either (I) higher  Branch-Change-CPI  or (II) same  BranchChange-CPI  and higher  overall-CPI  who is currently being denied a branch change\\nfrom any other branch X to branch B due to the strength of branch X falling below its\\nsanctioned strength by more than 25% due to rule (ii).\\n\\nProcedure\\nAmong all valid requests, students with the highest  Branch-Change-CPI  are considered for\\nshifting first.\\n\\nIn case more than one student has the same  Branch-Change-CPI  then the  overall-CPI \\nwill be used to break ties and a student among the above with the highest  overall-CPI  will\\nbe shifted.\\n\\nIn case there is a tie for both the  Branch-Change-CPI  and the  overall- CPI , then the following will apply:\\nIf a student with  Branch-Change-CPI  x and  overall-CPI  y is shifted from branch A to\\nbranch B then every student with  Branch-Change-CPI  x and  overall-CPI  y with a request\\nfor branch B will be shifted to branch B, even if their request violates (ii) above.\\n\\nIf necessary,\\nextra seats will be created to accommodate them.\\n\\nShifts as above are performed as long as\\nthere are valid requests.\\n\\nE) All changes of branch can be effected only once at the beginning of the second academic\\nyear.\\n\\nNo application for change of branch during the subsequent academic years will be\\nentertained.\\n\\nF) Branch change decisions will be final and will not be reversed.\\n\\nG) To run the LASE programme, the minimum student strength for the LASE programme should\\nbe 10.', 'G) To run the LASE programme, the minimum student strength for the LASE programme should\\nbe 10.\\n\\nIf less than 10 students are allotted the LASE programme after branch change then\\nthe result will be considered as null and void.\\n\\n35\\nMove to Index\\n9 PERFORMANCE REQUIREMENTS\\n9.1 Award of Degree\\nOn successful completion of the prescribed requirements for a programme {B.Tech.\\n\\n; B.S.\\n\\n; Dual Degree (B.Tech.\\n\\nand M.Tech.\\n\\n)}, degree will be conferred on a student in an annual convocation of the\\nInstitute.\\n\\nThe degree certificate will indicate the relevant branch, and specializations if any, in the engineering\\nor science discipline in which the student has graduated.\\n\\nFor example: Bachelor of Technology in\\nCivil Engineering, Master of Science in Chemistry, or Bachelor of Technology in Electrical Engineering\\nand Master of Technology in Electrical Engineering with Specialization in Microelectronics.\\n\\nIn those cases where the student has earned the required credits for an Honours in her/his discipline\\nor a Minor in another discipline within the stipulated time, this will be mentioned in the degree\\ncertificate: for example:\\na) B.Tech.\\n\\nin Metallurgical Engineering and Materials Science with Minor in Environmental Sciences and Engineering.\\n\\nb) B.Tech.\\n\\nin Mechanical Engineering with Honours.\\n\\nc) B.Tech.\\n\\nin Mechanical Engineering with Honours and Minor in Electrical Engineering.\\n\\nd) B.Tech.\\n\\nin Aerospace Engineering.\\n\\nFor Dual Degree students\\na) B.Tech.', 'd) B.Tech.\\n\\nin Aerospace Engineering.\\n\\nFor Dual Degree students\\na) B.Tech.\\n\\nin Chemical Engineering and M.Tech.\\n\\nin Chemical Engineering with Specialization (if\\nany).\\n\\nb) B.Tech.\\n\\nIn Chemical Engineering with Minor in Electrical Engineering and M.Tech.\\n\\nIn Chemical\\nEngineering with Specialization (if any).\\n\\nAlong with the degree certificate, the student will be given a complimentary copy of transcript, giving semester-wise details of all academic accomplishments.\\n\\nThe additional courses taken, whether\\nearning a minor/ Honours or not, will be separately mentioned in the transcript.\\n\\nIf an Honours/\\nminor is earned that will also be mentioned.\\n\\nAn overall CPI for all the academic work done by the\\nstudent will be given.\\n\\nThe transcript and the final degree certificate will not mention any class whatsoever; only the CPI/s will be given in the transcript.\\n\\nHonours is not indicative of class.\\n\\nFor conferment of degree, student has to fulfill the following requirements:\\na) The student should have taken and passed all the courses prescribed for the degree under the\\ngeneral institutional and departmental requirements.\\n\\nb) The student should have satisfactorily fulfilled other academic requirements such as practical\\ntraining, NSS/NSO/NCC, work visits, seminar and projects, as specified for the discipline/programme.\\n\\nc) The student should have paid all the Institute dues.\\n\\n36\\nMove to Index\\nd) The student should have no case of indiscipline pending against him/her.', '36\\nMove to Index\\nd) The student should have no case of indiscipline pending against him/her.\\n\\n9.2 Award of Medals (Ref.\\n\\n260th Senate Meeting)\\nThe rules and procedures for Award of Medals and Academic prizes is available at the following link:\\nhttps://www.iitb.ac.in/newacadhome/RulesforAwardofMedalsandAcademicprizesforUGandPG.pdf\\n9.3 Transfer to Academic Rehabilitation Programme (ARP): (Ref: 240th Senate Meeting)\\nGiven that some of the best talents in the country take admission at this Institute, it is expected that\\nall of them perform very well, and fully utilize the various opportunities provided for their academic\\nadvancement.\\n\\nHowever, in a few cases, students are unable to cope with the studies here.\\n\\nThis may\\noften be due to a lack of aptitude or a mismatch between the student s interest and what the programmes provide.\\n\\nEarly recognition of this tendency permits corrective action to be taken in time,\\nand the students to pursue their careers elsewhere.\\n\\nThe students with poor Academic performance\\nare transferred to the Academic Rehabilitation programme (ARP) (Ref.\\n\\nSec 10)\\n9.4 Exit Degree option for Undergraduates (Ref: 253rd Senate Meeting)\\nI) Eligibility Criteria:\\n1.\\n\\nThe students admitted and registered in the regular undergraduate programme, viz.\\n\\nB.Tech., B.S., B.Des., B.Tech.+M.Tech.', 'B.Tech., B.S., B.Des., B.Tech.+M.Tech.\\n\\n(DD) shall be eligible for an exit degree, if they\\nfulfill the following criteria:\\n(A) Minimum 160 credits to be completed as detailed below:\\n(i) ES 200 and HS 200 (3+3 = 6 Credits); AND\\n(ii) Minimum Dept.\\n\\ncredits = 60 for specialization.\\n\\nOR\\n(iii) Minimum Science and Engg.\\n\\ncredits = 60 without specialization.\\n\\n(B) Minimum duration of B.Sc.\\n\\n(Engineering) and related exit degrees will be 6 semesters.\\n\\nStudents can apply for an exit degree after 4th semester.\\n\\n(C) The specialization can only be in the dept.\\n\\nthey are registered in at the time of\\napplication.\\n\\n2.\\n\\nThe exit degree option is also available to all students who were admitted to the UG\\nProgrammes, who have not completed their degree requirements within the stipulated\\ntime and have not been terminated.\\n\\nII) Process to apply:\\n1.\\n\\nA student can apply for the Exit Degree through prescribed application form (Annexure\\nI) and submit to the Faculty Advisor.\\n\\n2.\\n\\nFaculty Advisor may recommend the application to the DUGC.\\n\\n3.\\n\\nDUGC may recommend the application to the UGAPEC Convener.\\n\\n4.\\n\\nUGAPEC Convener may approve the application.\\n\\n37\\nMove to Index\\nIII) Degree Nomenclature:\\n1.\\n\\nExit from B.Tech./Dual Degree (B.Tech.\\n\\n+ M.Tech.)\\n\\nis mapped to B.Sc.(Engg.)\\n\\nA.\\n\\nExample: in case of B.Sc.(Engg.)\\n\\nwithout specialization\\n Bachelor of Science (3-year) in Engineering \\nB.\\n\\nExample: in case of B.Sc.(Engg.)', 'Example: in case of B.Sc.(Engg.)\\n\\nwith specialization in Electrical Engineering\\n Bachelor of Science (3-year) in Electrical Engineering \\n2.\\n\\nExit from B.S.\\n\\nin Chemistry and B.S.\\n\\nin Mathematics is mapped to B.Sc.\\n\\n(3 years)\\n Bachelor of Science (3-year) in Chemistry \\nor\\n Bachelor of Science (3-year) in Mathematics \\n3.\\n\\nExit from B.S.\\n\\nin Economics is mapped to B.A.\\n\\n(3 years)\\n Bachelor of Arts (3-year) in Economics \\n4.\\n\\nExit from B.Des.\\n\\nis mapped to B.Des.\\n\\n(3 years)\\n Bachelor of Design (3-year) \\nIV) Important Notes:\\n1.\\n\\nThe date and month of passing would be the approval of exit degree by the UGAPEC\\nConvener.\\n\\n2.\\n\\nThe students having the exit degree as their last qualification, will not be eligible for\\napplying for M.Tech./ M.Des.\\n\\nProgramme in IITB.\\n\\n3.\\n\\nIn case of lapsed registration, students may apply to regularize their semester registrations through DUGC and complete pending credits required for the exit degree.\\n\\n4.\\n\\nThe students are required to pay the continuation fees for the dropped semester(s), if\\nany and clear all pending fees/ dues/ DAC punishments (as applicable).\\n\\n9.5 Early Exit for Dual Degree/ IDDDP Students\\nIf a given department/ academic unit, through deliberation in the DUGC, finds that a particular student, irrespective of academic performance, is unlikely to complete the requirements of the Dual\\nDegree (B.\\n\\nTech.\\n\\n+ M.\\n\\nTech.)\\n\\nsatisfactorily then it may recommend to the UGAPEC that the student\\nbe permitted to exit with only the B.\\n\\nTech.', 'Tech.\\n\\nDegree but with the following mandatory clauses:\\nThe academic requirements of the B.\\n\\nTech.\\n\\nDegree must be completed.\\n\\nGroup I: Students admitted in 4-year B.S./ B.Tech./ B.Des.\\n\\nprogramme then converted to 5-year\\nDual Degree/ IDDD programme and applying for an exit with 4-year Programme within the prescribed duration of the programme (4-year) i.e.\\n\\nbefore the last date of academic activities of spring\\nsemester of 4th year of his/ her entry batch.\\n\\n38\\nMove to Index\\nRules:\\nSr. No.\\n\\nParticulars Recommendations\\n1 Semester Penalty Semester penalty will not be applicable\\n2 Award of Honor/ Minor Honor/ Minor will be awarded, if applicable\\nStudents may be considered for the award of medals, if\\nConsideration for award of eligible and if applied for an exit degree by last date of\\n3\\nmedals academic activities of spring semester of 4th year of his/\\nher entry batch\\n4 Note in Transcript All programme/ department transfers will be recorded\\nGroup II:\\na) Students admitted in 5-year programme {Dual Degree (B.Tech.\\n\\n+ M.Tech.)}\\n\\nand applying for\\nan exit with 4-year programme OR\\nb) Students admitted in 5-year programme {Dual Degree (B.Tech.\\n\\n+ M.Tech.\\n\\n)}, converted to\\nanother 5-year IDDDP and applying for an exit with 4-year programme OR\\nc) Students admitted in 4-year B.S./ B.Tech./ B.Des.', 'programme then converted to 5-year Dual\\nDegree/ IDDD programme and applying for an exit with 4-year Programme after the last\\ndate of academic activities of spring semester of 4th year of his/ her entry batch.\\n\\nRules:\\nSr. No.\\n\\nParticulars Recommendations\\n1 Semester Penalty One semester penalty will be applicable\\n2 Award of Honor/ Minor Honor/ Minor will not be awarded\\nConsideration for award\\n3 Students will not be considered for the award of medals\\nof medals\\n4 Note in Transcript All the programme conversions will be recorded\\nTimelines to apply for an exit degree from 5 Yr. (DD/ IDDD) Programme to 4 Yr. (B.Tech./ B.S./ B.Des.)\\n\\nProgramme:\\n39\\nMove to Index\\nTimelines for sending recomConvocation for\\nTimelines for students to apply\\nmendations by the Academic\\nawarding degree\\nUnits to UGAPEC\\nBy the last date of Academic Activ- Last date of Academic ActivMain Convocation\\nities of Spring Semester ity + 15 Days\\nBy the last date of Academic Activ- Last date of Academic ActivInterim Convocation\\nities of Autumn Semester ity + 15 Days\\n10 UNDERGRADUATE RESEARCH AWARDS (URA)\\nSome students may have an inclination towards research.\\n\\nThe Undergraduate Research Awards\\n(URA) is designed for such students.\\n\\nURA will be available at three levels, all of them independent\\nof each other.\\n\\nThey will carry codes similar to course codes so that they can be listed in grade reports.\\n\\nURA01: for preliminary research/ developmental experience\\nURA02: for B.\\n\\nTech.\\n\\nLevel Research Project.', 'Tech.\\n\\nLevel Research Project.\\n\\nURA03: for Dual Degree Level Research Project\\nURA01: This is a recognition of a small research/ developmental effort, successfully completed by a\\nstudent in the first, second or third year of an undergraduate programme   that is, a B.Tech., B.S.\\n\\nor a Dual Degree Programme.\\n\\nA faculty member must agree to supervise the student for the URA01\\nproject.\\n\\nThe student works with this faculty member, with the approval of the DUGC, for four-to-six\\nmonth duration   including the summer or winter vacations.\\n\\nNo formal registration is required with\\nthe academic office at this stage.\\n\\nIf the faculty member is satisfied with the quantum and quality of\\nwork done, at any stage, s/he may recommend the award of URA01 to the student, which will then\\nbe listed in the transcript of the student in the semester immediately following the semester in\\nwhich this award was recommended.\\n\\nNo credits are assigned to URA01.\\n\\nURA01 can be awarded\\nonly once to a student.\\n\\nThe grade for URA01 will be  PP .\\n\\nURA02: This is to be treated as recognition of truly exceptional work, both in quality and in extent,\\ndone in the B.Tech.\\n\\nProject.\\n\\nIf the committee evaluating the B.Tech.\\n\\nProject of a B.Tech.\\n\\nstudent\\nbelieves that the student has carried out truly exceptional work in the B.Tech.', 'student\\nbelieves that the student has carried out truly exceptional work in the B.Tech.\\n\\nProject and the quantum of work is substantially higher than what is expected, it may recommend that two more faculty\\nmembers, other than those who already participated in the committee for evaluation, duly chosen\\nby the DUGC, examine the work done and evaluate whether a URA02 can be awarded to the student\\nin addition to the AA grade already given.\\n\\nA joint recommendation must then be made by all: the\\noriginal committee of evaluation and these two other faculty members that this student be awarded\\nURA02, duly routed through the Convener, DUGC to the Convener, UGAPEC.\\n\\nThis award, on approval by the UGAPEC, will be mentioned on the grade report of the student as URA02 carrying six\\ncredits and the grade AA.\\n\\nNo formal registration is required with the academic office.\\n\\nThe advantage\\nto the student would be that his / her CPI would improve, given that these credits are with an AA\\ngrade.\\n\\nURA 2 is not available for DD students.\\n\\nStudents should have earned minimum of 12 credits\\nin BTP, in order to apply for URA 02 (Ref: 241st Senate Meeting)\\n40\\nMove to Index\\nURA03: These are to be treated as recognition of truly exceptional work, both in quality and in extent, in the Dual Degree Project.', 'If the committee evaluating the Final Stage of the Dual Degree\\nProject of a given Dual Degree student believes that the student has carried out truly exceptional\\nwork and the quantum of work is substantially higher than what is expected, it may recommend\\nthat two more faculty members, other than those who already participated in the committee for\\nevaluation, duly chosen by the DUGC, examine the work done and evaluate whether a URA03 can\\nbe awarded to the student in addition to the AA grade already given.\\n\\nA joint recommendation must\\nthen be made by all: the original committee of evaluation and these two other faculty members\\nthat this student be awarded URA03, duly routed through the Convener, DUGC to the Convener,\\nUGAPEC.\\n\\nThis award, on approval by the UGAPEC, will be mentioned on the grade report of the\\nstudent as URA03 carrying six credits and the grade AA.\\n\\nNo formal registration is required with the\\nacademic office.\\n\\nThe advantage to the student would be that his / her CPI would improve, given that\\nthese credits are with an AA grade.\\n\\n11.\\n\\nACADEMIC REHABILITATION PROGRAMME (ARP)\\nThe Academic Rehabilitation Program (ARP) deals with students with poor performance in academics.\\n\\nIt acts as a buffer for such students and provides them with an opportunity to continue in the\\ninstitute and successfully complete their respective degrees.\\n\\nA student is transferred to ARP on receiving FR/DX grades for at least 36 credits in core courses.', 'A student is transferred to ARP on receiving FR/DX grades for at least 36 credits in core courses.\\n\\nA faculty member in each department,\\ncalled the ARP Faculty Adviser, will assist students of that department to register for courses manually, for a maximum of 24 credits.\\n\\nA student, who is able to reduce the total number of FR/DX credits to less than 36 as above is transferred back to being a regular student.\\n\\nOn failure to exit the ARP after three consecutive semesters\\nin the program, termination of registration from the program may be recommended.\\n\\n12.\\n\\nALLOWING B.TECH.\\n\\n& B.S.\\n\\nSTUDENTS TO LEAVE AFTER COMPLETING THEIR CREDIT REQUIREMENTS FOR B.\\n\\nTECH.\\n\\n& B.S.\\n\\nPROGRAMME EARLIER THAN 4 YEARS\\nThe Senate in its 224th and 229th meeting approved the proposal of allowing B.Tech.\\n\\n& B.S.\\n\\nstudents\\nto leave after completing their credit requirements for B.Tech.\\n\\n& B.S.\\n\\nProgramme earlier than 4\\nyears on the following terms and conditions:\\na) B.Tech./B.S.\\n\\nstudents can apply for leaving the Institute at the end of an academic semester\\nprovided their credit requirements are met and they have spent atleast three years in the\\ninstitute.\\n\\nb) The Convener, UGAPEC may approve the Credit Completion certificate, which can be given\\nto the students, after clearance of all dues.\\n\\nc) These students will be awarded their degree in the ensuing Annual Convocation as scheduled in Academic calendar.', 'd) The passing date would be the date UGAPEC approves the results, which will be the date to\\nbe mentioned on Transcripts.\\n\\ne) The duration of programme would be still mentioned as 4 year B.Tech/ B.S.\\n\\nprogramme.\\n\\n41\\nMove to Index\\nf) Re-registration as a student will not be permitted.\\n\\nThese students can register for placement opportunities, but would not get hostel facilities during their placement activities.\\n\\n13.\\n\\nCONVERSION FROM B.TECH.\\n\\nTO DUAL DEGREE (B.TECH.+M.TECH.)\\n\\nPROGRAMME (Ref:\\n240th Senate Meeting)\\nB.Tech.\\n\\nstudents can apply to convert to the Dual Degree Programme in the same department.\\n\\nNote\\nthat rules for such conversion are decided by the DUGC of the parent department and typically\\ninclude:\\na) A Timeline for application;\\nb) Academic Performance (including a CPI cut-off);\\nc) Plan to complete the additional courses (total 8) for DD;\\nd) Recommendations from the faculty advisor/ guide\\nNote that students must find out the exact guidelines from their respective departments.\\n\\n14.\\n\\nGUIDELINES FOR INTERDISCIPLINARY DUAL DEGREE PROGRAMME (IDDDP) (Ref: 259th\\nSenate Meeting)\\nA.\\n\\nMinimum Eligibility Criteria:\\na) Undergraduate (UG) students admitted to B.S., B.Tech.\\n\\nand DD (B.Tech.+M.Tech.)\\n\\nprogrammes can apply for IDDDP at the end of sixth semester.\\n\\nb) At the end of sixth semester, students must have CPI >= 7.5 and should not have any\\nFR/DR/DX/W grade in mandatory courses including NSO/NSS/NCC.', 'c) Through IDDD programme, students can apply for all the specializations of Dual Degree (DD)\\nand M.Tech.\\n\\nprogrammes approved by the Academic Senate of IIT Bombay.\\n\\nd) Besides above eligibility criteria [a-c], a DUGC/ DPGC may enforce different eligibility and\\nselection criteria [through Academic Senate of IIT Bombay].\\n\\ne) Students admitted to B.S.\\n\\nprogramme through Maths Olympiad are not eligible.\\n\\nB.\\n\\nProcedure:\\na) Interested and eligible UG students from B.S., B.Tech.\\n\\nand DD (B.Tech.+M.Tech.)\\n\\nprogrammes should apply through online portal at the end of 6th semester.\\n\\nb) The application must clearly state the course plans to finish the B.S.\\n\\n/ B.Tech.\\n\\nprogramme\\nby the 8th semester and the intended IDDD specialization by the 10th semester.\\n\\nc) The completed application of the student must be examined and approved first by the\\nDUGC of the parent academic unit, followed by the DUGC / DPGC/ PGC [as applicable] by\\nthe destination academic unit.\\n\\nd) The list of the short-listed candidates will be forwarded to Convener, UGAPEC by the Convener, DUGC / DPGC/ PGC of the admitting [destination] academic units.\\n\\nAn academic unit\\ncan also provide a waiting list based on the merit.\\n\\n42\\nMove to Index\\ne) The final list of selected candidates will be conveyed to the Convener, DUGC of the respective parent academic units and the Convener, DUGC / DPGC/ PGC of the destination academic units.', 'The final list will also be conveyed to Associate/ Dean, Student Affairs for adjustment in hostel accommodation.\\n\\nC. Rules & Regulations:\\na) IDDDP is only for the movement of students from one academic unit to another.\\n\\nb) A DD specialization / M.Tech.\\n\\nprogram usually requires the completion of 8 to 9 courses of\\n6 credits and a DD/M.Tech.\\n\\nproject (DDP/MTP) of 74 - 92 credits.\\n\\nc) IDDDP should be treated as (b).\\n\\nAccordingly, in addition to B.Tech./ B.S.\\n\\nof the parent academic unit, IDDDP students should complete the following (2021 batch onwards):\\nI.\\n\\nIf host academic unit offering M.Tech.\\n\\nhas a UG programme with honours, IDDDP students\\nwill be required to do 24 credits from the Honours basket and at least 24 credits from PG\\nlevel/ advanced elective courses as prescribed by the host academic unit and a DD/\\nM.Tech.\\n\\nproject (DDP/MTP) of 72 - 90 credits in order to earn M.Tech.\\n\\ndegree of the admitting academic unit.\\n\\nII.\\n\\nIn cases where the host academic unit offering M.Tech.\\n\\ndoes not have a UG programme\\nwith honours, IDDDP students will be required to do at least 48 credits from PG level/\\nadvanced elective courses as prescribed by the host academic unit and a DD/ M.Tech.\\n\\nproject (DDP/MTP) of 72 - 90 credits in order to earn M.Tech.\\n\\ndegree of the admitting academic unit.\\n\\nIII.\\n\\nFor M.Sc./ MBA, requirements will be as approved by the Senate.', 'III.\\n\\nFor M.Sc./ MBA, requirements will be as approved by the Senate.\\n\\nd) An admitting academic unit can prescribe additional courses over and above that required\\nfor IDDDP, which may differ depending on the parent academic unit of the incoming student.\\n\\ne) In addition to the IDDDP requirements, if a student completes 24.0 credits towards the honors of the parent department, then he/ she will be considered for award of B. Tech./ B.S.\\n\\nwith honors of the parent department subject to the recommendation of DUGC of the parent department (2021 batch onwards).\\n\\nf) An admitting academic unit:\\nI. must prescribe required courses to the student at the time of admitting the student\\nto IDDDP.\\n\\nII.\\n\\nwill verify whether the M.Tech./ M.Sc./ MBA requirements have been met at the\\nend of the IDDD programme.\\n\\nIII.\\n\\nwill have a limit of two students in each unit of specialization except in the case of\\nKCDH and CMInDS (8 TA + 22 RAP for each).\\n\\ng) The selection and entry of all candidates in IDDDP will remain provisional till the successful\\ncompletion of B.S./ B.Tech.\\n\\ncurriculum by the end of 8th semester.\\n\\nThe payment of TAship\\n43\\nMove to Index\\nto the selected candidates will remain subject to terms and conditions as applicable to usual\\nDD programs and other rules as applicable from time to time.\\n\\nh) The roll no.\\n\\nof the selected list of candidates will remain the same.\\n\\nD. Additional criteria specified by various Academic Units for IDDDP\\na) SJMSOM:\\nI.\\n\\nFor B.Tech./B.S.', 'D. Additional criteria specified by various Academic Units for IDDDP\\na) SJMSOM:\\nI.\\n\\nFor B.Tech./B.S.\\n\\nand Dual Degree students.\\n\\nII.\\n\\nStudents with CPI of 7.0 at the end of their sixth semester and with no backlog in their UG\\ncourses can apply for the programme.\\n\\nIII.\\n\\nThe CPI criteria would be a benchmark and interviews will be conducted as per specialization applied for.\\n\\nIV.\\n\\nThe fees applicable to IDDDP students will be the same as that applied for the students in\\n2nd year MBA programme.\\n\\nV. On completion of programme, the students would get B.Tech.\\n\\nDegree in parent department\\nand MBA degree in given specialization.\\n\\nVI.\\n\\nThe students would not be eligible for Minor in Management (SJMSOM)\\nb) Environmental Science and Engineering Department:\\nI.\\n\\nA maximum of two students would be permitted to leave the Department for joining IDDD\\nprogrammes.\\n\\nc) Systems and Control Engineering:\\nI.\\n\\nThe candidate must satisfy the minimum eligibility criteria prescribed by the Senate.\\n\\nII.\\n\\nA SysCon core faculty member must agree to guide the candidate.\\n\\nIII.\\n\\nIn any year, a core faculty member can agree to guide (i.e.\\n\\nrecommend) at most one candidate applying for the SysCon IDDDP.\\n\\nIV.\\n\\nThe candidate must have completed any two courses from the list of SysCon minor courses\\nwithin the first six semesters of the B.Tech.\\n\\nprogramme and have an average score of at\\nleast 7.5 in these two courses.', 'programme and have an average score of at\\nleast 7.5 in these two courses.\\n\\nThis requirement can be waived if the student has credited\\nsome equivalent courses in other departments which in their entirety cover the topics covered in any two SysCon minor courses.\\n\\nThe average grade requirement for the equivalent\\ncourses is 7.5.\\n\\nThe decision about granting the waiver will be taken by the IDPC.\\n\\nV. In case more than two candidates satisfying all the above requirements apply for the SysCon\\nIDDDP, then the two candidates with the highest CPIs will be recommended for admission.\\n\\n44\\nMove to Index\\nd) CMInds:\\nI.\\n\\nAny IITB UG students with CPI > 8.0 can opt for the programme in their sixth and seventh\\nsemester with the approval of the DUGC of the B.Tech.\\n\\ndepartment and DPGC of the M.Tech.\\n\\ndepartment.\\n\\nII.\\n\\nHe/she must have completed at least two AI and Data Science minor courses (including the\\nsoft core or equivalent courses).\\n\\nA DDP guide who is a faculty member associated with the\\nCentre for MI&DS must be identified, and give his/her approval as part of the application\\nprocess.\\n\\nThe final decision will be based on CPI, consent from an associated faculty who\\nagrees to serve as advisor, statement-of-purpose, and/or interviews.\\n\\nThe center will make\\nthe admission decisions before the start of placements in the seventh semester.', 'The center will make\\nthe admission decisions before the start of placements in the seventh semester.\\n\\nA student\\nwho chooses to convert to IDDDP in AI and Data Science and thus receives a Masters in AI\\nand Data Science, will not be eligible for a minor in AI and Data Science.\\n\\nIII.\\n\\nNumber admitted: In its first year of operation, it is proposed to admit eight students in the\\ninstitute TA category and 22 additional students in the RAP category.\\n\\nStudents in the TA\\ncategory will support the minor courses offered by the Centre.\\n\\nThe students in the RAP category will be funded by projects of the faculty with whom the student engages in the yearlong project.\\n\\nIV.\\n\\na. Curriculum Structure- the master s degree requires (Upto 2020 Batch):\\ni.\\n\\nCompletion of at least two AI and Data Science minor courses (including the soft-core or\\nequivalent courses) by 6th semester.\\n\\nFor the first year of admission this requirement will be\\nwaived.\\n\\nii.\\n\\nCompletion of 4 PG level courses.\\n\\nTwo courses are to be completed in the 4th year, and the\\nremaining two courses in the 5th year; these courses must be from a list of courses approved\\nas electives for Minor/IDDDP in AI and ML by the CMInDS.\\n\\nThe elective list includes a wide\\nvariety of relevant courses already offered by different departments.\\n\\nThese are organized\\ninto three baskets: Mathematics, AI and ML, and Applications.\\n\\nThe current list of such\\ncourses appears in the appendix.\\n\\niii.', \"The current list of such\\ncourses appears in the appendix.\\n\\niii.\\n\\nCompletion of two stages of the Dual Degree Project as per the standard IDDDP structure.\\n\\niv.\\n\\nThe CMInDS may prescribe additional pre-requisite courses over and above those discussed\\nabove if an incoming student is deemed to require them.\\n\\nThese will be determined by the\\nDPGC and informed to the student in advance.\\n\\n45\\nMove to Index\\nb. Curriculum Structure- the master s degree requires (2021 Batch onwards):\\nSemesters 2 to 6: 12 Semesters 7 & Semester 9: Semester 10: Total\\ncredits 8: 12 credits Credits\\n48 credits 48 credits\\n(In addition to parent (In addition to pardepartment's BTech ent department's\\ncourse requirements) BTech course requirements)\\nMinor-1 6 PG Elective- 6 PG Elective- 6 PG Elective- 6\\n1 3 5\\nDS 203 (or\\nequivalent)\\nMinor-2 6 PG Elective - 6 PG Elective- 6 PG Elective- 6\\n2 4 6\\nDS 303 (or\\nequivalent)\\nDual Degree 36 Dual Degree 36\\nProject Project\\n(Stage-1) (Stage-2)\\nTotal 12 12 48 48 120\\nFurther, the students can take six PG courses (6xxx or 7xxx) from the baskets of breadth courses\\nlisted in Appendix A (pages 4,5) and the baskets of PG elective listed in Appendix B (page 6 onwards)\\nof the document on the link: https://drive.google.com/file/d/1l4ae_jSt2jRYbMP1VYgxn69SOTawsGRi/view.\\n\\nThe restriction is that at most two courses can be taken from any basket.\\n\\ne) Koita Centre for Digital Health:\\nI. Under-graduate students pursuing a B.Tech.\\n\\n/ B.S.\", 'e) Koita Centre for Digital Health:\\nI. Under-graduate students pursuing a B.Tech.\\n\\n/ B.S.\\n\\n/ DD degree in an academic unit at IIT\\nBombay with CPI > 7.5 at the end of sixth semester can apply.\\n\\nThe applications would be\\nscreened first at the DUGC of the home academic unit of the applicants and subsequently,\\nby a select academic committee of CDH.\\n\\nII.\\n\\nThe applicant is also required to identify through mutual discussion a faculty member associated with CDH as a supervisor for the dual degree project (DDP).\\n\\nPrior consent from the\\nconcerned faculty member is essential for the IDDD application.\\n\\nIII.\\n\\nThe final decision will be based on CPI, consent from an associated faculty who agrees to\\nserve as the DDP supervisor, statement-of-purpose, and/or interviews.\\n\\nThe center will make\\nthe admission decisions before the start of placements in the seventh semester.\\n\\nIV.\\n\\nA student, selected for IDDD in CDH for a masters in \"Healthcare Informatics\", will not be\\neligible for a minor degree in Healthcare Informatics.\\n\\n46\\nMove to Index\\nV. Under-graduate students pursuing a B.Tech.\\n\\n/ B.S.\\n\\n/ DD degree at IIT Bombay can pursue\\nadditional one year of PG-level courses and a year-long project in the area of Healthcare\\nInformatics to earn a masters\\' degree in \"Healthcare Informatics\" along with their B.Tech.\\n\\n/\\nB.S.\\n\\ndegree in dual degree mode.\\n\\nVI.\\n\\nNumber of students to be admitted: 8 students in the institute TA category and 22 students\\nin the RAP category.', \"The students in the RAP category will be funded by the research projects of the concerned faculty member with whom the student would engage in the yearlong project.\\n\\nCurriculum from 2021 batch onwards:\\nSemesters 2 to 6: Semesters 7 & 8:\\n12 credits 12 credits\\nSemester 9: Semester 10:\\nTotal\\n(In addition to par- Credits\\n(In addition to parent 48 credits 48 credits\\nent department's\\ndepartment's B.Tech.\\n\\ncourse requirements) B.Tech.\\n\\ncourse requirements)\\nMinor-1 PG Elective6 PG Elective-2 6 PG Elective-4 6 6\\n6\\nDH 302\\nMinor-2 PG Elective6 PG Elective -3 6 PG Elective-5 6 6\\n7\\nElective 1\\nDual Degree Dual Degree\\n36 36\\nProject (Stage- Project\\n1) (Stage-2)\\nTotal 12 12 48 48 120\\nFurthermore, it has been recommended that every student must take credit courses from at least\\nthree of the groups.\\n\\nThe courses under these groups include specialized courses offered by the\\nfaculty members associated with KCDH and approved by the suitable academic committee of KCDH.\\n\\nThe list of courses offered under 4 groups are available on the link\\nhttps://www.kcdh.iitb.ac.in/interdisciplinary-dual-degree-program.\\n\\nThe R&D project of 6 credits\\ncan be taken in lieu of a full semester course of 6 credits.\\n\\nf) Climate Studies:\\nI.\\n\\nThe Minimum eligibility criteria, Application procedure, Rules & Regulations will remain the\\nsame as provided in the UG Rule Book.\\n\\nThe department can have a maximum intake of 5\\nstudents in an academic year.\\n\\n47\\nMove to Index\\ng) Chemistry (Ref.\", '47\\nMove to Index\\ng) Chemistry (Ref.\\n\\n261st Senate Meeting)\\nDegree Requirements:\\nI.\\n\\nBy the end of 3rd year, the applicant should have:\\na. CPI > 7.5\\nb.\\n\\nNo active backlog in CH courses.\\n\\nII.\\n\\nBy the end of 4th year, the applicant should have completed any required courses\\noffered by other departments (e.g.\\n\\nCS 101, ES 200, HS 200 etc.)\\n\\nand four 400 or\\nhigher level Chemistry (CH) courses.\\n\\nIII.\\n\\nIn the 5th year, the student should take six 500 or higher level courses in Chemistry\\n(CH), along with two M.Sc.\\n\\nProjects (CH) of 30 credits each, under the supervision\\nof a faculty member in the Department of Chemistry.\\n\\nThe maximum number of intake is 5 per year.\\n\\nh) Mathematics (Ref.\\n\\n259th Senate Meeting):\\nCandidates interested in the IDDDP of the Mathematics Department should satisfy the following\\ncriteria:\\n1.\\n\\nBy end of 3rd year (while applying) the applicant should have\\n(a) CPI > 8.0,\\n(b) no FF/FR in any MA/SI courses at any point of time,\\n(c) completed at least 4 courses from S**.\\n\\n2.\\n\\nBy the end of 4th year, the applicant should have completed\\n(a) any required courses offered by other departments (e.g, CS101, ES200, HS200, etc.)\\n\\nand\\n(b) at least 7 courses from S**.\\n\\n3.\\n\\nAt the end of the fifth year, the student should have done at least 12 courses from S**.\\n\\n4.\\n\\nIn 2 (b) and 3, a student can replace a particular course in S with an advanced PhD level course\\nin the same broad area in consultation with the faculty advisor.\\n\\n5.', '5.\\n\\nThe student should overall complete 124 credits (of MA 4xx, 5xx, 8xx courses and/or project) to\\nget the degree.\\n\\nA project will be of 36 credits.\\n\\ni) Statistics (Ref.\\n\\n260th Senate Meeting):\\nCandidates interested in the IDDDP in Statistics should satisfy the following criteria:\\n1.\\n\\nBy end of 3rd year (while applying) the applicant should have\\n(a) CPI   8,\\n(b) completed MA403 (Real Analysis) and atleast 3 courses out of remaining 4 in S1*,\\n(c) no FF/FR in any MA/SI courses at any point of time.\\n\\n2.\\n\\nBy the end of 4th year, the applicant should have completed\\n(a) any required courses offered by other departments (e.g, CS101, ES200, HS200, etc.\\n\\n), and\\n(b) at least 8 courses from S1* or S2*.\\n\\n3.\\n\\nAt the end of the fifth year, the student should have done at least 12 courses from S1* or S2* or\\nS3*\\n4.\\n\\nIn 2.\\n\\n(b) and 3., a student can replace a particular course in S2* or S3* with an advanced PhD\\nlevel course in the same broad area in consultation with the faculty advisor.\\n\\n5.\\n\\nThe student should overall complete 124 credits (of the courses from above lists and/or project)\\nto get the degree.\\n\\nA project will be of 36 credits.\\n\\n48\\nMove to Index\\nThe number of enrolments in this program is capped at 5.\\n\\nThis programme is effective for 2021\\nbatch students onwards.\\n\\n*Please check Maths department website for S1/ S2/ S3 baskets\\n15.\\n\\nSPECIAL LEAVE\\na)  Special Leave  includes students  participating in Academic activities/ extracurricular activities approved by the Institute.', 'The Head of the academic unit shall be the approving authority,\\non the recommendation of the Faculty Adviser/ Faculty incharge of the respective activity, in\\nwhich the student is participating.\\n\\nb) Special Leave up to 5 working days (at a stretch or in part) may be sanctioned by the Head of\\nAcademic unit excluding mid/end semester examination in accordance with Academic Calendar.\\n\\nCompensation of any missed lab, quiz is at the discretion of respective course instructors.\\n\\nc) Application shall be recommended by respective Faculty Adviser on merits and would also\\nneed approval from faculty incharge of the activity.\\n\\n16.\\n\\nPLANNED BREAK FROM STUDIES (Ref: 250th Senate Meeting):\\na) The student is allowed for maximum two semester break during his/ her tenure in continuation.\\n\\nThis planned break can be for variety of reasons.\\n\\nThe student has to apply for one or\\ntwo semesters break with a course completion plan in consultation with faculty advisor/\\nDUGC for consideration of Competent Authority.\\n\\nb) A declaration must be submitted by the student with regard to consent/ information of the\\nparents as follows:\\nI. I have informed my parents and have their consent for semester(s),\\nII.\\n\\nI have informed my parents and do not have their consent for semester(s) break,\\nIII.\\n\\nI have not informed my parents for semester(s) break\\nc) The student should apply for semester break from his/ her fourth semester (second year)\\nonwards.\\n\\nThe break will be allowed/ approved after second year.', 'The break will be allowed/ approved after second year.\\n\\nSuch approval can be\\navailed by the student before fee payment and registration for a semester.\\n\\nOnce the classes\\nhave started, the students will not be eligible to apply for a break for that semester.\\n\\nd) Approval chain of such semester break - Faculty Advisor   DUGC     Dean (Academic Programme)/ Convener, UGAPEC.\\n\\ne) The student would not be eligible for hostel/ Medical facilities during approved planned\\nbreak.\\n\\nf) In case of approved break, the period of break will not be counted for the prescribed duration of the programme.\\n\\nHence, s/he will be eligible for the award of minor and Honours, if\\ncredits requirements are completed in the prescribed duration of the programme excluding\\napproved break.\\n\\ng) A letter will be issued to parents in case of approved break, on the address available in the\\nrecords of the students.\\n\\n49\\nMove to Index\\nh) The student is allowed to complete the remaining courses as per his/ her Academic category.\\n\\nThe Academic category prior to approved break will be considered for registration after the\\nstudent re-joins.\\n\\nThe Faculty Advisor required to inform the student and parents that s/he\\nnot be able to graduate along with his/ her batchmates.\\n\\n17.\\n\\nVACATION /LEAVE RULES FOR DD/ IDDDP STUDENTS (263RD MEETING OF THE SENATE)\\nThe DD programme and IDDDP students are entitled for maximum of 15 days leave in addition to\\npublic holidays in their final year.\\n\\n18.\\n\\nUTILITY\\na) Duration of Programme\\nI.', '18.\\n\\nUTILITY\\na) Duration of Programme\\nI.\\n\\nBachelor of Technology (B.Tech.)\\n\\n= Four Years\\nII.\\n\\nBachelor of Science (B.S.)\\n\\n= Four Years\\nIII.\\n\\nDual Degree (B.Tech.\\n\\n+ M.Tech.)\\n\\n= Five Years\\nb) The Institute follows grading system on a scale of 10.00, which cannot be converted into\\nany other scale or percentage simply by multiplying or dividing with a factor\\nc) The Institute does not award any class or division.\\n\\nHowever, notionally, the CPI may be\\nmultiplied by a factor of 10 to obtain a numerical percentage\\nd) The medium of instructions at this Institute is English\\n19.\\n\\nGLOSSARY\\nCourse taken by a student for exposure only and carries no grade\\nAudit course :\\npoints.\\n\\nMultiplying the number of hours of instruction per week in that\\nCourse Credit : course, by two (2) for lecture and tutorial hours, and by one (1) for\\nlaboratory hours i.e.\\n\\nC = 2xL + 2xT + P\\nCumulative Performance Index which is obtained by dividing the\\nCPI :\\nCumulative Grade Points by the Cumulative Credits.\\n\\nSum of credits earned by the student by passing courses regisCredits Earned :\\ntered during the semesters.\\n\\n50\\nMove to Index\\nCRF : Course Registration Form\\nSum of the Semester Credits for all the semesters taken together,\\nCumulative Credits : wherein the credits of a course is not counted if an alternative\\ncourse has been taken in lieu of it.', 'Sum of the Semester Grade Points for all the semesters taken toCumulative Grade Points : gether, wherein the credits of a course is not counted if an alternative course has been taken in lieu of it.\\n\\nDUGC : Departmental Under-Graduate Committee\\nFA : Faculty Adviser\\nNumber equivalent of the letter grades given by 10, 10, 9, 8, 7, 6,\\n5, 4, corresponding to AP, AA, AB, BB, BC, CC, CD, and DD respectively.\\n\\nFR carries zero grade points.\\n\\nPP, NP, W, DX and AU do not\\nGrade point :\\ncarry any grade points.\\n\\nII is a place holder and gets converted to\\nan appropriate grade after semester end re-examination, as per\\napplicability.\\n\\nDR is just a position holder.\\n\\nA credential earned by a student optionally by earning a total of\\nHonours : 24 specified credits in addition to the minimum prescribed for the\\ndegree, in her/his parent discipline.\\n\\nInstructor : Member of faculty who teaches courses/labs.\\n\\n: A credential earned by a student, optionally, by earning a total of\\nMinor 30 specified credits in addition to the minimum prescribed for the\\ndegree, in a focused area different from her/his discipline\\n: Semester wise enrollment for courses as per the prescribed curRegistration\\nriculum.\\n\\n51\\nMove to Index\\nTwo semesters in an academic year, approximately of 16 weeks\\nduration each, the first one (Autumn Semester) from July to NoSemester :\\nvember and the second one (Spring Semester) from January to\\nApril/May.\\n\\nSemester Credits : Sum of credits of courses registered by the student in a semester.', 'Semester Credits : Sum of credits of courses registered by the student in a semester.\\n\\nThe sum of the product of credits and Grade Points for each\\nSemester Grade Points :\\ncourse registered by a student in a semester.\\n\\nThe Senate is a statutory and supreme body that governs all acaSenate : demic matters of the Institute.\\n\\nThe rulings of the Chairperson,\\nSenate is final in regard to all academic matters.\\n\\nSemester Performance Index which is obtained by dividing the SeSPI :\\nmester Grade Points by the Semester Credits.\\n\\nSummer Term : Approximately of 8 weeks duration from May to July.\\n\\nConsolidated statement of the Academic Performance of a stuTranscript :\\ndent for all the semesters completed.\\n\\nUGAPEC : Under-Graduate Academic Performance Evaluation Committee\\nUGPC : Under-Graduate Programmes Committee\\nURA : Undergraduate Research Award.\\n\\n-------xxxx-----52\\nMove to Index']\n"
     ]
    }
   ],
   "source": [
    "#print(sample_chunks)     #can run to see the chunks for our sample pdf."
   ]
  },
  {
   "cell_type": "markdown",
   "metadata": {
    "id": "1f0-DbETtL5Z"
   },
   "source": [
    "<h2>Paraphrasing the user query.</h2>\n",
    "<h4>Using the 'humarin/chatgpt_paraphraser_on_T5_base model' to paraphrase the user query into 2 more queries for better context retreival. </h4>"
   ]
  },
  {
   "cell_type": "code",
   "execution_count": 14,
   "metadata": {
    "colab": {
     "base_uri": "https://localhost:8080/",
     "height": 258,
     "referenced_widgets": [
      "28602c0bdb574062af82258443164fe4",
      "bf24caf841b54a2ca7011ac053774218",
      "5ce23bff941e4355983d344791760aaa",
      "f652de434a224d80836a70d74a9e1ce4",
      "dab599e218564c06b02e96b1a35b3ca5",
      "ad26df426b5a4262b267f230c93d6318",
      "39e2dba21708418dabf55c380868d990",
      "9995f896667e4f67aee476b871196fee",
      "c0d9a012fe8d45789b66852590003fb0",
      "df13f634b22047af92cb651dca7f409b",
      "e8102755a65d43b68d127c3605a834f4",
      "3500f5b5baf34cd0b64bff8b42cff7e0",
      "68fa7e32a65f4f6d8acd01a7348fb9db",
      "4f84a5a8700f40ffa5dfbd2174e07ddf",
      "7ea4be88df694bc88d7704a9ed66ec02",
      "7731bb7decab4d54b63d25c617b9ea6a",
      "b33a93484da84c0391051dcd814be59d",
      "40138d1010d14335962b1660d03a2048",
      "a665ae6752234fa9a30f892414535f65",
      "d7d1963dc1484bc3b5344ea7e15643f6",
      "0a099c763f88400ab832233eace8a7d6",
      "1a8d9edbc7774e22b659102dbc2aa30e",
      "06e027994c0b49c3890b13f70b9b6e7e",
      "651ad5f31a7e4c82985d9f5be1dab22b",
      "ff6250aa7f67422fbec480855554bc0d",
      "655ddea7ae2b4be9850b552391aa4e25",
      "e63b5950a47f4ae8a9ecaed49de4f992",
      "214fff319b3241cdbc4433a0c3474513",
      "5e84750f195f4879b33a7b2b75f5dfc8",
      "ccf52ac4a7144436af3ce9ddae2593da",
      "8bb8c9c0503946b9874f1a5c6f3fe5a7",
      "4d554584701c44d1bfb8a17c89de37f5",
      "590f1f14bfc84aa49e2990bcf3a688f9",
      "f02b6378e6ea438c9a9f84516b111802",
      "fd05b691d7574aa191b86237d86fc3ae",
      "5637a3314975498193787a7bff4740d7",
      "c68d3e261bc74d0aaa20abb64554bd1d",
      "cf444e16f0394cc5a55ab3495421146f",
      "2fc0de5c6c2942538b6335c4c6b67e7f",
      "18d0335b68c446df9d5b28eea94f91a7",
      "5283835062714dcd99da7965d69f9525",
      "3564ace7d4d14a449583eaf89a6f9deb",
      "e67412debcf84e05bd797a3fbe144ade",
      "dde9f99706904bc6875736273efd5962",
      "94fdbe3d43134a67b268269ed42a8741",
      "0e377a23b80743ec8ec7fc325ce0bb4a",
      "b7f7ecf2ca10469bae090780da4dfbc7",
      "1a05f17db8f74a919492900fcadc6adf",
      "4714f46df7a64c71b0ed5e50479dc051",
      "946c026c51b848c2a06c401223a466bb",
      "37244058bada43a6917b57c73e9da231",
      "a1f86ef7f1754a499729a603fe8120ce",
      "45c5d010acba4975bc851a5d852856da",
      "c0962931df0744928a3d8f7cd5bcce11",
      "0fd7d65e378f4fdf92d01b125ad86341",
      "06ba7cd138d54cad94f46fffa1b1f5c9",
      "4041e241e4bf46699f39d02e9c7ded8d",
      "d2dc9dc53e4f460b88c619136de49f47",
      "2f7f0f952b204e6586806d0d835c726f",
      "f9c622180233483c8a64ee3be4fe07dc",
      "9962aecfe0d34f8ea418bee906ce2ca2",
      "9700a8a8496a4b6ab5eebd4df1267038",
      "153b219ee37746b59e64b369b4c1715b",
      "b701972acb794f70a68598f42cb00333",
      "8696b8afede04fab9274c211b58c3336",
      "eeb29aba67d346e0ae6c4546970668c3",
      "f0ad055588b84f138132611e10e34218",
      "a1355949d8ff46b9929e0d97b54564d0",
      "06c5d1b946be429287030e824021e54e",
      "01d35eb2fc3143d6a1e8a2000b9e66e9",
      "b001d7a426f34795b560213a9f467efd",
      "d526ce52907c4ee7baa2c4466e8c8e64",
      "2e5ff08761f440abab704ca3020c2c23",
      "c8345a388a0e4477bbe1d3db8b5a31cc",
      "308fda7823d94821a08be641992c1bbc",
      "ad2d6e96038c49ea807ac200156d8fe4",
      "575f49f9a3364816a86429715c63307a"
     ]
    },
    "id": "tjzCllBYrK7B",
    "outputId": "888d40fb-9c5a-425c-ed10-ac5166fb2e29"
   },
   "outputs": [
    {
     "data": {
      "application/vnd.jupyter.widget-view+json": {
       "model_id": "28602c0bdb574062af82258443164fe4",
       "version_major": 2,
       "version_minor": 0
      },
      "text/plain": [
       "tokenizer_config.json: 0.00B [00:00, ?B/s]"
      ]
     },
     "metadata": {},
     "output_type": "display_data"
    },
    {
     "data": {
      "application/vnd.jupyter.widget-view+json": {
       "model_id": "3500f5b5baf34cd0b64bff8b42cff7e0",
       "version_major": 2,
       "version_minor": 0
      },
      "text/plain": [
       "spiece.model:   0%|          | 0.00/792k [00:00<?, ?B/s]"
      ]
     },
     "metadata": {},
     "output_type": "display_data"
    },
    {
     "data": {
      "application/vnd.jupyter.widget-view+json": {
       "model_id": "06e027994c0b49c3890b13f70b9b6e7e",
       "version_major": 2,
       "version_minor": 0
      },
      "text/plain": [
       "tokenizer.json: 0.00B [00:00, ?B/s]"
      ]
     },
     "metadata": {},
     "output_type": "display_data"
    },
    {
     "data": {
      "application/vnd.jupyter.widget-view+json": {
       "model_id": "f02b6378e6ea438c9a9f84516b111802",
       "version_major": 2,
       "version_minor": 0
      },
      "text/plain": [
       "special_tokens_map.json: 0.00B [00:00, ?B/s]"
      ]
     },
     "metadata": {},
     "output_type": "display_data"
    },
    {
     "data": {
      "application/vnd.jupyter.widget-view+json": {
       "model_id": "94fdbe3d43134a67b268269ed42a8741",
       "version_major": 2,
       "version_minor": 0
      },
      "text/plain": [
       "config.json: 0.00B [00:00, ?B/s]"
      ]
     },
     "metadata": {},
     "output_type": "display_data"
    },
    {
     "data": {
      "application/vnd.jupyter.widget-view+json": {
       "model_id": "06ba7cd138d54cad94f46fffa1b1f5c9",
       "version_major": 2,
       "version_minor": 0
      },
      "text/plain": [
       "pytorch_model.bin:   0%|          | 0.00/892M [00:00<?, ?B/s]"
      ]
     },
     "metadata": {},
     "output_type": "display_data"
    },
    {
     "data": {
      "application/vnd.jupyter.widget-view+json": {
       "model_id": "f0ad055588b84f138132611e10e34218",
       "version_major": 2,
       "version_minor": 0
      },
      "text/plain": [
       "generation_config.json:   0%|          | 0.00/147 [00:00<?, ?B/s]"
      ]
     },
     "metadata": {},
     "output_type": "display_data"
    },
    {
     "name": "stdout",
     "output_type": "stream",
     "text": [
      "Paraphrasing model loaded successfully.\n"
     ]
    }
   ],
   "source": [
    "paraphrasing_model_name = \"humarin/chatgpt_paraphraser_on_T5_base\"\n",
    "paraphrasing_tokenizer = AutoTokenizer.from_pretrained(paraphrasing_model_name)\n",
    "paraphrasing_model = AutoModelForSeq2SeqLM.from_pretrained(paraphrasing_model_name)\n",
    "\n",
    "print(\"Paraphrasing model loaded successfully.\")"
   ]
  },
  {
   "cell_type": "code",
   "execution_count": 106,
   "metadata": {
    "id": "fFZoM-UIrN1V"
   },
   "outputs": [],
   "source": [
    "def generate_paraphrases(text, num_return_sequences=2):\n",
    "    prompt = f\"paraphrase : {text} </s>\"\n",
    "    encoding = paraphrasing_tokenizer.encode_plus(\n",
    "        prompt,\n",
    "        return_tensors=\"pt\",\n",
    "        padding='max_length',\n",
    "        truncation=True,\n",
    "        max_length=256\n",
    "    )\n",
    "\n",
    "    input_ids = encoding[\"input_ids\"]\n",
    "    attention_mask = encoding[\"attention_mask\"]\n",
    "\n",
    "    if torch.cuda.is_available():\n",
    "        paraphrasing_model.to(\"cuda\")\n",
    "        input_ids = input_ids.to(\"cuda\")\n",
    "        attention_mask = attention_mask.to(\"cuda\")\n",
    "\n",
    "    outputs = paraphrasing_model.generate(\n",
    "        input_ids=input_ids,\n",
    "        attention_mask=attention_mask,\n",
    "        max_length=300,\n",
    "        do_sample=False,\n",
    "        num_beam_groups=3,\n",
    "        diversity_penalty=2.0,\n",
    "        num_beams=6,\n",
    "        early_stopping=True,\n",
    "        no_repeat_ngram_size=1,\n",
    "        num_return_sequences=num_return_sequences,\n",
    "        trust_remote_code=True\n",
    "    )\n",
    "\n",
    "    paraphrases = [\n",
    "        paraphrasing_tokenizer.decode(output, skip_special_tokens=True, clean_up_tokenization_spaces=True)\n",
    "        for output in outputs\n",
    "    ]\n",
    "\n",
    "    return paraphrases\n"
   ]
  },
  {
   "cell_type": "code",
   "execution_count": 115,
   "metadata": {
    "colab": {
     "base_uri": "https://localhost:8080/"
    },
    "id": "y6NO-EN-rPF2",
    "outputId": "2c35ec76-5931-408d-b26d-5a3d1bee1fd8"
   },
   "outputs": [
    {
     "data": {
      "text/plain": [
       "['What is the protocol for substituting courses?',\n",
       " 'What is the rule for substituting other courses?']"
      ]
     },
     "execution_count": 115,
     "metadata": {},
     "output_type": "execute_result"
    }
   ],
   "source": [
    "generate_paraphrases('What is the policy for course substitution?')"
   ]
  },
  {
   "cell_type": "markdown",
   "metadata": {
    "id": "ZeYapoWytL5a"
   },
   "source": [
    "<h2>Retreiving relevant chunks</h2>\n",
    "<h4>Now based on the user query and the paraphrasing model-generated queries, the best 3 chunks are selected for each query and then top 3 of all the selected chunks are selected.</h4>"
   ]
  },
  {
   "cell_type": "code",
   "execution_count": 108,
   "metadata": {
    "id": "m7ZuOXLtrRJY"
   },
   "outputs": [],
   "source": [
    "def retrieve_relevant_chunks(query, vector_database, paraphrasing_function, max_chunks=3):\n",
    "    queries = [query]\n",
    "    queries.extend(paraphrasing_function(query))\n",
    "\n",
    "    chunks = []\n",
    "    for query in queries:\n",
    "        results = vector_database.similarity_search_with_score(query, k=3)\n",
    "        for chunk,score in results:\n",
    "\n",
    "          chunks.append((chunk.page_content, score))\n",
    "\n",
    "    chunk_score_dict = {}\n",
    "    for content, score in chunks:\n",
    "        if content not in chunk_score_dict or score > chunk_score_dict[content]:\n",
    "            chunk_score_dict[content] = score\n",
    "\n",
    "    sorted_chunks = sorted(chunk_score_dict.items(), key=lambda x: x[1])\n",
    "    unique_chunks = [chunk for chunk, _ in sorted_chunks[:max_chunks]]\n",
    "\n",
    "    return unique_chunks"
   ]
  },
  {
   "cell_type": "markdown",
   "metadata": {
    "id": "lOYvfNwPtL5b"
   },
   "source": [
    "<h2>Building the prompt generation function.</h2>\n",
    "<h4>This function takes the user query and the retreived chunks and builds them into a prompt for the LLM behind our chatbot.</h4>"
   ]
  },
  {
   "cell_type": "code",
   "execution_count": 109,
   "metadata": {
    "id": "QHxGi3izrTYR"
   },
   "outputs": [],
   "source": [
    "def prompt(query, relevant_chunks):\n",
    "    system_prompt = \"\"\"\n",
    "\n",
    "You are an AI assistant answering user questions based solely on the provided context.\n",
    "\n",
    "The question will be prefixed with \"Question:\"\n",
    "\n",
    "\n",
    "Instructions:\n",
    "- Use only the context given (marked as \"Context\").\n",
    "- Format clearly using proper language and structure and newlines.\n",
    "- You must strictly use only the provided context.\n",
    "- Do not invent or assume any information.\n",
    "- Be very descriptive so that you utilize all the relevant info given.\n",
    "\n",
    "\"\"\"\n",
    "\n",
    "    context = \"\\n\".join(relevant_chunks)\n",
    "\n",
    "    return f\"\"\"{system_prompt}\n",
    "\n",
    "Context:\n",
    "{context}\n",
    "\n",
    "Question:\n",
    "{query}\n",
    "\n",
    "Answer:\"\"\"\n"
   ]
  },
  {
   "cell_type": "markdown",
   "metadata": {
    "id": "FP7jdH-ZtL5b"
   },
   "source": [
    "<h2>Initiating the LLM</h2>\n",
    "<h4>Using \"meta-llama/Llama-2-7b-chat-hf\" from Hugging Face.</h4>"
   ]
  },
  {
   "cell_type": "code",
   "execution_count": 21,
   "metadata": {
    "colab": {
     "base_uri": "https://localhost:8080/",
     "height": 404,
     "referenced_widgets": [
      "841c1311940c4dbdabcf25323b69aff7",
      "d66d9daa7791429b947ec995f4e8316a",
      "91b254dbabfe4df7af81f0b556ba5410",
      "e2f2a8033549421ba51ab5e4e4f0a117",
      "f639ebb541ff4187b3b0d85065689b2d",
      "417bd9f68f254e18945b2835743a624e",
      "12853012e8c142b99fb40e156a5c6d8d",
      "e545b6db6d8743dd895c531914d956a7",
      "f66aa7f1e07146188f7b27d409653380",
      "841b65d4d6c5431abf2ae00b0102324a",
      "f4f2f4bf52164613b5a9ff1a76bdceac",
      "e0fb11d197fc4aadb97aaf8adc7e72ff",
      "91505e7554e64af8ae79ad77614cd7db",
      "c0dd05b8cd22450cb113c268532fadb4",
      "2de2163451c74c9094c3e0b106eee700",
      "8ad3c64f67f1449488d84530c998dab9",
      "4941916358fa48f8a0b7f68baec64e05",
      "b0a19ffdaa7a480591608b25b0ef4f8a",
      "75bd2f1ac6c944a9835b60d35b9e1a1e",
      "4f46aa8647d44fdeaeedb82fa9c6071a",
      "0240f597aa3c4f759ab357df5a5d0383",
      "7ab79aeec7bc47729f51f47bd562b4a5",
      "80599459ddf540fe9caffdf9aed97457",
      "03ce89f979284a8d9cc92c4c5a91acbf",
      "4a5bad9c94644f1f800feecbdb9681bb",
      "4fa90a03b31c4632a7cbe3d0fbb8d35b",
      "0c2f7511f7b04e08850aae15b28ecd80",
      "ab3cf1c21b6d418c85d73e482c0535f0",
      "1bc1215ecb3144459f1fc33356f385e7",
      "8fc005ede53b4b6ba35672ee80ccd713",
      "f5126f41c0e3468cbae6b4d234a1e275",
      "6e29dfbae3a64653911d735aa8b668ed",
      "00e1109d29af4623a10cf951e7d85a1f",
      "2e6ced0acb004865bd4a7f57d372c079",
      "732c870806554b58ae961de69df5d31d",
      "af526e213d0e453799037c9b1277c901",
      "e7ceb58bb82740e8a99bffe08a2510c7",
      "14beb610ae8a43c3b59c2622e790a185",
      "dcf95c4593034506b10217a9dd4dfa1d",
      "887c7ceb8739415886156fa472994878",
      "5af93fa7eaaf41239440c0389fde1752",
      "57b49296dada48b6ba36a1ba57c5c51f",
      "f0e4c78ec40c4162a33ca30f42f51d14",
      "c02adbd171dd40a6bc213e8f9afb1f12",
      "720168020c2d48bc856532a9183d1058",
      "edb58275203348a7b6cc985b6a831422",
      "5db0c9a37c464e63b13d06879d4126d2",
      "7bdb28fc5a3443e18f55059aa2c37a18",
      "85f8e19f23ff4962868c4edfa8a25379",
      "341f370032ed40289362e4ac4f923f4e",
      "adcec62cbb384c2e87fd315f44ccaf3d",
      "c0c9c60f4eb84cf9938eefb3a6cef57e",
      "8f75ebb4cd6e47fcab7348531616a118",
      "902c857f6d0e4ae69d6c1ae43787c960",
      "f2212a08d43341918504924696434b23",
      "09a26bacb22d4c609cbf96bafb84eb0a",
      "bd5a535160474e268b7cf279f2ffe146",
      "9457e6683d354ce6aaecad0080f324ad",
      "032f47b23dac4bfa967f19a8cc81110d",
      "5d5ba6824d8042bc93a05e9c40e65956",
      "3a1a07295114438c8917a1623a285049",
      "8f0068109e804d44ae328a9d16a04e89",
      "96075c1a28f24e1b8667c1decdb938c8",
      "ab3c7cc0b7364868a0555614dd951728",
      "0c3dfc885d304257bd2ef206b9b96778",
      "822ce843b2fc4df991a46ab6d4983312",
      "7f21ea263ed54e409b1e2f173a64e7c2",
      "ef2598fa4c6b45758b613eaee8c4c1d2",
      "f9b8f57ec4bc4adba9d5d250b485c830",
      "997187264d0c496585a1b9d50fd78dbe",
      "3999ab8404fa4d7a9312e05277abd183",
      "0c0564dbab32485e836a0eebab36b6fd",
      "2bdea0601703487c9f1f706caec12daa",
      "336623cdc3884f23b6d35ff0b85b109e",
      "03ddeb15509f47ae89a104d71eea5160",
      "52823a09a4aa453e8d8353b615e29191",
      "9e378d8b5b8c41d6b741b41b0d2c15ef",
      "506abe0b0d36456aaede883c6abab62c",
      "377cf87570484ae0a714b998bdaacc90",
      "ae21061129d344d58921c512c9f9837c",
      "d48d953ae6c94c03b2da22f67902ed06",
      "a15b7a2d214245cbb6dd96d625497180",
      "93fe0046a40e4357974543a160ee4703",
      "192d4ec9a3a64b79ba243aa934401a40",
      "0a46d70847bf46cd94d16092b8e8bcb8",
      "3c2cbae84b8649b094c1877ef8562bf0",
      "5e9e58e4238243f5a43a68ce7fe1e172",
      "e554207781ba44c695c8ebaa4a1df2db",
      "35031a8cfb2942189938766dedd93d5a",
      "38f8e174ee374c298542c0a2cf165a50",
      "25794793375e4aa7aeb23668df776737",
      "5d9873beac6448ca9be91130f625703d",
      "69f2abc5b4594020b78df6e61c2b4436",
      "5cc604049daf495b8fb62eaf67aff745",
      "6b6a412facc54ffbbe9c2760bb9ddcec",
      "919c977e957045d098d2d597306c9112",
      "68fe542c7bdd4d6f8add3715cd5b949a",
      "34cdc616b06543088aa50c04198cf3e4",
      "a51ae88217b44fe38ba343b30177e9bf",
      "0ad2abcc41f14db9938277f6b0d25916",
      "3cd3828c31c948a49901cb8eb07c9848",
      "f99380ed76ee449e9d04fad2c4a7cac1",
      "8ab30c7315f346a6a2fc7facc011e126",
      "3ce0376e43df43f5a1caa13aab8b7269",
      "7236edb2922148d6a901522ae1b0edf6",
      "4f8bd918571f4ae2aaf01bfbb4fafe62",
      "b4955cd037bb4a8980bdeece8044ecd8",
      "7d8d3c0759344f4592d02b3c779b76b3",
      "e934dd66249e4c96b420eb0929d2f42e",
      "4c63697af5e147569829679f259b888d",
      "45489226d74d40038ec0befccbe031e8",
      "25cde9e7fc6b463b9a39af046f5242e8",
      "9f2ecb94b6904bc9993a62cfde3ca68a",
      "5880c779b957437282965e8dff7bbd87",
      "fcfe064c46c94d688226f1c6ed96bf58",
      "87a45b21920e41c6a11deb745699ddad",
      "8052944facb14d2690680c69ea0ca6c1",
      "02ebbba7b93948d29a51ad311245e3ef",
      "e06e84a60ea74c0394f47bd74bab8879",
      "af0e58c3e4fb432894611c52ae5bc85b",
      "966b53ef70b146ad87a8f43cfec50a21"
     ]
    },
    "id": "L6dOebH-rVQe",
    "outputId": "ce4f2d33-ddd5-4791-f395-0966b3cd62d2"
   },
   "outputs": [
    {
     "data": {
      "application/vnd.jupyter.widget-view+json": {
       "model_id": "841c1311940c4dbdabcf25323b69aff7",
       "version_major": 2,
       "version_minor": 0
      },
      "text/plain": [
       "tokenizer_config.json:   0%|          | 0.00/1.62k [00:00<?, ?B/s]"
      ]
     },
     "metadata": {},
     "output_type": "display_data"
    },
    {
     "data": {
      "application/vnd.jupyter.widget-view+json": {
       "model_id": "e0fb11d197fc4aadb97aaf8adc7e72ff",
       "version_major": 2,
       "version_minor": 0
      },
      "text/plain": [
       "tokenizer.model:   0%|          | 0.00/500k [00:00<?, ?B/s]"
      ]
     },
     "metadata": {},
     "output_type": "display_data"
    },
    {
     "data": {
      "application/vnd.jupyter.widget-view+json": {
       "model_id": "80599459ddf540fe9caffdf9aed97457",
       "version_major": 2,
       "version_minor": 0
      },
      "text/plain": [
       "tokenizer.json:   0%|          | 0.00/1.84M [00:00<?, ?B/s]"
      ]
     },
     "metadata": {},
     "output_type": "display_data"
    },
    {
     "data": {
      "application/vnd.jupyter.widget-view+json": {
       "model_id": "2e6ced0acb004865bd4a7f57d372c079",
       "version_major": 2,
       "version_minor": 0
      },
      "text/plain": [
       "special_tokens_map.json:   0%|          | 0.00/414 [00:00<?, ?B/s]"
      ]
     },
     "metadata": {},
     "output_type": "display_data"
    },
    {
     "data": {
      "application/vnd.jupyter.widget-view+json": {
       "model_id": "720168020c2d48bc856532a9183d1058",
       "version_major": 2,
       "version_minor": 0
      },
      "text/plain": [
       "config.json:   0%|          | 0.00/614 [00:00<?, ?B/s]"
      ]
     },
     "metadata": {},
     "output_type": "display_data"
    },
    {
     "data": {
      "application/vnd.jupyter.widget-view+json": {
       "model_id": "09a26bacb22d4c609cbf96bafb84eb0a",
       "version_major": 2,
       "version_minor": 0
      },
      "text/plain": [
       "model.safetensors.index.json:   0%|          | 0.00/26.8k [00:00<?, ?B/s]"
      ]
     },
     "metadata": {},
     "output_type": "display_data"
    },
    {
     "data": {
      "application/vnd.jupyter.widget-view+json": {
       "model_id": "7f21ea263ed54e409b1e2f173a64e7c2",
       "version_major": 2,
       "version_minor": 0
      },
      "text/plain": [
       "Fetching 2 files:   0%|          | 0/2 [00:00<?, ?it/s]"
      ]
     },
     "metadata": {},
     "output_type": "display_data"
    },
    {
     "data": {
      "application/vnd.jupyter.widget-view+json": {
       "model_id": "506abe0b0d36456aaede883c6abab62c",
       "version_major": 2,
       "version_minor": 0
      },
      "text/plain": [
       "model-00002-of-00002.safetensors:   0%|          | 0.00/3.50G [00:00<?, ?B/s]"
      ]
     },
     "metadata": {},
     "output_type": "display_data"
    },
    {
     "data": {
      "application/vnd.jupyter.widget-view+json": {
       "model_id": "35031a8cfb2942189938766dedd93d5a",
       "version_major": 2,
       "version_minor": 0
      },
      "text/plain": [
       "model-00001-of-00002.safetensors:   0%|          | 0.00/9.98G [00:00<?, ?B/s]"
      ]
     },
     "metadata": {},
     "output_type": "display_data"
    },
    {
     "data": {
      "application/vnd.jupyter.widget-view+json": {
       "model_id": "0ad2abcc41f14db9938277f6b0d25916",
       "version_major": 2,
       "version_minor": 0
      },
      "text/plain": [
       "Loading checkpoint shards:   0%|          | 0/2 [00:00<?, ?it/s]"
      ]
     },
     "metadata": {},
     "output_type": "display_data"
    },
    {
     "data": {
      "application/vnd.jupyter.widget-view+json": {
       "model_id": "45489226d74d40038ec0befccbe031e8",
       "version_major": 2,
       "version_minor": 0
      },
      "text/plain": [
       "generation_config.json:   0%|          | 0.00/188 [00:00<?, ?B/s]"
      ]
     },
     "metadata": {},
     "output_type": "display_data"
    },
    {
     "name": "stderr",
     "output_type": "stream",
     "text": [
      "WARNING:accelerate.big_modeling:Some parameters are on the meta device because they were offloaded to the cpu.\n"
     ]
    },
    {
     "name": "stdout",
     "output_type": "stream",
     "text": [
      "LLM meta-llama/Llama-2-7b-chat-hf loaded successfully.\n"
     ]
    }
   ],
   "source": [
    "model_id = \"meta-llama/Llama-2-7b-chat-hf\"\n",
    "\n",
    "tokenizer = AutoTokenizer.from_pretrained(model_id)\n",
    "\n",
    "model = AutoModelForCausalLM.from_pretrained(\n",
    "    model_id,\n",
    "    device_map=\"auto\",\n",
    "    torch_dtype=torch.bfloat16,\n",
    "    )\n",
    "\n",
    "print(f\"LLM {model_id} loaded successfully.\")"
   ]
  },
  {
   "cell_type": "markdown",
   "metadata": {
    "id": "eN1cwk6JtL5b"
   },
   "source": [
    "<h2>Streamlining the process</h2>\n",
    "<h4>The first function takes the PDF and builds the vector database.</h4>\n",
    "<h4>The second function takes the user query, vector database and the model with it's tokenizer to ask the question to the LLM with the prompt given by our prompt function.</h4>"
   ]
  },
  {
   "cell_type": "code",
   "execution_count": 110,
   "metadata": {
    "id": "wOMANKvlrWm-"
   },
   "outputs": [],
   "source": [
    "def process_pdf_to_vector_database(pdf_file):\n",
    "    text = read_and_clean_pdf(pdf_file)\n",
    "    chunks = chunk_text(text)\n",
    "    vector_db = embed_and_store_chunks(chunks)\n",
    "    return vector_db"
   ]
  },
  {
   "cell_type": "code",
   "execution_count": 112,
   "metadata": {
    "id": "jo2VOI8byaBB"
   },
   "outputs": [],
   "source": [
    "def answer_query_with_llm(query, vector_db, llm_model, llm_tokenizer):\n",
    "\n",
    "    relevant_chunks = retrieve_relevant_chunks(query, vector_db, generate_paraphrases)\n",
    "\n",
    "\n",
    "    final_prompt = prompt(query, relevant_chunks)\n",
    "\n",
    "    input_ids = llm_tokenizer.encode(final_prompt, return_tensors=\"pt\").to(llm_model.device)\n",
    "\n",
    "    output = llm_model.generate(\n",
    "        input_ids,\n",
    "        max_new_tokens=10000,\n",
    "        do_sample=False,\n",
    "        eos_token_id=llm_tokenizer.eos_token_id\n",
    "    )\n",
    "\n",
    "    generated_tokens = output[0][input_ids.shape[-1]:]\n",
    "    answer = llm_tokenizer.decode(generated_tokens, skip_special_tokens=True)\n",
    "\n",
    "\n",
    "    return answer.strip(), relevant_chunks"
   ]
  },
  {
   "cell_type": "markdown",
   "metadata": {
    "id": "RDH0jqbmtL5c"
   },
   "source": [
    "<h2>Testing the function</h2>"
   ]
  },
  {
   "cell_type": "code",
   "execution_count": 113,
   "metadata": {
    "id": "DPieTjIEycFr"
   },
   "outputs": [],
   "source": [
    "vector_db = process_pdf_to_vector_database('ugrulebook.pdf')  #Sample vector database"
   ]
  },
  {
   "cell_type": "code",
   "execution_count": 114,
   "metadata": {
    "colab": {
     "base_uri": "https://localhost:8080/"
    },
    "id": "X4y99KVCydyi",
    "outputId": "3bbdf181-9c29-4525-b640-334327251889"
   },
   "outputs": [
    {
     "name": "stderr",
     "output_type": "stream",
     "text": [
      "The following generation flags are not valid and may be ignored: ['temperature', 'top_p']. Set `TRANSFORMERS_VERBOSITY=info` for more details.\n"
     ]
    },
    {
     "name": "stdout",
     "output_type": "stream",
     "text": [
      "The policy for course substitution is as follows:\n",
      "\n",
      "* Course substitution is not permitted for Core Courses, including institute core courses and departmental core courses. Students must re-register and complete these courses.\n",
      "* An Institute elective course may be substituted by another Institute elective course from the same group.\n",
      "* A departmental elective course may be substituted by another departmental elective course from the same group.\n",
      "\n",
      "It is important to note that all students are expected to have 100% attendance in courses. Any student who misses even a single lecture from among the first three lectures of a course is liable to be deregistered from the corresponding course.\n",
      "Time taken = 41.7633101940155\n"
     ]
    }
   ],
   "source": [
    "query='What is the policy for course substitution?'\n",
    "import time\n",
    "start=time.time()\n",
    "answer = answer_query_with_llm(query, vector_db, model, tokenizer)[0]\n",
    "end=time.time()\n",
    "print(answer)\n",
    "print('Time taken =',end-start)\n"
   ]
  },
  {
   "cell_type": "markdown",
   "metadata": {
    "id": "IHITdVW_dGXY"
   },
   "source": [
    "<h2>Building the UI using Gradio</h2>"
   ]
  },
  {
   "cell_type": "code",
   "execution_count": 118,
   "metadata": {
    "colab": {
     "base_uri": "https://localhost:8080/",
     "height": 646
    },
    "id": "mSQ7uyG-ykYH",
    "outputId": "7cd8f871-d532-4ced-8b72-fdd162cc3464"
   },
   "outputs": [
    {
     "name": "stdout",
     "output_type": "stream",
     "text": [
      "It looks like you are running Gradio on a hosted a Jupyter notebook. For the Gradio app to work, sharing must be enabled. Automatically setting `share=True` (you can turn this off by setting `share=False` in `launch()` explicitly).\n",
      "\n",
      "Colab notebook detected. To show errors in colab notebook, set debug=True in launch()\n",
      "* Running on public URL: https://bf54c8f4c96a01f71e.gradio.live\n",
      "\n",
      "This share link expires in 1 week. For free permanent hosting and GPU upgrades, run `gradio deploy` from the terminal in the working directory to deploy to Hugging Face Spaces (https://huggingface.co/spaces)\n"
     ]
    },
    {
     "data": {
      "text/html": [
       "<div><iframe src=\"https://bf54c8f4c96a01f71e.gradio.live\" width=\"100%\" height=\"500\" allow=\"autoplay; camera; microphone; clipboard-read; clipboard-write;\" frameborder=\"0\" allowfullscreen></iframe></div>"
      ],
      "text/plain": [
       "<IPython.core.display.HTML object>"
      ]
     },
     "metadata": {},
     "output_type": "display_data"
    },
    {
     "data": {
      "text/plain": []
     },
     "execution_count": 118,
     "metadata": {},
     "output_type": "execute_result"
    }
   ],
   "source": [
    "vector_db = None\n",
    "\n",
    "def handle_pdf_upload(pdf_path):\n",
    "    global vector_db\n",
    "    vector_db = process_pdf_to_vector_database(pdf_path)\n",
    "    return \"PDF processed and ready for your question.\"\n",
    "\n",
    "def handle_question(query):\n",
    "    if not vector_db:\n",
    "        return \"Please upload and process a PDF first.\", \"\"\n",
    "    answer, chunks = answer_query_with_llm(query, vector_db, model, tokenizer)\n",
    "    formatted_chunks = \"\\n\\n\".join([f\"{i+1}. {chunk.strip()}\" for i, chunk in enumerate(chunks) if chunk.strip()])\n",
    "\n",
    "    return answer, formatted_chunks\n",
    "\n",
    "theme = gr.themes.Base(\n",
    "    primary_hue=\"blue\",\n",
    "    secondary_hue=\"gray\",\n",
    "    neutral_hue=\"slate\"\n",
    ").set(\n",
    "    body_text_color=\"#f4f4f4\",\n",
    "    background_fill_primary=\"#1e1e2f\",\n",
    "    input_background_fill=\"#2b2b3c\",\n",
    "    button_primary_background_fill=\"#3b82f6\",\n",
    "    button_primary_text_color=\"#ffffff\",\n",
    "    button_primary_background_fill_hover=\"#2563eb\" # Darker hover\n",
    ")\n",
    "with gr.Blocks(theme = theme, title='PDF Q&A Chatbot') as demo:\n",
    "\n",
    "\n",
    "    with gr.Row(variant=\"panel\"):\n",
    "        with gr.Column(variant=\"panel\"):\n",
    "            pdf_viewer = PDF(label=\"Preview PDF\")\n",
    "        with gr.Column(variant=\"panel\"):\n",
    "            process_btn = gr.Button(\"Process PDF\")\n",
    "            status = gr.Textbox(label=\"Status\", interactive=False, lines = 1)\n",
    "\n",
    "    process_btn.click(\n",
    "        fn=handle_pdf_upload,\n",
    "        inputs=pdf_viewer,\n",
    "        outputs=status\n",
    "    )\n",
    "\n",
    "    with gr.Row(variant=\"panel\"):\n",
    "        question = gr.Textbox(label=\"Ask a question here\")\n",
    "        ask_btn = gr.Button(\"Ask\")\n",
    "\n",
    "    answer = gr.Textbox(label=\"Answer ( This might take some time, the larger your pdf, the longer it takes!)\")\n",
    "    chunks_box = gr.Textbox(label=\"We gave the response to your query from these retrieved chunks of text from the PDF text.\")\n",
    "\n",
    "    ask_btn.click(\n",
    "        fn=handle_question,\n",
    "        inputs=question,\n",
    "        outputs=[answer, chunks_box]\n",
    "    )\n",
    "\n",
    "demo.launch()\n"
   ]
  }
 ],
 "metadata": {
  "accelerator": "GPU",
  "colab": {
   "gpuType": "T4",
   "provenance": []
  },
  "kernelspec": {
   "display_name": "Python 3 (ipykernel)",
   "language": "python",
   "name": "python3"
  },
  "language_info": {
   "codemirror_mode": {
    "name": "ipython",
    "version": 3
   },
   "file_extension": ".py",
   "mimetype": "text/x-python",
   "name": "python",
   "nbconvert_exporter": "python",
   "pygments_lexer": "ipython3",
   "version": "3.12.8"
  }
 },
 "nbformat": 4,
 "nbformat_minor": 0
}
